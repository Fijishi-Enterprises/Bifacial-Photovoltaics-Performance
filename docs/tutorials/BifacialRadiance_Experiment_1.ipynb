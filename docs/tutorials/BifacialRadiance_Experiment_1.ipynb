{
 "cells": [
  {
   "cell_type": "markdown",
   "id": "4997ec7a",
   "metadata": {},
   "source": [
    "# Experiment 1 Fixed Tilt with Varying Parameters"
   ]
  },
  {
   "cell_type": "markdown",
   "id": "393445a3",
   "metadata": {},
   "source": [
    "This journal supports the process of designing a solar panel configuration to appropriately represent and Agripv setup with varying parameters.\n",
    "The goal of this journal is to test and compare the irradiance values when changing certain parameters. Only one paramater is changed at a time. \n",
    "The journal also uses these Radiance results to compare them to results calculated for the same parameters for bifacialVF, calculating accuracy as a percent difference.\n",
    "(<a href=\"http://localhost:8888/notebooks/Documents/GitHub/bifacialvf/docs/tutorials/Bifacialvf_Experiment_1.ipynb\">Bifacialvf_Experiment_1</a>)\n",
    "\n",
    "Details:\n",
    "*\tLocation: lat = 32.25, -110.9 (Tuscon, Arizona)\n",
    "*\tRacking: Fixed-tilt panels\n",
    "*\tPanel size: 1m x 2m                                    \n",
    "*\tAnalysis variations:\n",
    "<ul> <li> a.\tPanel tilt: would like to examine angles 20,30 degrees. \n",
    "<li> b.\tClearance Height: would like to look at multiple heights ([0.25, 0.5, 0.75, 1, 1.5, 2 m) </li> \n",
    "<li> c.\tGround Coverage Ratio (GCR) (E/W): would like to look at multiple GCRs (0.28, 0.33, 0.4, 0.6) </li> \n",
    "<li> d. Ygaps: Looking at multiple Ygaps in the modules. (0,.1,.2,.3,.5,1) </li>\n"
   ]
  },
  {
   "cell_type": "code",
   "execution_count": 26,
   "id": "064f0e47",
   "metadata": {},
   "outputs": [],
   "source": [
    "import bifacial_radiance\n",
    "import os\n",
    "from pathlib import Path\n",
    "import numpy as np\n",
    "import pandas as pd\n",
    "import seaborn as sns\n",
    "import matplotlib.pyplot as plt\n",
    "import bifacialvf"
   ]
  },
  {
   "cell_type": "code",
   "execution_count": 27,
   "id": "bd97e1fc",
   "metadata": {},
   "outputs": [],
   "source": [
    "testfolder = str(Path().resolve().parent.parent / 'bifacial_radiance' / 'TEMP' /  'Experiment_1')\n",
    "if not os.path.exists(testfolder):\n",
    "    os.makedirs(testfolder)\n",
    "    \n",
    "resultsfolder = os.path.join(testfolder, 'results')"
   ]
  },
  {
   "cell_type": "markdown",
   "id": "160eec85",
   "metadata": {},
   "source": [
    "### General Parameters and Variables"
   ]
  },
  {
   "cell_type": "code",
   "execution_count": 29,
   "id": "cd3730bb",
   "metadata": {},
   "outputs": [],
   "source": [
    "ft2m = 0.3048\n",
    "lat = 32.25\n",
    "lon = -110.9  #Lat and Long for Tuscon Arizona           \n",
    "\n",
    "# Constants\n",
    "azimuth = 180 #cycling through 3 different azimuths                 \n",
    "albedo = 0.31  # Changed from 0.31 for test 6/9/22\n",
    "x = 1\n",
    "y = 2 \n",
    "xgap =  0.02\n",
    "ygap = 0 # Meters\n",
    "# D (meters)is a variable that represents the spacing between rows, not-considering the collector areas.\n",
    "D = 2.8        \n",
    "nMods = 20\n",
    "nRows = 7\n",
    "numpanels = 1\n",
    "moduletype = 'test-module' #Need to make sure this is right module\n",
    "hpc = False\n",
    "sim_general_name = 'Rad_Experiment1'\n",
    "CW = y * numpanels\n",
    "    \n",
    "#Arrays for loops\n",
    "tilts = [20,30]  \n",
    "clearance_heights = np.array([0.25,0.5,0.75,1,1.5,2]) # height/ collector width\n",
    "GCRs = [0.28,0.33,0.4,0.6]\n",
    "ygaps = [0,.1,.2,.3,.5,1]\n",
    "\n",
    "#Defaults\n",
    "tilt_def = tilts[0]\n",
    "clearance_height_def = clearance_heights[2]\n",
    "GCR_def = GCRs[1]\n",
    "pitch_def = CW/GCR_def\n",
    "\n"
   ]
  },
  {
   "cell_type": "markdown",
   "id": "f27a69c5",
   "metadata": {},
   "source": [
    "## Create Geometry using gendaylit and view"
   ]
  },
  {
   "cell_type": "code",
   "execution_count": null,
   "id": "660b8172",
   "metadata": {},
   "outputs": [],
   "source": [
    "# This allows us to view how our setup looks before generating the cumulative sky and running the simulation.\n",
    "# Exit out of the popup to be able to comntinue.\n",
    "demo = bifacial_radiance.RadianceObj(sim_general_name,str(testfolder)) \n",
    "demo.setGround(albedo)\n",
    "epwfile = demo.getEPW(lat,lon)  \n",
    "metdata=demo.readWeatherFile(epwfile, starttime=starttime, endtime=endtime)\n",
    "timestamp = metdata.datetime.index(pd.to_datetime('2003-06-01 13:00:0 -8'))\n",
    "demo.gendaylit(timestamp)  # Use this to simulate only one hour at a time.\n",
    "azimuth_test = 180\n",
    "pitch = pitch_def\n",
    "sim_name = sim_general_name+'_az_'+str(round(azimuth,1))\n",
    "module = demo.makeModule(name=moduletype, x=x, y=y,numpanels = numpanels, xgap=xgap, ygap=ygap)\n",
    "sceneDict = {'tilt':tilt_def,'pitch':pitch,'clearance_height':clearance_height_def,'azimuth':azimuth_test,'nMods': nMods,'nRows': nRows}\n",
    "scene = demo.makeScene(moduletype=moduletype,sceneDict=sceneDict, radname = sim_name)\n",
    "octfile = demo.makeOct(demo.getfilelist()) \n",
    "!rvu -vf views\\front.vp -e .01 -pe 0.4 -vp 3.5 -20 22 Rad_Experiment1.oct"
   ]
  },
  {
   "cell_type": "markdown",
   "id": "8c761aa9",
   "metadata": {},
   "source": [
    "## Generate Sky for a month"
   ]
  },
  {
   "cell_type": "code",
   "execution_count": 31,
   "id": "5db1643e",
   "metadata": {},
   "outputs": [
    {
     "name": "stdout",
     "output_type": "stream",
     "text": [
      "path = C:\\Users\\jjones\\Documents\\GitHub\\bifacial_radiance\\bifacial_radiance\\TEMP\\Experiment_1\n",
      "Loading albedo, 1 value(s), 0.310 avg\n",
      "1 nonzero albedo values.\n",
      "Getting weather file: USA_AZ_Davis-Monthan.AFB.722745_TMY3.epw\n",
      " ... OK!\n",
      "8760 line in WeatherFile. Assuming this is a standard hourly WeatherFile for the year for purposes of saving Gencumulativesky temporary weather files in EPW folder.\n",
      "Coercing year to 2021\n",
      "Filtering dates\n",
      "Saving file EPWs\\metdata_temp.csv, # points: 8760\n",
      "Calculating Sun position for Metdata that is right-labeled  with a delta of -30 mins. i.e. 12 is 11:30 sunpos\n",
      "Loaded  EPWs\\metdata_temp.csv\n",
      "message: There were 418 sun up hours in this climate file\n",
      "Total Ibh/Lbh: 0.000000\n"
     ]
    },
    {
     "data": {
      "text/plain": [
       "'skies\\\\cumulative.rad'"
      ]
     },
     "execution_count": 31,
     "metadata": {},
     "output_type": "execute_result"
    }
   ],
   "source": [
    "starttime =pd.to_datetime('2021-6-01 01:00:0')\n",
    "endtime = pd.to_datetime('2021-6-30 23:00:0')\n",
    "demo = bifacial_radiance.RadianceObj(sim_general_name,str(testfolder)) \n",
    "demo.setGround(albedo)\n",
    "epwfile = demo.getEPW(lat,lon)  \n",
    "demo.readWeatherFile(epwfile, starttime=starttime, endtime=endtime, coerce_year = 2021) # Name and path\n",
    "demo.genCumSky()\n"
   ]
  },
  {
   "cell_type": "markdown",
   "id": "6fec5d71",
   "metadata": {},
   "source": [
    "## Setup length, width and sensors for scene"
   ]
  },
  {
   "cell_type": "code",
   "execution_count": 35,
   "id": "f59df87b",
   "metadata": {},
   "outputs": [],
   "source": [
    "# Parameters for scene size and sensor starts\n",
    "sensorsx_fb = [1,1]\n",
    "sensorsy_fb = [4,6*numpanels]\n",
    "sensorsx_gb = [1,1] \n",
    "sensorsy_gb = [100,101] "
   ]
  },
  {
   "cell_type": "markdown",
   "id": "715c925e",
   "metadata": {},
   "source": [
    "## Begining of Experiment. Part 1: Varying tilt"
   ]
  },
  {
   "cell_type": "code",
   "execution_count": null,
   "id": "cd4b97a0",
   "metadata": {},
   "outputs": [],
   "source": [
    "module = demo.makeModule(name=moduletype, x=x, y=y, xgap=xgap, ygap=ygap)\n",
    "for ti in range (0, len(tilts)):\n",
    "    #Build scene and run raytracing for both tilts\n",
    "    tilt = tilts[ti]\n",
    "    length = pitch_def*nRows+(y* np.cos(np.radians(tilt)))+2\n",
    "    yinc = pitch_def/(sensorsy_gb[0]-1)\n",
    "    writefiletitle = os.path.join(testfolder, 'Results_Test_Tilt_'+str(tilt)+'.csv')\n",
    "    sim_name = sim_general_name+'_tilt_'+str(tilt)\n",
    "    sceneDict = {'tilt':tilt,'pitch':pitch_def,'clearance_height':clearance_height_def,'azimuth':azimuth,'nMods': nMods,'nRows': nRows}\n",
    "    if tilt == 20:\n",
    "        scene = demo.makeScene(moduletype=moduletype,sceneDict=sceneDict, radname = sim_name)\n",
    "        octfile = demo.makeOct(demo.getfilelist())  \n",
    "        analysis = bifacial_radiance.AnalysisObj(octfile=octfile, name=sim_name)\n",
    "        frontscan, backscan = analysis.moduleAnalysis(scene=scene,sensorsx = sensorsx_gb,sensorsy=sensorsy_gb)\n",
    "        groundscan = frontscan.copy() \n",
    "        groundscan['yinc'] = yinc\n",
    "        groundscan['zstart'] = 0.05\n",
    "        groundscan['zinc'] = 0\n",
    "        groundscan['orient'] = '0 0 -1'\n",
    "    scene = demo.makeScene(moduletype=moduletype,sceneDict=sceneDict, radname = sim_name)\n",
    "    octfile = demo.makeOct(demo.getfilelist())\n",
    "    frontscan, backscan = analysis.moduleAnalysis(scene=scene, sensorsy=sensorsy_gb, sensorsx = sensorsx_gb)\n",
    "    analysis.analysis(octfile, name=sim_name+'_Module_Analysis', frontscan=frontscan, backscan=backscan)\n",
    "    analysis.analysis(octfile, name=sim_name+'_Ground_Analysis', frontscan=groundscan, backscan=backscan)\n",
    "    "
   ]
  },
  {
   "cell_type": "markdown",
   "id": "af34ca53",
   "metadata": {},
   "source": [
    "## Ground Irradiance Tilt Comparison Graphs"
   ]
  },
  {
   "cell_type": "code",
   "execution_count": null,
   "id": "4407d366",
   "metadata": {},
   "outputs": [],
   "source": [
    "for ti in range (0, len(tilts)):\n",
    "    tilt = tilts[ti]\n",
    "    from bifacialvf import loadVFresults\n",
    "    Radiance_File = r'C:\\Users\\jjones\\Documents\\GitHub\\bifacial_radiance\\bifacial_radiance\\TEMP\\Experiment_1\\results\\irr_Rad_Experiment1_tilt_'+str(tilt)+'_Ground_Analysis_Front.csv'\n",
    "    (data2, metadata) = loadVFresults(Radiance_File)\n",
    "    data_line = data2\n",
    "    #Flip the table that contains the data\n",
    "    data_line_f = data_line[::-1].reset_index(drop = True) \n",
    "    data_line_f.rename(columns={ data_line_f.columns[0]: \"x\", data_line_f.columns[1]: \"y\",data_line_f.columns[2]: \"z\", data_line_f.columns[3]: \"mattype\",data_line_f.columns[4]: \"Wm2Front\",}, inplace = True)\n",
    "    \n",
    "    yshift = data_line_f['y'] + 1 # Shift x_axis so it starts at 0 and not -1\n",
    "    ystep = (yshift/pitch_def)*100\n",
    "    plt.figure(1)\n",
    "    Radiance = plt.plot(ystep,data_line_f['Wm2Front']/1000, label=tilt)\n",
    "    plt.title('Bifacial Radiance')\n",
    "    plt.ylim([0, 260])\n",
    "    #Based on the length of the module and the pitch, in this analysis the module is located from 0-33% on the axis.\n",
    "    #This is marked out in green.\n",
    "    plt.axvspan(0, 33, alpha=.1, color='green')\n",
    "    plt.ylim([0, 260])\n",
    "    plt.xlim([0, 100])\n",
    "    plt.xlabel('Position between start of row and next row [%]')\n",
    "    plt.ylabel('Cumulative Insolation for the month [kWh/m2]')\n",
    "    plt.legend()\n",
    "   "
   ]
  },
  {
   "cell_type": "markdown",
   "id": "1ef74b36",
   "metadata": {},
   "source": [
    "## Find percent differences betweem Radiance and VF"
   ]
  },
  {
   "cell_type": "code",
   "execution_count": null,
   "id": "6d7cd2e0",
   "metadata": {},
   "outputs": [],
   "source": [
    "# Using full width half hight calculateions to find the midpoint of both Radiance and VF graphs. Then averaging the points below the midpoint\n",
    "# and comparing them to find percent differences.\n",
    "for ti in range (0, len(tilts)):\n",
    "    tilt = tilts[ti]\n",
    "    Radiance_File = r'C:\\Users\\jjones\\Documents\\GitHub\\bifacial_radiance\\bifacial_radiance\\TEMP\\Experiment_1\\results\\irr_Rad_Experiment1_tilt_'+str(tilt)+'_Ground_Analysis_Front.csv'\n",
    "    (data2, metadata) = loadVFresults(Radiance_File)\n",
    "    data_line = data2 \n",
    "    data_line_f = data_line[::-1].reset_index(drop = True) \n",
    "    data_line_f.rename(columns={ data_line_f.columns[0]: \"x\", data_line_f.columns[1]: \"y\",data_line_f.columns[2]: \"z\", data_line_f.columns[3]: \"mattype\",data_line_f.columns[4]: \"Wm2Front\",}, inplace = True)\n",
    "    #Isolate rows with Wm2Front values over 200,000\n",
    "    top = data_line_f.loc[data_line_f['Wm2Front'] >220000]\n",
    "    #Average rows for average of max\n",
    "    maxave = np.mean(top['Wm2Front'])\n",
    "    #Find Minimum of plot\n",
    "    minpoint=np.min(data_line_f['Wm2Front'])\n",
    "    #Find midpoint of pot\n",
    "    Mid = (maxave-minpoint)/2\n",
    "    print('Rad Mid',Mid)\n",
    "    Midr = Mid + minpoint\n",
    "    #Isolate all rows that are below the mid point. There should be two x values corresponding to mid point\n",
    "    line = data_line_f.loc[data_line_f['Wm2Front'] < Midr]\n",
    "    #Average these for the average for Radiance\n",
    "    Radave = np.mean(line['Wm2Front'])\n",
    "    print('Average Radiance is',Radave)\n",
    "\n",
    "    #Do the Same for Bifacial VF\n",
    "    (data, metadata) = loadVFresults(r'C:\\Users\\jjones\\Documents\\GitHub\\bifacialvf\\bifacialvf\\TEMP\\Experiment_1\\Results_Test_Tilt_'+str(tilt)+'.csv')\n",
    "    #Work with data in resultfile\n",
    "    data.set_index(pd.to_datetime(data['date']), inplace=True, drop=True)\n",
    "    data.index = data.index.map(lambda t: t.replace(year=2021))   # Chagning to be the same year\n",
    "    groundIrrads = data['Ground Irradiance Values'].str.strip('[]').str.split(' ', expand=True).astype(float)\n",
    "    df = groundIrrads.groupby([pd.Grouper(freq='M')]).sum().T\n",
    "    # I'm sure there's a fancier way to do this but hey, this works.\n",
    "    df.rename(columns={ df.columns[0]: \"Jan\", df.columns[1]: \"Feb\",df.columns[2]: \"Mar\", df.columns[3]: \"Apr\",\n",
    "\n",
    "                       df.columns[4]: \"May\",df.columns[5]: \"Jun\",df.columns[6]: \"Jul\",df.columns[7]: \"Aug\",\n",
    "                       df.columns[8]: \"Sep\",df.columns[9]: \"Oct\",df.columns[10]: \"Nov\",df.columns[11]: \"Dec\"    }, inplace = True)\n",
    "    topvf = df.loc[df['Jun'] >220000]\n",
    "    #Average rows for average of max\n",
    "    maxavevf = np.mean(topvf['Jun'])\n",
    "    #Find Minimum of plot\n",
    "    minpointvf=np.min(df['Jun'])\n",
    "    #Find midpoint of pot\n",
    "    Midvf = (maxavevf-minpointvf)/2\n",
    "    print('VF mid',Midvf)\n",
    "    Midrvf = Midvf + minpointvf\n",
    "    #Isolate all rows that are below the mid point. There should be two x values corresponding to mid point\n",
    "    linevf = df.loc[df['Jun'] < Midrvf]\n",
    "    #Average these for the average for Radiance\n",
    "    VFave = np.mean(linevf['Jun'])\n",
    "    print('Average VF is',VFave)\n",
    "\n",
    "    Pdif = abs((Radave-VFave)/((Radave+VFave)/2)*100)\n",
    "    print('For tilt =',tilt,'difference is',Pdif,'%')"
   ]
  },
  {
   "cell_type": "markdown",
   "id": "be7c8eaa",
   "metadata": {},
   "source": [
    "## Back of Module Comparison"
   ]
  },
  {
   "cell_type": "code",
   "execution_count": null,
   "id": "6fe9921a",
   "metadata": {},
   "outputs": [],
   "source": [
    "## Compares the irradiance that reaches the back of the module for the two tilts\n",
    "for ti in range (0, len(tilts)):\n",
    "    tilt = tilts[ti]\n",
    "    from bifacialvf import loadVFresults\n",
    "    Radiance_File = r'C:\\Users\\jjones\\Documents\\GitHub\\bifacial_radiance\\bifacial_radiance\\TEMP\\Experiment_1\\results\\irr_Rad_Experiment1_tilt_'+str(tilt)+'_Ground_Analysis_Back.csv'\n",
    "    print(Radiance_File)\n",
    "    (data2, metadata) = loadVFresults(Radiance_File)\n",
    "\n",
    "    data_line = data2\n",
    "    data_line_f = data_line[::-1].reset_index(drop = True) \n",
    "    data_line_f.rename(columns={ data_line_f.columns[0]: \"x\", data_line_f.columns[1]: \"y\",data_line_f.columns[2]: \"z\", data_line_f.columns[3]: \"mattype\",data_line_f.columns[4]: \"Wm2Back\",}, inplace = True) \n",
    "    yshift = data_line_f['y'] + 1 # Shift x_axis so it starts at 0 and not -1\n",
    "    ystep = (yshift/CW)*100\n",
    "    plt.figure(1)\n",
    "    Radiance = plt.plot(ystep,data_line_f['Wm2Back']/1000, label=tilt)\n",
    "    plt.title('Bifacial Radiance Back of Module tilt comparison')\n",
    "    plt.xlabel('Position between start of row and next row [%]')\n",
    "    plt.ylabel('Cumulative Insolation for the month [kWh/m2]')\n",
    "    plt.legend()"
   ]
  },
  {
   "cell_type": "markdown",
   "id": "32128120",
   "metadata": {},
   "source": [
    "##  Part 2: Varying Clearance Height"
   ]
  },
  {
   "cell_type": "code",
   "execution_count": 36,
   "id": "0e6a639d",
   "metadata": {},
   "outputs": [
    {
     "name": "stdout",
     "output_type": "stream",
     "text": [
      "\n",
      "Module Name: test-module\n",
      "Module test-module updated in module.json\n",
      "Pre-existing .rad file objects\\test-module.rad will be overwritten\n",
      "\n",
      "Warning:  input `moduletype` is deprecated. Use kwarg `module` instead\n",
      "Created Rad_Experiment1.oct\n",
      "Warning:  input `moduletype` is deprecated. Use kwarg `module` instead\n",
      "Created Rad_Experiment1.oct\n",
      "Linescan in process: Rad_Experiment1_ClearanceHeight_0.25_Module_Analysis_Front\n",
      "Linescan in process: Rad_Experiment1_ClearanceHeight_0.25_Module_Analysis_Back\n",
      "Saved: results\\irr_Rad_Experiment1_ClearanceHeight_0.25_Module_Analysis_Front.csv\n",
      "Saved: results\\irr_Rad_Experiment1_ClearanceHeight_0.25_Module_Analysis_Back.csv\n",
      "Linescan in process: Rad_Experiment1_ClearanceHeight_0.25_Ground_Analysis_Front\n",
      "Linescan in process: Rad_Experiment1_ClearanceHeight_0.25_Ground_Analysis_Back\n",
      "Saved: results\\irr_Rad_Experiment1_ClearanceHeight_0.25_Ground_Analysis_Front.csv\n",
      "Saved: results\\irr_Rad_Experiment1_ClearanceHeight_0.25_Ground_Analysis_Back.csv\n",
      "Warning:  input `moduletype` is deprecated. Use kwarg `module` instead\n",
      "Created Rad_Experiment1.oct\n",
      "Warning:  input `moduletype` is deprecated. Use kwarg `module` instead\n",
      "Created Rad_Experiment1.oct\n",
      "Linescan in process: Rad_Experiment1_ClearanceHeight_0.5_Module_Analysis_Front\n",
      "Linescan in process: Rad_Experiment1_ClearanceHeight_0.5_Module_Analysis_Back\n",
      "Saved: results\\irr_Rad_Experiment1_ClearanceHeight_0.5_Module_Analysis_Front.csv\n",
      "Saved: results\\irr_Rad_Experiment1_ClearanceHeight_0.5_Module_Analysis_Back.csv\n",
      "Linescan in process: Rad_Experiment1_ClearanceHeight_0.5_Ground_Analysis_Front\n",
      "Linescan in process: Rad_Experiment1_ClearanceHeight_0.5_Ground_Analysis_Back\n",
      "Saved: results\\irr_Rad_Experiment1_ClearanceHeight_0.5_Ground_Analysis_Front.csv\n",
      "Saved: results\\irr_Rad_Experiment1_ClearanceHeight_0.5_Ground_Analysis_Back.csv\n",
      "Warning:  input `moduletype` is deprecated. Use kwarg `module` instead\n",
      "Created Rad_Experiment1.oct\n",
      "Warning:  input `moduletype` is deprecated. Use kwarg `module` instead\n",
      "Created Rad_Experiment1.oct\n",
      "Linescan in process: Rad_Experiment1_ClearanceHeight_0.75_Module_Analysis_Front\n",
      "Linescan in process: Rad_Experiment1_ClearanceHeight_0.75_Module_Analysis_Back\n",
      "Saved: results\\irr_Rad_Experiment1_ClearanceHeight_0.75_Module_Analysis_Front.csv\n",
      "Saved: results\\irr_Rad_Experiment1_ClearanceHeight_0.75_Module_Analysis_Back.csv\n",
      "Linescan in process: Rad_Experiment1_ClearanceHeight_0.75_Ground_Analysis_Front\n",
      "Linescan in process: Rad_Experiment1_ClearanceHeight_0.75_Ground_Analysis_Back\n",
      "Saved: results\\irr_Rad_Experiment1_ClearanceHeight_0.75_Ground_Analysis_Front.csv\n",
      "Saved: results\\irr_Rad_Experiment1_ClearanceHeight_0.75_Ground_Analysis_Back.csv\n",
      "Warning:  input `moduletype` is deprecated. Use kwarg `module` instead\n",
      "Created Rad_Experiment1.oct\n",
      "Warning:  input `moduletype` is deprecated. Use kwarg `module` instead\n",
      "Created Rad_Experiment1.oct\n",
      "Linescan in process: Rad_Experiment1_ClearanceHeight_1.0_Module_Analysis_Front\n",
      "Linescan in process: Rad_Experiment1_ClearanceHeight_1.0_Module_Analysis_Back\n",
      "Saved: results\\irr_Rad_Experiment1_ClearanceHeight_1.0_Module_Analysis_Front.csv\n",
      "Saved: results\\irr_Rad_Experiment1_ClearanceHeight_1.0_Module_Analysis_Back.csv\n",
      "Linescan in process: Rad_Experiment1_ClearanceHeight_1.0_Ground_Analysis_Front\n",
      "Linescan in process: Rad_Experiment1_ClearanceHeight_1.0_Ground_Analysis_Back\n",
      "Saved: results\\irr_Rad_Experiment1_ClearanceHeight_1.0_Ground_Analysis_Front.csv\n",
      "Saved: results\\irr_Rad_Experiment1_ClearanceHeight_1.0_Ground_Analysis_Back.csv\n",
      "Warning:  input `moduletype` is deprecated. Use kwarg `module` instead\n",
      "Created Rad_Experiment1.oct\n",
      "Warning:  input `moduletype` is deprecated. Use kwarg `module` instead\n",
      "Created Rad_Experiment1.oct\n",
      "Linescan in process: Rad_Experiment1_ClearanceHeight_1.5_Module_Analysis_Front\n",
      "Linescan in process: Rad_Experiment1_ClearanceHeight_1.5_Module_Analysis_Back\n",
      "Saved: results\\irr_Rad_Experiment1_ClearanceHeight_1.5_Module_Analysis_Front.csv\n",
      "Saved: results\\irr_Rad_Experiment1_ClearanceHeight_1.5_Module_Analysis_Back.csv\n",
      "Linescan in process: Rad_Experiment1_ClearanceHeight_1.5_Ground_Analysis_Front\n",
      "Linescan in process: Rad_Experiment1_ClearanceHeight_1.5_Ground_Analysis_Back\n",
      "Saved: results\\irr_Rad_Experiment1_ClearanceHeight_1.5_Ground_Analysis_Front.csv\n",
      "Saved: results\\irr_Rad_Experiment1_ClearanceHeight_1.5_Ground_Analysis_Back.csv\n",
      "Warning:  input `moduletype` is deprecated. Use kwarg `module` instead\n",
      "Created Rad_Experiment1.oct\n",
      "Warning:  input `moduletype` is deprecated. Use kwarg `module` instead\n",
      "Created Rad_Experiment1.oct\n",
      "Linescan in process: Rad_Experiment1_ClearanceHeight_2.0_Module_Analysis_Front\n",
      "Linescan in process: Rad_Experiment1_ClearanceHeight_2.0_Module_Analysis_Back\n",
      "Saved: results\\irr_Rad_Experiment1_ClearanceHeight_2.0_Module_Analysis_Front.csv\n",
      "Saved: results\\irr_Rad_Experiment1_ClearanceHeight_2.0_Module_Analysis_Back.csv\n",
      "Linescan in process: Rad_Experiment1_ClearanceHeight_2.0_Ground_Analysis_Front\n",
      "Linescan in process: Rad_Experiment1_ClearanceHeight_2.0_Ground_Analysis_Back\n",
      "Saved: results\\irr_Rad_Experiment1_ClearanceHeight_2.0_Ground_Analysis_Front.csv\n",
      "Saved: results\\irr_Rad_Experiment1_ClearanceHeight_2.0_Ground_Analysis_Back.csv\n"
     ]
    }
   ],
   "source": [
    "module = demo.makeModule(name=moduletype, x=x, y=y, xgap=xgap, ygap=ygap)\n",
    "for ch in range (0, len(clearance_heights)):\n",
    "    #Build scene and run raytracing for all clearance heights\n",
    "    clearance_height = clearance_heights[ch]\n",
    "    length = pitch_def*nRows+(y* np.cos(np.radians(tilt_def)))+2\n",
    "    yinc = pitch_def/(sensorsy_gb[0]-1)\n",
    "    writefiletitle = os.path.join(testfolder, 'Results_Test_ClearanceHeight_'+str(clearance_height)+'.csv')\n",
    "    sim_name = sim_general_name+'_ClearanceHeight_'+str(clearance_height)\n",
    "    sceneDict = {'tilt':tilt_def,'pitch':pitch_def,'clearance_height':clearance_height,'azimuth':azimuth,'nMods': nMods,'nRows': nRows}\n",
    "    if tilt_def == 20:\n",
    "        scene = demo.makeScene(moduletype=moduletype,sceneDict=sceneDict, radname = sim_name)\n",
    "        octfile = demo.makeOct(demo.getfilelist())  \n",
    "        analysis = bifacial_radiance.AnalysisObj(octfile=octfile, name=sim_name)\n",
    "        frontscan, backscan = analysis.moduleAnalysis(scene=scene,sensorsx = sensorsx_gb,sensorsy=sensorsy_gb)\n",
    "        groundscan = frontscan.copy() \n",
    "        groundscan['yinc'] = yinc\n",
    "        groundscan['zstart'] = 0.05\n",
    "        groundscan['zinc'] = 0\n",
    "        groundscan['orient'] = '0 0 -1'\n",
    "    scene = demo.makeScene(moduletype=moduletype,sceneDict=sceneDict, radname = sim_name)\n",
    "    octfile = demo.makeOct(demo.getfilelist())\n",
    "    frontscan, backscan = analysis.moduleAnalysis(scene=scene, sensorsy=sensorsy_gb, sensorsx = sensorsx_gb)\n",
    "    analysis.analysis(octfile, name=sim_name+'_Module_Analysis', frontscan=frontscan, backscan=backscan)\n",
    "    analysis.analysis(octfile, name=sim_name+'_Ground_Analysis', frontscan=groundscan, backscan=backscan)\n"
   ]
  },
  {
   "cell_type": "markdown",
   "id": "23116589",
   "metadata": {},
   "source": [
    "## Ground Irradiance Clearance Height Comparison"
   ]
  },
  {
   "cell_type": "code",
   "execution_count": 37,
   "id": "ad44841f",
   "metadata": {},
   "outputs": [
    {
     "data": {
      "image/png": "[encoded data removed]",
      "text/plain": [
       "<Figure size 432x288 with 1 Axes>"
      ]
     },
     "metadata": {
      "needs_background": "light"
     },
     "output_type": "display_data"
    }
   ],
   "source": [
    "for ch in range (0, len(clearance_heights)):\n",
    "    clearance_height = clearance_heights[ch]\n",
    "    from bifacialvf import loadVFresults\n",
    "    Radiance_File = r'C:\\Users\\jjones\\Documents\\GitHub\\bifacial_radiance\\bifacial_radiance\\TEMP\\Experiment_1\\results\\irr_Rad_Experiment1_ClearanceHeight_'+str(clearance_height)+'_Ground_Analysis_Front.csv'\n",
    "    (data2, metadata) = loadVFresults(Radiance_File)\n",
    "    data_line = data2\n",
    "    data_line_f = data_line[::-1].reset_index(drop = True) \n",
    "    data_line_f.rename(columns={ data_line_f.columns[0]: \"x\", data_line_f.columns[1]: \"y\",data_line_f.columns[2]: \"z\", data_line_f.columns[3]: \"mattype\",data_line_f.columns[4]: \"Wm2Front\",}, inplace = True) \n",
    "    yshift = data_line_f['y'] + 1 # Shift x_axis so it starts at 0 and not -1\n",
    "    ystep = (yshift/pitch_def)*100\n",
    "    module_end = (2/pitch_def)*100 #Percentage between rows where the module ends\n",
    "    plt.figure(1)\n",
    "    Radiance = plt.plot(ystep,data_line_f['Wm2Front']/1000, label=clearance_height)\n",
    "    plt.ylim([0, 260])\n",
    "    plt.xlim([0, 100])\n",
    "    plt.title('Bifacial Radiance')\n",
    "    plt.xlabel('Position between start of row and next row [%]')\n",
    "    plt.ylabel('Cumulative Insolation for the month [kWh/m2]')\n",
    "    plt.axvspan(0, module_end, alpha=.05, color='green')\n",
    "    plt.legend()"
   ]
  },
  {
   "cell_type": "code",
   "execution_count": null,
   "id": "46848b30",
   "metadata": {},
   "outputs": [],
   "source": [
    "print(df)"
   ]
  },
  {
   "cell_type": "code",
   "execution_count": null,
   "id": "d5a38363",
   "metadata": {},
   "outputs": [],
   "source": [
    "#Experiment with averageing\n",
    "module_end = 2\n",
    "module_endvf = (2/pitch_def)*100\n",
    "# Using full width half hight calculateions to find the midpoint of both Radiance and VF graphs. Then averaging the points below the midpoint\n",
    "# and comparing them to find percent differences.\n",
    "from bifacialvf import loadVFresults\n",
    "for ch in range (0, len(clearance_heights)):\n",
    "    clearance_height = clearance_heights[ch]\n",
    "    Radiance_File = r'C:\\Users\\jjones\\Documents\\GitHub\\bifacial_radiance\\bifacial_radiance\\TEMP\\Experiment_1\\results\\irr_Rad_Experiment1_ClearanceHeight_'+str(clearance_height)+'_Ground_Analysis_Front.csv'\n",
    "    (data2, metadata) = loadVFresults(Radiance_File)\n",
    "    data_line = data2 \n",
    "    data_line_f = data_line[::-1].reset_index(drop = True) \n",
    "    data_line_f.rename(columns={ data_line_f.columns[0]: \"x\", data_line_f.columns[1]: \"y\",data_line_f.columns[2]: \"z\", data_line_f.columns[3]: \"mattype\",data_line_f.columns[4]: \"Wm2Front\",}, inplace = True)\n",
    "    #Isolate rows with Wm2Front values over 220,000\n",
    "    modulerad = data_line_f.loc[data_line_f['y']+1 <module_end]\n",
    "    #Average rows for average of max\n",
    "    Radave = np.mean(modulerad['Wm2Front'])\n",
    "    #Isolate all rows that are below the mid point. There should be two x values corresponding to mid point\n",
    "    #line = data_line_f.loc[data_line_f['Wm2Front'] < Midr]\n",
    "    #Average these for the average for Radiance\n",
    "    #Radave = np.mean(line['Wm2Front'])\n",
    "    #print('Average Radiance is',Radave)\n",
    "\n",
    "    #Do the Same for Bifacial VF\n",
    "    (data, metadata) = loadVFresults(r'C:\\Users\\jjones\\Documents\\GitHub\\bifacialvf\\bifacialvf\\TEMP\\Experiment_1\\Results_Test_ClearanceHeight_'+str(clearance_height)+'.csv')\n",
    "    #Work with data in resultfile\n",
    "    data.set_index(pd.to_datetime(data['date']), inplace=True, drop=True)\n",
    "    data.index = data.index.map(lambda t: t.replace(year=2021))   # Chagning to be the same year\n",
    "    groundIrrads = data['Ground Irradiance Values'].str.strip('[]').str.split(' ', expand=True).astype(float)\n",
    "    df = groundIrrads.groupby([pd.Grouper(freq='M')]).sum().T\n",
    "    # I'm sure there's a fancier way to do this but hey, this works.\n",
    "    df.rename(columns={ df.columns[0]: \"Jan\", df.columns[1]: \"Feb\",df.columns[2]: \"Mar\", df.columns[3]: \"Apr\",\n",
    "\n",
    "                       df.columns[4]: \"May\",df.columns[5]: \"Jun\",df.columns[6]: \"Jul\",df.columns[7]: \"Aug\",\n",
    "                       df.columns[8]: \"Sep\",df.columns[9]: \"Oct\",df.columns[10]: \"Nov\",df.columns[11]: \"Dec\"    }, inplace = True)\n",
    "    #modulevf = df.loc[df['Jun'] < 120000]\n",
    "    moduleJ = df['Jun']\n",
    "    module_test = moduleJ.iloc[:33]\n",
    "    #Average rows for average of max\n",
    "    Vfave = np.mean(module_test)\n",
    "    #Find Minimum of plot\n",
    "    #minpointvf=np.min(df['Jun'])\n",
    "    #Find midpoint of pot\n",
    "    #Midvf = (maxavevf-minpointvf)/2\n",
    "    #Midrvf = minpointvf + Midvf\n",
    "    #Isolate all rows that are below the mid point. There should be two x values corresponding to mid point\n",
    "    #linevf = df.loc[df['Jun'] < Midrvf]\n",
    "    #Average these for the average for Radiance\n",
    "    #VFave = np.mean(linevf['Jun'])\n",
    "    #print('Average VF is',VFave)\n",
    "\n",
    "    Pdif = abs((Radave-VFave)/((Radave+VFave)/2)*100)\n",
    "    print('For Clearance Height =',clearance_height,'difference is',Pdif,'%')"
   ]
  },
  {
   "cell_type": "code",
   "execution_count": null,
   "id": "55d17c5f",
   "metadata": {},
   "outputs": [],
   "source": [
    "print(modulerad)"
   ]
  },
  {
   "cell_type": "markdown",
   "id": "27fd9efc",
   "metadata": {},
   "source": [
    "## VF and Radiance Clearance Height Percent Differences"
   ]
  },
  {
   "cell_type": "code",
   "execution_count": 215,
   "id": "9e8d9ee6",
   "metadata": {},
   "outputs": [
    {
     "name": "stdout",
     "output_type": "stream",
     "text": [
      "For Clearance Height = 0.25 difference is 7.68052937161505 %, Rad: 28167.306258064527 VF: 26083.915738125786 2.083390519938741\n",
      "For Clearance Height = 0.5 difference is 22.39369281591834 %, Rad: 34457.01258064517 VF: 27517.78921225681 6.939223368388361\n",
      "For Clearance Height = 0.75 difference is 26.99369992243024 %, Rad: 44396.38312499999 VF: 33837.30025946647 10.55908286553352\n",
      "For Clearance Height = 1.0 difference is 28.40652430052782 %, Rad: 50638.65468749999 VF: 38042.970922934415 12.595683764565576\n",
      "For Clearance Height = 1.5 difference is 25.901150672043304 %, Rad: 61141.719375 VF: 47121.065817739036 14.020653557260964\n",
      "For Clearance Height = 2.0 difference is 22.541633020643133 %, Rad: 71386.24062499999 VF: 56924.56514387499 14.461675481124999\n"
     ]
    }
   ],
   "source": [
    "# Using full width half hight calculateions to find the midpoint of both Radiance and VF graphs. Then averaging the points below the midpoint\n",
    "# and comparing them to find percent differences.\n",
    "from bifacialvf import loadVFresults\n",
    "for ch in range (0, len(clearance_heights)):\n",
    "    clearance_height = clearance_heights[ch]\n",
    "    Radiance_File = r'C:\\Users\\jjones\\Documents\\GitHub\\bifacial_radiance\\bifacial_radiance\\TEMP\\Experiment_1\\results\\irr_Rad_Experiment1_ClearanceHeight_'+str(clearance_height)+'_Ground_Analysis_Front.csv'\n",
    "    (data2, metadata) = loadVFresults(Radiance_File)\n",
    "    data_line = data2 \n",
    "    data_line_f = data_line[::-1].reset_index(drop = True) \n",
    "    data_line_f.rename(columns={ data_line_f.columns[0]: \"x\", data_line_f.columns[1]: \"y\",data_line_f.columns[2]: \"z\", data_line_f.columns[3]: \"mattype\",data_line_f.columns[4]: \"Wm2Front\",}, inplace = True)\n",
    "    #Isolate rows with Wm2Front values over 220,000\n",
    "    top = data_line_f.loc[data_line_f['Wm2Front'] >200000]\n",
    "    #Average rows for average of max\n",
    "    maxave = np.mean(top['Wm2Front'])\n",
    "    #Find Minimum of plot\n",
    "    minpoint=np.min(data_line_f['Wm2Front'])\n",
    "    #Find midpoint of pot\n",
    "    Mid = (maxave-minpoint)/2\n",
    "    Midr = Mid + minpoint\n",
    "    #Isolate all rows that are below the mid point. There should be two x values corresponding to mid point\n",
    "    line = data_line_f.loc[data_line_f['Wm2Front'] < Midr]\n",
    "    #Average these for the average for Radiance\n",
    "    Radave = np.mean(line['Wm2Front'])\n",
    "    #print('Average Radiance is',Radave)\n",
    "\n",
    "    #Do the Same for Bifacial VF\n",
    "    (data, metadata) = loadVFresults(r'C:\\Users\\jjones\\Documents\\GitHub\\bifacialvf\\bifacialvf\\TEMP\\Experiment_1\\Results_Test_ClearanceHeight_'+str(clearance_height)+'.csv')\n",
    "    #Work with data in resultfile\n",
    "    data.set_index(pd.to_datetime(data['date']), inplace=True, drop=True)\n",
    "    data.index = data.index.map(lambda t: t.replace(year=2021))   # Chagning to be the same year\n",
    "    groundIrrads = data['Ground Irradiance Values'].str.strip('[]').str.split(' ', expand=True).astype(float)\n",
    "    df = groundIrrads.groupby([pd.Grouper(freq='M')]).sum().T\n",
    "    # I'm sure there's a fancier way to do this but hey, this works.\n",
    "    df.rename(columns={ df.columns[0]: \"Jan\", df.columns[1]: \"Feb\",df.columns[2]: \"Mar\", df.columns[3]: \"Apr\",\n",
    "\n",
    "                       df.columns[4]: \"May\",df.columns[5]: \"Jun\",df.columns[6]: \"Jul\",df.columns[7]: \"Aug\",\n",
    "                       df.columns[8]: \"Sep\",df.columns[9]: \"Oct\",df.columns[10]: \"Nov\",df.columns[11]: \"Dec\"    }, inplace = True)\n",
    "    topvf = df.loc[df['Jun'] >200000]\n",
    "    #Average rows for average of max\n",
    "    maxavevf = np.mean(topvf['Jun'])\n",
    "    #Find Minimum of plot\n",
    "    minpointvf=np.min(df['Jun'])\n",
    "    #Find midpoint of pot\n",
    "    Midvf = (maxavevf-minpointvf)/2\n",
    "    Midrvf = minpointvf + Midvf\n",
    "    #Isolate all rows that are below the mid point. There should be two x values corresponding to mid point\n",
    "    linevf = df.loc[df['Jun'] < Midrvf]\n",
    "    #Average these for the average for Radiance\n",
    "    VFave = np.mean(linevf['Jun'])\n",
    "    #print('Average VF is',VFave)\n",
    "    ranges = abs(Radave - VFave)/1000\n",
    "\n",
    "    Pdif = abs((Radave-VFave)/((Radave+VFave)/2)*100)\n",
    "    print('For Clearance Height =',clearance_height,'difference is',Pdif,'%, Rad:',Radave,'VF:',VFave, ranges)"
   ]
  },
  {
   "cell_type": "code",
   "execution_count": 223,
   "id": "4248adda",
   "metadata": {},
   "outputs": [
    {
     "data": {
      "text/plain": [
       "pandas.core.indexes.datetimes.DatetimeIndex"
      ]
     },
     "execution_count": 223,
     "metadata": {},
     "output_type": "execute_result"
    }
   ],
   "source": [
    "type(groundIrrads.index)"
   ]
  },
  {
   "cell_type": "markdown",
   "id": "fa8c17df",
   "metadata": {},
   "source": [
    "## Back of Module Clearance Height Comparison"
   ]
  },
  {
   "cell_type": "code",
   "execution_count": null,
   "id": "ea4c4528",
   "metadata": {},
   "outputs": [],
   "source": [
    "for ch in range (0, len(clearance_heights)):\n",
    "    clearance_height = clearance_heights[ch]\n",
    "    from bifacialvf import loadVFresults\n",
    "    Radiance_File = r'C:\\Users\\jjones\\Documents\\GitHub\\bifacial_radiance\\bifacial_radiance\\TEMP\\Experiment_1\\results\\irr_Rad_Experiment1_ClearanceHeight_'+str(clearance_height)+'_Ground_Analysis_Back.csv'\n",
    "    (data2, metadata) = loadVFresults(Radiance_File)\n",
    "\n",
    "    data_line = data2\n",
    "    data_line_f = data_line[::-1].reset_index(drop = True) \n",
    "    data_line_f.rename(columns={ data_line_f.columns[0]: \"x\", data_line_f.columns[1]: \"y\",data_line_f.columns[2]: \"z\", data_line_f.columns[3]: \"mattype\",data_line_f.columns[4]: \"Wm2Back\",}, inplace = True) \n",
    "    yshift = data_line_f['y'] + 1 # Shift x_axis so it starts at 0 and not -1\n",
    "    ystep = (yshift/CW)*100\n",
    "    plt.figure(1)\n",
    "    Radiance = plt.plot(ystep,data_line_f['Wm2Back']/1000, label=clearance_height)\n",
    "    plt.title('Bifacial Radiance Back of Module Clearance_Height comparison')\n",
    "    plt.xlabel('Position between start of row and next row [%]')\n",
    "    plt.ylabel('Cumulative Insolation for the month [kWh/m2]')\n",
    "    plt.legend()"
   ]
  },
  {
   "cell_type": "markdown",
   "id": "6ef77097",
   "metadata": {},
   "source": [
    "## Part 3 Varying GCR"
   ]
  },
  {
   "cell_type": "code",
   "execution_count": null,
   "id": "406d7094",
   "metadata": {},
   "outputs": [],
   "source": [
    "module = demo.makeModule(name=moduletype, x=x, y=y, xgap=xgap, ygap=ygap)\n",
    "for gc in range (0, len(GCRs)):\n",
    "    #Build scene and run raytracing for all GCrs\n",
    "    GCR = GCRs[gc]\n",
    "    pitch = CW/GCR\n",
    "    length = pitch*nRows+(y* np.cos(np.radians(tilt_def)))+2\n",
    "    yinc = pitch/(sensorsy_gb[0]-1) \n",
    "    writefiletitle = os.path.join(testfolder, 'Results_Test_GCR_'+str(GCR)+'.csv')\n",
    "    sim_name = sim_general_name+'_Oct_GCR_'+str(GCR)\n",
    "    sceneDict = {'tilt':tilt_def,'pitch':pitch,'clearance_height':clearance_height_def,'azimuth':azimuth,'nMods': nMods,'nRows': nRows}\n",
    "    if tilt_def == 20:\n",
    "        scene = demo.makeScene(moduletype=moduletype,sceneDict=sceneDict, radname = sim_name)\n",
    "        octfile = demo.makeOct(demo.getfilelist())  \n",
    "        analysis = bifacial_radiance.AnalysisObj(octfile=octfile, name=sim_name)\n",
    "        frontscan, backscan = analysis.moduleAnalysis(scene=scene,sensorsx = sensorsx_gb,sensorsy=sensorsy_gb)\n",
    "        groundscan = frontscan.copy() \n",
    "        groundscan['yinc'] = yinc\n",
    "        groundscan['zstart'] = 0.05\n",
    "        groundscan['zinc'] = 0\n",
    "        groundscan['orient'] = '0 0 -1'\n",
    "    scene = demo.makeScene(moduletype=moduletype,sceneDict=sceneDict, radname = sim_name)\n",
    "    octfile = demo.makeOct(demo.getfilelist())\n",
    "    frontscan, backscan = analysis.moduleAnalysis(scene=scene, sensorsy=sensorsy_gb, sensorsx = sensorsx_gb)\n",
    "    analysis.analysis(octfile, name=sim_name+'_Module_Analysis', frontscan=frontscan, backscan=backscan)\n",
    "    analysis.analysis(octfile, name=sim_name+'_Ground_Analysis', frontscan=groundscan, backscan=backscan)"
   ]
  },
  {
   "cell_type": "markdown",
   "id": "c80f7089",
   "metadata": {},
   "source": [
    "## Ground Irradiance GCR Comparison Graphs"
   ]
  },
  {
   "cell_type": "code",
   "execution_count": null,
   "id": "de9a410d",
   "metadata": {},
   "outputs": [],
   "source": [
    "for gc in range (0, len(GCRs)):\n",
    "    GCR = GCRs[gc]\n",
    "    from bifacialvf import loadVFresults\n",
    "    Radiance_File = r'C:\\Users\\jjones\\Documents\\GitHub\\bifacial_radiance\\bifacial_radiance\\TEMP\\Experiment_1\\results\\irr_Rad_Experiment1_Oct_GCR_'+str(GCR)+'_Ground_Analysis_Front.csv'\n",
    "    print(Radiance_File)\n",
    "    (data2, metadata) = loadVFresults(Radiance_File)\n",
    "    \n",
    "    pitch = CW/GCR\n",
    "    module_end = (2/pitch)*100 #Percentage between rows where the module ends)\n",
    "    length = pitch*nRows+(y* np.cos(np.radians(tilt_def)))+2\n",
    "    print(length)\n",
    "    yinc = -length/(sensorsy_gb[0]-1)\n",
    "    \n",
    "    data_line = data2\n",
    "    data_line_f = data_line[::-1].reset_index(drop = True) #Flip the column\n",
    "    data_line_f.rename(columns={ data_line_f.columns[0]: \"x\", data_line_f.columns[1]: \"y\",data_line_f.columns[2]: \"z\", data_line_f.columns[3]: \"mattype\",data_line_f.columns[4]: \"Wm2Front\",}, inplace = True)\n",
    "    \n",
    "    yshift = data_line_f['y'] + 1 # Shift x_axis so it starts at 0 and not -1\n",
    "    ystep = (yshift/pitch)*100\n",
    "\n",
    "    plt.figure(1)\n",
    "    Radiance = plt.plot(ystep,data_line_f['Wm2Front']/1000, label=GCR)\n",
    "    plt.ylim([0, 260])\n",
    "    plt.xlim([0, 100])\n",
    "    plt.title('Bifacial Radiance')\n",
    "    plt.xlabel('Position between start of row and next row [%]')\n",
    "    plt.ylabel('Cumulative Insolation for June [kWh/m2]')\n",
    "    plt.legend()"
   ]
  },
  {
   "cell_type": "markdown",
   "id": "57f7cacb",
   "metadata": {},
   "source": [
    "## VF and Radiance GCR Percent Difference"
   ]
  },
  {
   "cell_type": "code",
   "execution_count": null,
   "id": "c5fcae22",
   "metadata": {},
   "outputs": [],
   "source": [
    "for gc in range (0, len(GCRs)):\n",
    "    GCR = GCRs[gc]\n",
    "    Radiance_File = r'C:\\Users\\jjones\\Documents\\GitHub\\bifacial_radiance\\bifacial_radiance\\TEMP\\Experiment_1\\results\\irr_Rad_Experiment1_GCR_'+str(GCR)+'_Ground_Analysis_Front.csv'\n",
    "    (data2, metadata) = loadVFresults(Radiance_File)\n",
    "    data_line = data2 \n",
    "    data_line_f = data_line[::-1].reset_index(drop = True) \n",
    "    data_line_f.rename(columns={ data_line_f.columns[0]: \"x\", data_line_f.columns[1]: \"y\",data_line_f.columns[2]: \"z\", data_line_f.columns[3]: \"mattype\",data_line_f.columns[4]: \"Wm2Front\",}, inplace = True)\n",
    "    #Isolate rows with Wm2Front values over 210,000\n",
    "    top = data_line_f.loc[data_line_f['Wm2Front'] >210000]\n",
    "    #Average rows for average of max\n",
    "    maxave = np.mean(top['Wm2Front'])\n",
    "    #Find Minimum of plot\n",
    "    minpoint=np.min(data_line_f['Wm2Front'])\n",
    "    #Find midpoint of pot\n",
    "    Mid = (maxave-minpoint)/2\n",
    "    Midr = Mid + minpoint\n",
    "    #Isolate all rows that are below the mid point. There should be two x values corresponding to mid point\n",
    "    line = data_line_f.loc[data_line_f['Wm2Front'] < Midr]\n",
    "    #Average these for the average for Radiance\n",
    "    Radave = np.mean(line['Wm2Front'])\n",
    "    #print('Average Radiance is',Radave)\n",
    "\n",
    "    #Do the Same for Bifacial VF\n",
    "    (data, metadata) = loadVFresults(r'C:\\Users\\jjones\\Documents\\GitHub\\bifacialvf\\bifacialvf\\TEMP\\Experiment_1\\Results_Test_GCR_'+str(GCR)+'.csv')\n",
    "    #Work with data in resultfile\n",
    "    data.set_index(pd.to_datetime(data['date']), inplace=True, drop=True)\n",
    "    data.index = data.index.map(lambda t: t.replace(year=2021))   # Chagning to be the same year\n",
    "    groundIrrads = data['Ground Irradiance Values'].str.strip('[]').str.split(' ', expand=True).astype(float)\n",
    "    df = groundIrrads.groupby([pd.Grouper(freq='M')]).sum().T\n",
    "    # I'm sure there's a fancier way to do this but hey, this works.\n",
    "    df.rename(columns={ df.columns[0]: \"Jan\", df.columns[1]: \"Feb\",df.columns[2]: \"Mar\", df.columns[3]: \"Apr\",\n",
    "\n",
    "                       df.columns[4]: \"May\",df.columns[5]: \"Jun\",df.columns[6]: \"Jul\",df.columns[7]: \"Aug\",\n",
    "                       df.columns[8]: \"Sep\",df.columns[9]: \"Oct\",df.columns[10]: \"Nov\",df.columns[11]: \"Dec\"    }, inplace = True)\n",
    "    topvf = df.loc[df['Jun'] >210000]\n",
    "    #Average rows for average of max\n",
    "    maxavevf = np.mean(topvf['Jun'])\n",
    "    #Find Minimum of plot\n",
    "    minpointvf=np.min(df['Jun'])\n",
    "    #Find midpoint of pot\n",
    "    Midvf = (maxavevf-minpointvf)/2\n",
    "    Midrvf = Midvf + minpointvf\n",
    "    #Isolate all rows that are below the mid point. There should be two x values corresponding to mid point\n",
    "    linevf = df.loc[df['Jun'] < Midrvf]\n",
    "    #Average these for the average for Radiance\n",
    "    VFave = np.mean(linevf['Jun'])\n",
    "    #print('Average VF is',VFave)\n",
    "\n",
    "    Pdif = (Radave-VFave)/((Radave+VFave)/2)*100\n",
    "    print('For GCR =',GCR,'difference is',Pdif,'%')"
   ]
  },
  {
   "cell_type": "markdown",
   "id": "99c55756",
   "metadata": {},
   "source": [
    "## Back of Module GCR Comparison"
   ]
  },
  {
   "cell_type": "code",
   "execution_count": null,
   "id": "8f7bb3e2",
   "metadata": {},
   "outputs": [],
   "source": [
    "for gc in range (0, len(GCRs)):\n",
    "    GCR = GCRs[gc]\n",
    "    from bifacialvf import loadVFresults\n",
    "    Radiance_File = r'C:\\Users\\jjones\\Documents\\GitHub\\bifacial_radiance\\bifacial_radiance\\TEMP\\Experiment_1\\results\\irr_Rad_Experiment1_GCR_'+str(GCR)+'_Ground_Analysis_Back.csv'\n",
    "    print(Radiance_File)\n",
    "    (data2, metadata) = loadVFresults(Radiance_File)\n",
    "    \n",
    "    pitch = CW/GCR\n",
    "    length = pitch*nRows+(y* np.cos(np.radians(tilt_def)))+2\n",
    "    print(length)\n",
    "    yinc = -length/(sensorsy_gb[0]-1)\n",
    "    \n",
    "    data_line = data2\n",
    "    data_line_f = data_line[::-1].reset_index(drop = True) #Flip the column\n",
    "    data_line_f.rename(columns={ data_line_f.columns[0]: \"x\", data_line_f.columns[1]: \"y\",data_line_f.columns[2]: \"z\", data_line_f.columns[3]: \"mattype\",data_line_f.columns[4]: \"Wm2Front\",}, inplace = True)\n",
    "    \n",
    "    yshift = data_line_f['y'] + 1 # Shift x_axis so it starts at 0 and not -1\n",
    "    ystep = (yshift/CW)*100\n",
    "\n",
    "    plt.figure(1)\n",
    "    Radiance = plt.plot(ystep,data_line_f['Wm2Front']/1000, label=GCR)\n",
    "    plt.title('Bifacial Radiance Back of Module GCR Comparison')\n",
    "    plt.xlabel('Position between start of row and next row [%]')\n",
    "    plt.ylabel('Cumulative Insolation for June [kWh/m2]')\n",
    "    plt.legend()"
   ]
  },
  {
   "cell_type": "markdown",
   "id": "32a89015",
   "metadata": {},
   "source": [
    "## Part 4 Varying Y Gaps"
   ]
  },
  {
   "cell_type": "code",
   "execution_count": null,
   "id": "18c7088a",
   "metadata": {},
   "outputs": [],
   "source": [
    "#Change module orientation to be landscape\n",
    "xl = 2\n",
    "yl = 1 \n",
    "ygaps = [0,.1,.2,.3,.5,1]\n",
    "numpanels_l = 2\n",
    "for yg in range (0, len(ygaps)):\n",
    "     #Build scene and run raytracing for all Ygaps\n",
    "    ygap = ygaps[yg]\n",
    "    module = demo.makeModule(name=moduletype, x=xl, y=yl,numpanels = numpanels_l, xgap=xgap, ygap=ygap)\n",
    "    CW = yl * numpanels_l +(ygap * (numpanels_l-1)) #Collector Width\n",
    "    pitch = CW/GCR_def\n",
    "    length = pitch*nRows+(y* np.cos(np.radians(tilt_def)))+2\n",
    "    yinc = pitch/(sensorsy_gb[0]-1) \n",
    "    writefiletitle = os.path.join(testfolder, 'Results_Test_Ygap_'+str(ygap)+'.csv')\n",
    "    sim_name = sim_general_name+'_Oct_Ygap_'+str(ygap)\n",
    "    sceneDict = {'tilt':tilt_def,'pitch':pitch,'clearance_height':clearance_height_def,'azimuth':azimuth,'nMods': nMods,'nRows': nRows}\n",
    "    if tilt_def == 20:\n",
    "        scene = demo.makeScene(moduletype=moduletype,sceneDict=sceneDict, radname = sim_name)\n",
    "        octfile = demo.makeOct(demo.getfilelist())  \n",
    "        analysis = bifacial_radiance.AnalysisObj(octfile=octfile, name=sim_name)\n",
    "        frontscan, backscan = analysis.moduleAnalysis(scene=scene,sensorsx = sensorsx_gb,sensorsy=sensorsy_gb)\n",
    "        groundscan = frontscan.copy() \n",
    "        groundscan['yinc'] = yinc\n",
    "        groundscan['zstart'] = 0.05\n",
    "        groundscan['zinc'] = 0\n",
    "        groundscan['orient'] = '0 0 -1'\n",
    "    scene = demo.makeScene(moduletype=moduletype,sceneDict=sceneDict, radname = sim_name)\n",
    "    octfile = demo.makeOct(demo.getfilelist())\n",
    "    frontscan, backscan = analysis.moduleAnalysis(scene=scene, sensorsy=sensorsy_gb, sensorsx = sensorsx_gb) #Change x and y sensors to match if you want to autogenerate front/back ratio\n",
    "    analysis.analysis(octfile, name=sim_name+'_Module_Analysis', frontscan=frontscan, backscan=backscan)\n",
    "    analysis.analysis(octfile, name=sim_name+'_Ground_Analysis', frontscan=groundscan, backscan=backscan)"
   ]
  },
  {
   "cell_type": "markdown",
   "id": "b08eccc0",
   "metadata": {},
   "source": [
    "## Compare ground Irradiances graph"
   ]
  },
  {
   "cell_type": "code",
   "execution_count": null,
   "id": "22489fa1",
   "metadata": {},
   "outputs": [],
   "source": [
    "xl = 2\n",
    "yl = 1 \n",
    "numpanels_l = 2\n",
    "for yg in range (0, len(ygaps)):\n",
    "    ygap = ygaps[yg]\n",
    "    from bifacialvf import loadVFresults\n",
    "    Radiance_File = r'C:\\Users\\jjones\\Documents\\GitHub\\bifacial_radiance\\bifacial_radiance\\TEMP\\Experiment_1\\results\\irr_Rad_Experiment1_Oct_Ygap_'+str(ygap)+'_Ground_Analysis_Front.csv'\n",
    "    print(Radiance_File)\n",
    "    (data2, metadata) = loadVFresults(Radiance_File)\n",
    "    \n",
    "    CW = yl * numpanels_l +(ygap * (numpanels_l-1)) #Collector Width\n",
    "    pitch = CW/GCR_def\n",
    "    \n",
    "    data_line = data2\n",
    "    data_line_f = data_line[::-1].reset_index(drop = True) #Flip the column\n",
    "    data_line_f.rename(columns={ data_line_f.columns[0]: \"x\", data_line_f.columns[1]: \"y\",data_line_f.columns[2]: \"z\", data_line_f.columns[3]: \"mattype\",data_line_f.columns[4]: \"Wm2Front\",}, inplace = True)\n",
    "\n",
    "    yshift = data_line_f['y'] + 1 # Shift x_axis so it starts at 0 and not -1\n",
    "    ystep = (yshift/pitch)*100\n",
    "\n",
    "    plt.figure(1)\n",
    "    Radiance = plt.plot(ystep,data_line_f['Wm2Front']/1000, label=ygap)\n",
    "    plt.ylim([0, 150])\n",
    "    plt.xlim([0, 100])\n",
    "    plt.title('Bifacial Radiance YGap Comparison')\n",
    "    plt.xlabel('Position between start of row and next row [%]')\n",
    "    plt.ylabel('Cumulative Insolation for June [kWh/m2]')\n",
    "    plt.legend()"
   ]
  },
  {
   "cell_type": "markdown",
   "id": "3f1cf733",
   "metadata": {},
   "source": [
    "## Average Radiance and VF YGap comparison"
   ]
  },
  {
   "cell_type": "code",
   "execution_count": null,
   "id": "f95063e6",
   "metadata": {},
   "outputs": [],
   "source": [
    "# The Ygap variation in Radiance is compared to the transmission factor in VF\n",
    "xl = 2\n",
    "yl = 1 \n",
    "ygaps = [0,.1,.2,.3,.5,1]\n",
    "numpanels_l = 2\n",
    "for yg in range (0, len(ygaps)):\n",
    "    ygap = ygaps[yg]\n",
    "    from bifacialvf import loadVFresults\n",
    "    Radiance_File = r'C:\\Users\\jjones\\Documents\\GitHub\\bifacial_radiance\\bifacial_radiance\\TEMP\\Experiment_1\\results\\irr_Rad_Experiment1_Ygap_'+str(ygap)+'_Ground_Analysis_Front.csv'\n",
    "    (data2, metadata) = loadVFresults(Radiance_File)\n",
    "    data_line = data2 \n",
    "    data_line_f = data_line[::-1].reset_index(drop = True) \n",
    "    data_line_f.rename(columns={ data_line_f.columns[0]: \"x\", data_line_f.columns[1]: \"y\",data_line_f.columns[2]: \"z\", data_line_f.columns[3]: \"mattype\",data_line_f.columns[4]: \"Wm2Front\",}, inplace = True)\n",
    "    #Isolate rows with Wm2Front values over 220,000\n",
    "    top = data_line_f.loc[data_line_f['Wm2Front'] >220000]\n",
    "    #Average rows for average of max\n",
    "    maxave = np.mean(top['Wm2Front'])\n",
    "    #Find Minimum of plot\n",
    "    minpoint=np.min(data_line_f['Wm2Front'])\n",
    "    #Find midpoint of pot\n",
    "    Mid = (maxave-minpoint)/2\n",
    "    Midr = Mid + minpoint\n",
    "    #Isolate all rows that are below the mid point. There should be two x values corresponding to mid point\n",
    "    line = data_line_f.loc[data_line_f['Wm2Front'] < Midr]\n",
    "    #print(line)\n",
    "    #Find last point\n",
    "    last = line.iloc[0]\n",
    "    #return row number of the last point\n",
    "    lp = line[line['y'] == last['y']].index[0]\n",
    "    #print(lp)\n",
    "    #Make matrix of all points from 0 to last point\n",
    "    merge = data_line_f.iloc[lp:]\n",
    "    #print(merge)\n",
    "    #Average these for the average for Radiance\n",
    "    Radave = np.mean(merge['Wm2Front'])\n",
    "    #print('Average Radiance for', ygap,'is',Radave)\n",
    "\n",
    "    #Do the Same for Bifacial VF\n",
    "    CW = yl * numpanels_l +(ygap * (numpanels_l-1)) #Collector Width\n",
    "    AA = yl*numpanels_l #Area of module that light hits\n",
    "    transFactor = 1 - (AA/CW) # TransmissionFactor(open area fraction)\n",
    "    (data, metadata) = loadVFresults(r'C:\\Users\\jjones\\Documents\\GitHub\\bifacialvf\\bifacialvf\\TEMP\\Experiment_1\\Results_Test_TFactor_'+str(transFactor)+'.csv')\n",
    "    #Work with data in resultfile\n",
    "    data.set_index(pd.to_datetime(data['date']), inplace=True, drop=True)\n",
    "    data.index = data.index.map(lambda t: t.replace(year=2021))   # Chagning to be the same year\n",
    "    groundIrrads = data['Ground Irradiance Values'].str.strip('[]').str.split(' ', expand=True).astype(float)\n",
    "    df = groundIrrads.groupby([pd.Grouper(freq='M')]).sum().T\n",
    "    # I'm sure there's a fancier way to do this but hey, this works.\n",
    "    df.rename(columns={ df.columns[0]: \"Jan\", df.columns[1]: \"Feb\",df.columns[2]: \"Mar\", df.columns[3]: \"Apr\",\n",
    "\n",
    "                       df.columns[4]: \"May\",df.columns[5]: \"Jun\",df.columns[6]: \"Jul\",df.columns[7]: \"Aug\",\n",
    "                       df.columns[8]: \"Sep\",df.columns[9]: \"Oct\",df.columns[10]: \"Nov\",df.columns[11]: \"Dec\"    }, inplace = True)\n",
    "    topvf = df.loc[df['Jun'] >220000]\n",
    "    #Average rows for average of max\n",
    "    maxavevf = np.mean(topvf['Jun'])\n",
    "    #print('Max VF is',maxavevf)\n",
    "    #Find Minimum of plot\n",
    "    minpointvf=np.min(df['Jun'])\n",
    "    #print('Min VF is',minpointvf)\n",
    "    #Find midpoint of pot\n",
    "    Midvf = (maxavevf-minpointvf)/2\n",
    "    Midrvf = Midvf + minpointvf\n",
    "    #print('Midpoint is',Midvf)\n",
    "    #Isolate all rows that are below the mid point. There should be two x values corresponding to mid point\n",
    "    linevf = df.loc[df['Jun'] < Midrvf]\n",
    "    #print(linevf)\n",
    "    #Average these for the average for Radiance\n",
    "    VFave = np.mean(linevf['Jun'])\n",
    "    #print('Average VF is',VFave)\n",
    "\n",
    "    Pdif = abs((Radave-VFave)/((Radave+VFave)/2)*100)\n",
    "    print('For Ygap =',ygap,'difference is',Pdif,'%')"
   ]
  },
  {
   "cell_type": "markdown",
   "id": "40f72db2",
   "metadata": {},
   "source": [
    "## Compare Back of Module"
   ]
  },
  {
   "cell_type": "markdown",
   "id": "125ded6c",
   "metadata": {},
   "source": [
    "<a id='step5c'></a>"
   ]
  },
  {
   "cell_type": "code",
   "execution_count": null,
   "id": "f343f9a5",
   "metadata": {
    "scrolled": true
   },
   "outputs": [],
   "source": [
    "for yg in range (0, len(ygaps)):\n",
    "    ygap = ygaps[yg]\n",
    "    from bifacialvf import loadVFresults\n",
    "    #Change to File Name\n",
    "    Radiance_File = r'C:\\Users\\jjones\\Documents\\GitHub\\bifacial_radiance\\bifacial_radiance\\TEMP\\Experiment_1\\results\\irr_Rad_Experiment1_Ygap_'+str(ygap)+'_Ground_Analysis_Back.csv'\n",
    "    print(Radiance_File)\n",
    "    (data2, metadata) = loadVFresults(Radiance_File)\n",
    "    \n",
    "    CW = yl * numpanels_l +(ygap * (numpanels_l-1)) #Collector Width\n",
    "    pitch = CW/GCR_def\n",
    "    \n",
    "    data_line = data2\n",
    "    data_line_f = data_line[::-1].reset_index(drop = True) #Flip the column\n",
    "    data_line_f.rename(columns={ data_line_f.columns[0]: \"x\", data_line_f.columns[1]: \"y\",data_line_f.columns[2]: \"z\", data_line_f.columns[3]: \"mattype\",data_line_f.columns[4]: \"Wm2Back\",}, inplace = True)\n",
    "    \n",
    "    yshift = data_line_f['y'] + abs(float(data_line_f['y'].iloc[[0]]))# Shift x_axis so it starts at 0 and not -1\n",
    "    ystep = (yshift/CW)*100\n",
    "\n",
    "    plt.figure(1)\n",
    "    Radiance = plt.plot(ystep,data_line_f['Wm2Back']/1000, label=ygap)\n",
    "    plt.title('Bifacial Radiance Back of Module Y Gap Comparison')\n",
    "    plt.xlabel('Position between start of row and next row [%]')\n",
    "    plt.ylabel('Cumulative Insolation for June [kWh/m2]')\n",
    "    plt.legend()"
   ]
  },
  {
   "cell_type": "markdown",
   "id": "a5f9857a",
   "metadata": {},
   "source": [
    "## Create Dataframe for comparing Radiance and VF clearance heights and export as cv"
   ]
  },
  {
   "cell_type": "code",
   "execution_count": 39,
   "id": "d3f98023",
   "metadata": {},
   "outputs": [],
   "source": [
    "folder = r'C:\\\\Users\\\\jjones\\\\Documents\\\\GitHub\\\\bifacial_radiance\\\\bifacial_radiance\\\\TEMP\\\\Experiment_1'\n",
    "dataRad = {}\n",
    "dataVF = {}\n",
    "from bifacialvf import loadVFresults\n",
    "Radiance_File = r'C:\\Users\\jjones\\Documents\\GitHub\\bifacial_radiance\\bifacial_radiance\\TEMP\\Experiment_1\\results\\irr_Rad_Experiment1_Oct_ClearanceHeight_0.25_Ground_Analysis_Front.csv'\n",
    "(data2, metadata) = loadVFresults(Radiance_File)\n",
    "data_line_f = data2\n",
    "#data_line_f = data_line[::-1].reset_index(drop = True) \n",
    "data_line_f.rename(columns={ data_line_f.columns[0]: \"x\", data_line_f.columns[1]: \"y\",data_line_f.columns[2]: \"z\", data_line_f.columns[3]: \"mattype\",data_line_f.columns[4]: \"Wm2Front\",}, inplace = True) \n",
    "yshift = data_line_f['y'] + 1 # Shift x_axis so it starts at 0 and not -1\n",
    "dataRad = {'y' :yshift}\n",
    "ystep = pitch_def/100\n",
    "y_axis = np.arange(0,pitch_def,ystep)\n",
    "dataVF = {'y':y_axis}\n",
    "for ch in range (0, len(clearance_heights)):\n",
    "    clearance_height = clearance_heights[ch]\n",
    "    cheight = str(clearance_height)\n",
    "    Radiance_File = r'C:\\Users\\jjones\\Documents\\GitHub\\bifacial_radiance\\bifacial_radiance\\TEMP\\Experiment_1\\results\\irr_Rad_Experiment1_ClearanceHeight_'+str(clearance_height)+'_Ground_Analysis_Front.csv'\n",
    "    (data2, metadata) = loadVFresults(Radiance_File)\n",
    "    data_line_f = data2\n",
    "    #data_line_f = data_line[::-1].reset_index(drop = True) \n",
    "    data_line_f.rename(columns={ data_line_f.columns[0]: \"x\", data_line_f.columns[1]: \"y\",data_line_f.columns[2]: \"z\", data_line_f.columns[3]: \"mattype\",data_line_f.columns[4]: cheight,}, inplace = True) \n",
    "    yshift = data_line_f['y'] + 1 # Shift x_axis so it starts at 0 and not -1\n",
    "    dataRad[cheight]=(data_line_f[cheight]) \n",
    "\n",
    "    VF_File = r'C:\\Users\\jjones\\Documents\\GitHub\\bifacialvf\\bifacialvf\\TEMP\\Experiment_1\\Results_Test_ClearanceHeight_'+str(clearance_height)+'.csv'\n",
    "    \n",
    "    (data, metadata) = loadVFresults(VF_File)\n",
    "    #Work with data in resultfile\n",
    "    data.set_index(pd.to_datetime(data['date']), inplace=True, drop=True)\n",
    "    data.index = data.index.map(lambda t: t.replace(year=2021))   # Chagning to be the same year\n",
    "    groundIrrads = data['Ground Irradiance Values'].str.strip('[]').str.split(' ', expand=True).astype(float)\n",
    "    df = groundIrrads.groupby([pd.Grouper(freq='M')]).sum().T\n",
    "    df.rename(columns={ df.columns[0]: \"Jan\", df.columns[1]: \"Feb\",df.columns[2]: \"Mar\", df.columns[3]: \"Apr\",\n",
    "\n",
    "                       df.columns[4]: \"May\",df.columns[5]: \"Jun\",df.columns[6]: \"Jul\",df.columns[7]: \"Aug\",\n",
    "                       df.columns[8]: \"Sep\",df.columns[9]: \"Oct\",df.columns[10]: \"Nov\",df.columns[11]: \"Dec\"    }, inplace = True)\n",
    "    dataVF[cheight]=(df['Jun'])\n",
    "    #ystep = (yshift/pitch_def)*100\n",
    "    #module_end = (2/pitch_def)*100 #Percentage between rows where the module ends\n",
    "    #plt.figure(1)\n",
    "    #Radiance = plt.plot(ystep,data_line_f['Wm2Front']/1000, label=clearance_height)\n",
    "    #plt.ylim([0, 260])\n",
    "    #plt.xlim([0, 100])\n",
    "    #plt.title('Bifacial Radiance')\n",
    "    #plt.xlabel('Position between start of row and next row [%]')\n",
    "    #plt.ylabel('Cumulative Insolation for the month [kWh/m2]')\n",
    "    #plt.axvspan(0, module_end, alpha=.05, color='green')\n",
    "    #plt.legend()\n",
    "#dataRadf = np.flipud(dataRad)\n",
    "Raddf = pd.DataFrame(dataRad)\n",
    "VFdf = pd.DataFrame(dataVF)\n",
    "Rad = Raddf.to_csv(path_or_buf =r'C:\\\\Users\\\\jjones\\\\Documents\\\\GitHub\\\\bifacial_radiance\\\\bifacial_radiance\\\\TEMP\\\\Experiment_1\\Rad.csv',index=False)\n",
    "VF = VFdf.to_csv(path_or_buf =r'C:\\\\Users\\\\jjones\\\\Documents\\\\GitHub\\\\bifacial_radiance\\\\bifacial_radiance\\\\TEMP\\\\Experiment_1\\VF.csv',index=False)"
   ]
  },
  {
   "cell_type": "markdown",
   "id": "b39e3d1f",
   "metadata": {},
   "source": [
    "## Run Clearance Height Simulation for 1 hour using gendaylit"
   ]
  },
  {
   "cell_type": "code",
   "execution_count": 59,
   "id": "b63b6a3f",
   "metadata": {},
   "outputs": [
    {
     "name": "stdout",
     "output_type": "stream",
     "text": [
      "path = C:\\Users\\jjones\\Documents\\GitHub\\bifacial_radiance\\bifacial_radiance\\TEMP\\Experiment_1\n",
      "Loading albedo, 1 value(s), 0.310 avg\n",
      "1 nonzero albedo values.\n",
      "Getting weather file: USA_AZ_Davis-Monthan.AFB.722745_TMY3.epw\n",
      " ... OK!\n",
      "8760 line in WeatherFile. Assuming this is a standard hourly WeatherFile for the year for purposes of saving Gencumulativesky temporary weather files in EPW folder.\n",
      "Coercing year to 2021\n",
      "Filtering dates\n",
      "Saving file EPWs\\metdata_temp.csv, # points: 8760\n",
      "Calculating Sun position for Metdata that is right-labeled  with a delta of -30 mins. i.e. 12 is 11:30 sunpos\n"
     ]
    },
    {
     "data": {
      "text/plain": [
       "'skies\\\\sky2_32.17_-110.88_2021-06-01_1300.rad'"
      ]
     },
     "execution_count": 59,
     "metadata": {},
     "output_type": "execute_result"
    }
   ],
   "source": [
    "# This allows us to view how our setup looks before generating the cumulative sky and running the simulation.\n",
    "# Exit out of the popup to be able to comntinue.\n",
    "demos = bifacial_radiance.RadianceObj(sim_general_name,str(testfolder)) \n",
    "demos.setGround(albedo)\n",
    "epwfile = demos.getEPW(lat,lon)  \n",
    "metdata=demos.readWeatherFile(epwfile, starttime=starttime, endtime=endtime,coerce_year = 2021)\n",
    "timestamp = metdata.datetime.index(pd.to_datetime('2021-06-01 13:00:0 -7'))\n",
    "demos.gendaylit(timestamp)  # Use this to simulate only one hour at a time.\n",
    "#azimuth_test = 180\n",
    "#pitch = pitch_def\n",
    "#sim_name = sim_general_name+'_az_'+str(round(azimuth,1))\n",
    "#module = demo.makeModule(name=moduletype, x=x, y=y,numpanels = numpanels, xgap=xgap, ygap=ygap)\n",
    "#sceneDict = {'tilt':tilt_def,'pitch':pitch,'clearance_height':clearance_height_def,'azimuth':azimuth_test,'nMods': nMods,'nRows': nRows}\n",
    "#scene = demo.makeScene(moduletype=moduletype,sceneDict=sceneDict, radname = sim_name)\n",
    "#octfile = demo.makeOct(demo.getfilelist()) "
   ]
  },
  {
   "cell_type": "code",
   "execution_count": 60,
   "id": "78192a63",
   "metadata": {
    "scrolled": true
   },
   "outputs": [
    {
     "name": "stdout",
     "output_type": "stream",
     "text": [
      "\n",
      "Module Name: test-module\n",
      "Module test-module updated in module.json\n",
      "Pre-existing .rad file objects\\test-module.rad will be overwritten\n",
      "\n",
      "Warning:  input `moduletype` is deprecated. Use kwarg `module` instead\n",
      "Created Rad_Experiment1.oct\n",
      "Warning:  input `moduletype` is deprecated. Use kwarg `module` instead\n",
      "Created Rad_Experiment1.oct\n",
      "Linescan in process: Rad_Experiment1_ClearanceHeight_lit_0.25_Module_Analysis_Front\n",
      "Linescan in process: Rad_Experiment1_ClearanceHeight_lit_0.25_Module_Analysis_Back\n",
      "Saved: results\\irr_Rad_Experiment1_ClearanceHeight_lit_0.25_Module_Analysis_Front.csv\n",
      "Saved: results\\irr_Rad_Experiment1_ClearanceHeight_lit_0.25_Module_Analysis_Back.csv\n",
      "Linescan in process: Rad_Experiment1_ClearanceHeight_lit_0.25_Ground_Analysis_Front\n",
      "Linescan in process: Rad_Experiment1_ClearanceHeight_lit_0.25_Ground_Analysis_Back\n",
      "Saved: results\\irr_Rad_Experiment1_ClearanceHeight_lit_0.25_Ground_Analysis_Front.csv\n",
      "Saved: results\\irr_Rad_Experiment1_ClearanceHeight_lit_0.25_Ground_Analysis_Back.csv\n",
      "Warning:  input `moduletype` is deprecated. Use kwarg `module` instead\n",
      "Created Rad_Experiment1.oct\n",
      "Warning:  input `moduletype` is deprecated. Use kwarg `module` instead\n",
      "Created Rad_Experiment1.oct\n",
      "Linescan in process: Rad_Experiment1_ClearanceHeight_lit_0.5_Module_Analysis_Front\n",
      "Linescan in process: Rad_Experiment1_ClearanceHeight_lit_0.5_Module_Analysis_Back\n",
      "Saved: results\\irr_Rad_Experiment1_ClearanceHeight_lit_0.5_Module_Analysis_Front.csv\n",
      "Saved: results\\irr_Rad_Experiment1_ClearanceHeight_lit_0.5_Module_Analysis_Back.csv\n",
      "Linescan in process: Rad_Experiment1_ClearanceHeight_lit_0.5_Ground_Analysis_Front\n",
      "Linescan in process: Rad_Experiment1_ClearanceHeight_lit_0.5_Ground_Analysis_Back\n",
      "Saved: results\\irr_Rad_Experiment1_ClearanceHeight_lit_0.5_Ground_Analysis_Front.csv\n",
      "Saved: results\\irr_Rad_Experiment1_ClearanceHeight_lit_0.5_Ground_Analysis_Back.csv\n",
      "Warning:  input `moduletype` is deprecated. Use kwarg `module` instead\n",
      "Created Rad_Experiment1.oct\n",
      "Warning:  input `moduletype` is deprecated. Use kwarg `module` instead\n",
      "Created Rad_Experiment1.oct\n",
      "Linescan in process: Rad_Experiment1_ClearanceHeight_lit_0.75_Module_Analysis_Front\n",
      "Linescan in process: Rad_Experiment1_ClearanceHeight_lit_0.75_Module_Analysis_Back\n",
      "Saved: results\\irr_Rad_Experiment1_ClearanceHeight_lit_0.75_Module_Analysis_Front.csv\n",
      "Saved: results\\irr_Rad_Experiment1_ClearanceHeight_lit_0.75_Module_Analysis_Back.csv\n",
      "Linescan in process: Rad_Experiment1_ClearanceHeight_lit_0.75_Ground_Analysis_Front\n",
      "Linescan in process: Rad_Experiment1_ClearanceHeight_lit_0.75_Ground_Analysis_Back\n",
      "Saved: results\\irr_Rad_Experiment1_ClearanceHeight_lit_0.75_Ground_Analysis_Front.csv\n",
      "Saved: results\\irr_Rad_Experiment1_ClearanceHeight_lit_0.75_Ground_Analysis_Back.csv\n",
      "Warning:  input `moduletype` is deprecated. Use kwarg `module` instead\n",
      "Created Rad_Experiment1.oct\n",
      "Warning:  input `moduletype` is deprecated. Use kwarg `module` instead\n",
      "Created Rad_Experiment1.oct\n",
      "Linescan in process: Rad_Experiment1_ClearanceHeight_lit_1.0_Module_Analysis_Front\n",
      "Linescan in process: Rad_Experiment1_ClearanceHeight_lit_1.0_Module_Analysis_Back\n",
      "Saved: results\\irr_Rad_Experiment1_ClearanceHeight_lit_1.0_Module_Analysis_Front.csv\n",
      "Saved: results\\irr_Rad_Experiment1_ClearanceHeight_lit_1.0_Module_Analysis_Back.csv\n",
      "Linescan in process: Rad_Experiment1_ClearanceHeight_lit_1.0_Ground_Analysis_Front\n",
      "Linescan in process: Rad_Experiment1_ClearanceHeight_lit_1.0_Ground_Analysis_Back\n",
      "Saved: results\\irr_Rad_Experiment1_ClearanceHeight_lit_1.0_Ground_Analysis_Front.csv\n",
      "Saved: results\\irr_Rad_Experiment1_ClearanceHeight_lit_1.0_Ground_Analysis_Back.csv\n",
      "Warning:  input `moduletype` is deprecated. Use kwarg `module` instead\n",
      "Created Rad_Experiment1.oct\n",
      "Warning:  input `moduletype` is deprecated. Use kwarg `module` instead\n",
      "Created Rad_Experiment1.oct\n",
      "Linescan in process: Rad_Experiment1_ClearanceHeight_lit_1.5_Module_Analysis_Front\n",
      "Linescan in process: Rad_Experiment1_ClearanceHeight_lit_1.5_Module_Analysis_Back\n",
      "Saved: results\\irr_Rad_Experiment1_ClearanceHeight_lit_1.5_Module_Analysis_Front.csv\n",
      "Saved: results\\irr_Rad_Experiment1_ClearanceHeight_lit_1.5_Module_Analysis_Back.csv\n",
      "Linescan in process: Rad_Experiment1_ClearanceHeight_lit_1.5_Ground_Analysis_Front\n",
      "Linescan in process: Rad_Experiment1_ClearanceHeight_lit_1.5_Ground_Analysis_Back\n",
      "Saved: results\\irr_Rad_Experiment1_ClearanceHeight_lit_1.5_Ground_Analysis_Front.csv\n",
      "Saved: results\\irr_Rad_Experiment1_ClearanceHeight_lit_1.5_Ground_Analysis_Back.csv\n",
      "Warning:  input `moduletype` is deprecated. Use kwarg `module` instead\n",
      "Created Rad_Experiment1.oct\n",
      "Warning:  input `moduletype` is deprecated. Use kwarg `module` instead\n",
      "Created Rad_Experiment1.oct\n",
      "Linescan in process: Rad_Experiment1_ClearanceHeight_lit_2.0_Module_Analysis_Front\n",
      "Linescan in process: Rad_Experiment1_ClearanceHeight_lit_2.0_Module_Analysis_Back\n",
      "Saved: results\\irr_Rad_Experiment1_ClearanceHeight_lit_2.0_Module_Analysis_Front.csv\n",
      "Saved: results\\irr_Rad_Experiment1_ClearanceHeight_lit_2.0_Module_Analysis_Back.csv\n",
      "Linescan in process: Rad_Experiment1_ClearanceHeight_lit_2.0_Ground_Analysis_Front\n",
      "Linescan in process: Rad_Experiment1_ClearanceHeight_lit_2.0_Ground_Analysis_Back\n",
      "Saved: results\\irr_Rad_Experiment1_ClearanceHeight_lit_2.0_Ground_Analysis_Front.csv\n",
      "Saved: results\\irr_Rad_Experiment1_ClearanceHeight_lit_2.0_Ground_Analysis_Back.csv\n"
     ]
    }
   ],
   "source": [
    "module = demos.makeModule(name=moduletype, x=x, y=y, xgap=xgap, ygap=ygap)\n",
    "for ch in range (0, len(clearance_heights)):\n",
    "    #Build scene and run raytracing for all clearance heights\n",
    "    clearance_height = clearance_heights[ch]\n",
    "    length = pitch_def*nRows+(y* np.cos(np.radians(tilt_def)))+2\n",
    "    yinc = pitch_def/(sensorsy_gb[0]-1)\n",
    "    writefiletitle = os.path.join(testfolder, 'Results_Test_ClearanceHeight_'+str(clearance_height)+'.csv')\n",
    "    sim_name = sim_general_name+'_ClearanceHeight_lit_'+str(clearance_height)\n",
    "    sceneDict = {'tilt':tilt_def,'pitch':pitch_def,'clearance_height':clearance_height,'azimuth':azimuth,'nMods': nMods,'nRows': nRows}\n",
    "    if tilt_def == 20:\n",
    "        scene = demos.makeScene(moduletype=moduletype,sceneDict=sceneDict, radname = sim_name)\n",
    "        octfile = demos.makeOct(demos.getfilelist())  \n",
    "        analysis = bifacial_radiance.AnalysisObj(octfile=octfile, name=sim_name)\n",
    "        frontscan, backscan = analysis.moduleAnalysis(scene=scene,sensorsx = sensorsx_gb,sensorsy=sensorsy_gb)\n",
    "        groundscan = frontscan.copy() \n",
    "        groundscan['yinc'] = yinc\n",
    "        groundscan['zstart'] = 0.05\n",
    "        groundscan['zinc'] = 0\n",
    "        groundscan['orient'] = '0 0 -1'\n",
    "    scene = demos.makeScene(moduletype=moduletype,sceneDict=sceneDict, radname = sim_name)\n",
    "    octfile = demos.makeOct(demos.getfilelist())\n",
    "    frontscan, backscan = analysis.moduleAnalysis(scene=scene, sensorsy=sensorsy_gb, sensorsx = sensorsx_gb)\n",
    "    analysis.analysis(octfile, name=sim_name+'_Module_Analysis', frontscan=frontscan, backscan=backscan)\n",
    "    analysis.analysis(octfile, name=sim_name+'_Ground_Analysis', frontscan=groundscan, backscan=backscan)"
   ]
  },
  {
   "cell_type": "code",
   "execution_count": 82,
   "id": "b96b7856",
   "metadata": {},
   "outputs": [
    {
     "data": {
      "image/png": "[encoded data removed]",
      "text/plain": [
       "<Figure size 432x288 with 1 Axes>"
      ]
     },
     "metadata": {
      "needs_background": "light"
     },
     "output_type": "display_data"
    }
   ],
   "source": [
    "# Plot Radiance values simulated for 1 hour\n",
    "for ch in range (0, len(clearance_heights)):\n",
    "    clearance_height = clearance_heights[ch]\n",
    "    from bifacialvf import loadVFresults\n",
    "    Radiance_File = r'C:\\Users\\jjones\\Documents\\GitHub\\bifacial_radiance\\bifacial_radiance\\TEMP\\Experiment_1\\results\\irr_Rad_Experiment1_ClearanceHeight_lit_'+str(clearance_height)+'_Ground_Analysis_Front.csv'\n",
    "    (data2, metadata) = loadVFresults(Radiance_File)\n",
    "    data_line = data2\n",
    "    data_line_f = data_line[::-1].reset_index(drop = True) \n",
    "    data_line_f.rename(columns={ data_line_f.columns[0]: \"x\", data_line_f.columns[1]: \"y\",data_line_f.columns[2]: \"z\", data_line_f.columns[3]: \"mattype\",data_line_f.columns[4]: \"Wm2Front\",}, inplace = True) \n",
    "    yshift = data_line_f['y'] + 0.85 # Shift x_axis so it starts at 0 and not -1\n",
    "    ystep = (yshift/pitch_def)*100\n",
    "    module_end = (2/pitch_def)*100 #Percentage between rows where the module ends\n",
    "    plt.figure(1)\n",
    "    Radiance = plt.plot(ystep,data_line_f['Wm2Front'], label=clearance_height)\n",
    "    #plt.ylim([0, 260])\n",
    "    plt.xlim([0, 100])\n",
    "    plt.title('Bifacial Radiance')\n",
    "    plt.xlabel('Position between start of row and next row [%]')\n",
    "    plt.ylabel('Cumulative Insolation for the month [W/m2]')\n",
    "    plt.axvspan(0, module_end, alpha=.05, color='green')\n",
    "    plt.legend()"
   ]
  },
  {
   "cell_type": "markdown",
   "id": "d66f3c62",
   "metadata": {},
   "source": [
    "## Compare Radiance and VF for 1 hour"
   ]
  },
  {
   "cell_type": "code",
   "execution_count": 64,
   "id": "408b3e61",
   "metadata": {},
   "outputs": [
    {
     "name": "stdout",
     "output_type": "stream",
     "text": [
      "For Clearance Height = 0.25 difference is 61.344965802866646 %, Rad: 21.40326124999999 VF: 11.355374347587206\n",
      "For Clearance Height = 0.5 difference is 63.599163111557466 %, Rad: 28.155208749999996 VF: 14.569067636392727\n",
      "For Clearance Height = 0.75 difference is 66.4106717512016 %, Rad: 34.70264757575758 VF: 17.40134262500443\n",
      "For Clearance Height = 1.0 difference is 66.77891250978575 %, Rad: 39.55683121212122 VF: 19.75345060885326\n",
      "For Clearance Height = 1.5 difference is 67.84391728273849 %, Rad: 47.020730000000015 VF: 23.200360666568308\n",
      "For Clearance Height = 2.0 difference is 71.38291441594643 %, Rad: 53.50509545454544 VF: 25.357784428214764\n"
     ]
    }
   ],
   "source": [
    "# Using full width half hight calculateions to find the midpoint of both Radiance and VF graphs. Then averaging the points below the midpoint\n",
    "# and comparing them to find percent differences.\n",
    "from bifacialvf import loadVFresults\n",
    "for ch in range (0, len(clearance_heights)):\n",
    "    clearance_height = clearance_heights[ch]\n",
    "    Radiance_File = r'C:\\Users\\jjones\\Documents\\GitHub\\bifacial_radiance\\bifacial_radiance\\TEMP\\Experiment_1\\results\\irr_Rad_Experiment1_ClearanceHeight_lit_'+str(clearance_height)+'_Ground_Analysis_Front.csv'\n",
    "    (data2, metadata) = loadVFresults(Radiance_File)\n",
    "    data_line = data2 \n",
    "    data_line_f = data_line[::-1].reset_index(drop = True) \n",
    "    data_line_f.rename(columns={ data_line_f.columns[0]: \"x\", data_line_f.columns[1]: \"y\",data_line_f.columns[2]: \"z\", data_line_f.columns[3]: \"mattype\",data_line_f.columns[4]: \"Wm2Front\",}, inplace = True)\n",
    "    #Isolate rows with Wm2Front values over 220,000\n",
    "    top = data_line_f.loc[data_line_f['Wm2Front'] >900]\n",
    "    #Average rows for average of max\n",
    "    maxave = np.mean(top['Wm2Front'])\n",
    "    #Find Minimum of plot\n",
    "    minpoint=np.min(data_line_f['Wm2Front'])\n",
    "    #Find midpoint of pot\n",
    "    Mid = (maxave-minpoint)/2\n",
    "    Midr = Mid + minpoint\n",
    "    #Isolate all rows that are below the mid point. There should be two x values corresponding to mid point\n",
    "    line = data_line_f.loc[data_line_f['Wm2Front'] < Midr]\n",
    "    #Average these for the average for Radiance\n",
    "    Radave = np.mean(line['Wm2Front'])\n",
    "    #print('Average Radiance is',Radave)\n",
    "\n",
    "    #Do the Same for Bifacial VF\n",
    "    dates = '2021-06-01 13:00:00-07:00'\n",
    "    (data, metadata) = loadVFresults(r'C:\\Users\\jjones\\Documents\\GitHub\\bifacialvf\\bifacialvf\\TEMP\\Experiment_1\\Results_Test_ClearanceHeight_'+str(clearance_height)+'.csv')\n",
    "    #Work with data in resultfile\n",
    "    data.set_index(pd.to_datetime(data['date']), inplace=True, drop=True)\n",
    "    data.index = data.index.map(lambda t: t.replace(year=2021))   # Chagning to be the same year\n",
    "    groundIrrads = data['Ground Irradiance Values'].str.strip('[]').str.split(' ', expand=True).astype(float)\n",
    "    df = groundIrrads.groupby([pd.Grouper(freq='H')]).sum().T\n",
    "    # I'm sure there's a fancier way to do this but hey, this works.\n",
    "\n",
    "    topvf = df.loc[df[dates] >900]\n",
    "    #Average rows for average of max\n",
    "    maxavevf = np.mean(topvf[dates])\n",
    "    #Find Minimum of plot\n",
    "    minpointvf=np.min(df[dates])\n",
    "    #Find midpoint of pot\n",
    "    Midvf = (maxavevf-minpointvf)/2\n",
    "    Midrvf = minpointvf + Midvf\n",
    "    #Isolate all rows that are below the mid point. There should be two x values corresponding to mid point\n",
    "    linevf = df.loc[df[date] < Midrvf]\n",
    "    #Average these for the average for Radiance\n",
    "    VFave = np.mean(linevf[dates])\n",
    "    #print('Average VF is',VFave)\n",
    "\n",
    "    Pdif = abs((Radave-VFave)/((Radave+VFave)/2)*100)\n",
    "    print('For Clearance Height =',clearance_height,'difference is',Pdif,'%, Rad:',Radave,'VF:',VFave)"
   ]
  },
  {
   "cell_type": "code",
   "execution_count": 49,
   "id": "a053d430",
   "metadata": {},
   "outputs": [],
   "source": [
    "date = '2021-06-01 13:00:00-07:00'\n",
    "(data, metadata) = loadVFresults(r'C:\\Users\\jjones\\Documents\\GitHub\\bifacialvf\\bifacialvf\\TEMP\\Experiment_1\\Results_Test_ClearanceHeight_'+str(clearance_height)+'.csv')\n",
    "#Work with data in resultfile\n",
    "data.set_index(pd.to_datetime(data['date']), inplace=True, drop=True)\n",
    "data.index = data.index.map(lambda t: t.replace(year=2021))   # Chagning to be the same year\n",
    "groundIrrads = data['Ground Irradiance Values'].str.strip('[]').str.split(' ', expand=True).astype(float)\n",
    "df = groundIrrads.groupby([pd.Grouper(freq='H')]).sum().T"
   ]
  },
  {
   "cell_type": "markdown",
   "id": "e64273b5",
   "metadata": {},
   "source": [
    "## Comparison Graphs of Radiance and VF for Clearance Height for June"
   ]
  },
  {
   "cell_type": "code",
   "execution_count": 182,
   "id": "b3d7fb95",
   "metadata": {},
   "outputs": [
    {
     "data": {
      "text/plain": [
       "<matplotlib.legend.Legend at 0x23d1655c6d0>"
      ]
     },
     "execution_count": 182,
     "metadata": {},
     "output_type": "execute_result"
    },
    {
     "data": {
      "image/png": "[encoded data removed]",
      "text/plain": [
       "<Figure size 432x288 with 1 Axes>"
      ]
     },
     "metadata": {
      "needs_background": "light"
     },
     "output_type": "display_data"
    }
   ],
   "source": [
    "compare = {}\n",
    "x_axis = list(range(1,101))\n",
    "from bifacialvf import loadVFresults\n",
    "Radiance_File = r'C:\\Users\\jjones\\Documents\\GitHub\\bifacial_radiance\\bifacial_radiance\\TEMP\\Experiment_1\\results\\irr_Rad_Experiment1_ClearanceHeight_1.5_Ground_Analysis_Front.csv'\n",
    "#(data2, metadata) = loadVFresults(Radiance_File)\n",
    "data2 = pd.read_csv(Radiance_File)\n",
    "data_line = data2\n",
    "data_line_f = data_line\n",
    "#data_line_f = data_line[::-1].reset_index(drop = True) \n",
    "data_line_f.rename(columns={ data_line_f.columns[0]: \"x\", data_line_f.columns[1]: \"y\",data_line_f.columns[2]: \"z\", data_line_f.columns[3]: \"mattype\",data_line_f.columns[4]: \"Wm2Front\",}, inplace = True) \n",
    "yshift = data_line_f['y'] + 1 # Shift x_axis so it starts at 0 and not -1\n",
    "ystep = (yshift/pitch_def)*100\n",
    "module_end = (2/pitch_def)*100 #Percentage between rows where the module ends\n",
    "compare['Rad'] = data_line_f['Wm2Front']\n",
    "plt.figure(1)\n",
    "Radiance = plt.plot(x_axis,data_line_f['Wm2Front']/1000, label='Radiance')\n",
    "#plt.ylim([0, 260])\n",
    "#plt.xlim([0, 100])\n",
    "#plt.title('Bifacial Radiance vs VF')\n",
    "#plt.xlabel('Position between start of row and next row [%]')\n",
    "#plt.ylabel('Cumulative Insolation for the month [kWh/m2]')\n",
    "#plt.axvspan(0, module_end, alpha=.05, color='green')\n",
    "#plt.legend()\n",
    "# Work with VF data\n",
    "VFfile = r'C:\\Users\\jjones\\Documents\\GitHub\\bifacialvf\\bifacialvf\\TEMP\\Experiment_1\\Results_Test_ClearanceHeight_1.5.csv'\n",
    "#Load the results from the resultfile\n",
    "(data, metadata) = loadVFresults(VFfile)\n",
    "#Work with data in resultfile\n",
    "data.set_index(pd.to_datetime(data['date']), inplace=True, drop=True)\n",
    "data.index = data.index.map(lambda t: t.replace(year=2021))   # Chagning to be the same year\n",
    "groundIrrads = data['Ground Irradiance Values'].str.strip('[]').str.split(' ', expand=True).astype(float)\n",
    "df = groundIrrads.groupby([pd.Grouper(freq='M')]).sum().T\n",
    "df.rename(columns={ df.columns[0]: \"Jan\", df.columns[1]: \"Feb\",df.columns[2]: \"Mar\", df.columns[3]: \"Apr\",\n",
    "\n",
    "               df.columns[4]: \"May\",df.columns[5]: \"Jun\",df.columns[6]: \"Jul\",df.columns[7]: \"Aug\",\n",
    "               df.columns[8]: \"Sep\",df.columns[9]: \"Oct\",df.columns[10]: \"Nov\",df.columns[11]: \"Dec\"    }, inplace = True)\n",
    "\n",
    "compare['vf'] = df['Jun']\n",
    "VF = plt.plot(x_axis, df['Jun']/1000, label='VF')\n",
    "module_end = (2/pitch_def)*100 #Percentage between rows where the module ends)\n",
    "plt.axvspan(0, module_end, alpha=.2, color='green')\n",
    "#plt.ylim([0, 260])\n",
    "plt.xlim([0, 10])\n",
    "plt.title('Bifacial Radiance and VF Comparison')\n",
    "plt.xlabel('Position between start of row and next row [%]')\n",
    "plt.ylabel('Cumulative Insolation for the month [W/m2]')\n",
    "plt.legend()"
   ]
  },
  {
   "cell_type": "markdown",
   "id": "0bc956ae",
   "metadata": {},
   "source": [
    "## Graph of Radiance/VF Ratio vs Position"
   ]
  },
  {
   "cell_type": "code",
   "execution_count": 191,
   "id": "ee59e733",
   "metadata": {},
   "outputs": [
    {
     "name": "stdout",
     "output_type": "stream",
     "text": [
      "The average ratio for clearance height 0.25 is 1.2239080890895602\n",
      "The average ratio for clearance height 0.5 is 1.216237718782251\n",
      "The average ratio for clearance height 0.75 is 1.1585423275263746\n",
      "The average ratio for clearance height 1.0 is 1.1662372647830401\n",
      "The average ratio for clearance height 1.5 is 1.169635785871115\n",
      "The average ratio for clearance height 2.0 is 1.1407009950330993\n"
     ]
    },
    {
     "data": {
      "text/plain": [
       "<matplotlib.legend.Legend at 0x23d1831deb0>"
      ]
     },
     "execution_count": 191,
     "metadata": {},
     "output_type": "execute_result"
    },
    {
     "data": {
      "image/png": "[encoded data removed]",
      "text/plain": [
       "<Figure size 432x288 with 1 Axes>"
      ]
     },
     "metadata": {
      "needs_background": "light"
     },
     "output_type": "display_data"
    }
   ],
   "source": [
    "for ch in range (0, len(clearance_heights)):\n",
    "    clearance_height = clearance_heights[ch]\n",
    "    from bifacialvf import loadVFresults\n",
    "    Radiance_File = r'C:\\Users\\jjones\\Documents\\GitHub\\bifacial_radiance\\bifacial_radiance\\TEMP\\Experiment_1\\results\\irr_Rad_Experiment1_ClearanceHeight_'+str(clearance_height)+'_Ground_Analysis_Front.csv'\n",
    "    data2 = pd.read_csv(Radiance_File)\n",
    "    data_line = data2\n",
    "    data_line_f = data_line \n",
    "    data_line_f.rename(columns={ data_line_f.columns[0]: \"x\", data_line_f.columns[1]: \"y\",data_line_f.columns[2]: \"z\", data_line_f.columns[3]: \"mattype\",data_line_f.columns[4]: \"Wm2Front\",}, inplace = True) \n",
    "    yshift = data_line_f['y'] + 1 # Shift x_axis so it starts at 0 and not -1\n",
    "    ystep = (yshift/pitch_def)*100\n",
    "    module_end = (2/pitch_def)*100 #Percentage between rows where the module ends\n",
    "    plt.figure(1)\n",
    "    #Radiance = plt.plot(ystep,data_line_f['Wm2Front']/1000, label='Radiance')\n",
    "    #plt.ylim([0, 260])\n",
    "    #plt.xlim([0, 100])\n",
    "    #plt.title('Bifacial Radiance vs VF')\n",
    "    #plt.xlabel('Position between start of row and next row [%]')\n",
    "    #plt.ylabel('Cumulative Insolation for the month [kWh/m2]')\n",
    "    #plt.axvspan(0, module_end, alpha=.05, color='green')\n",
    "    #plt.legend()\n",
    "    # Work with VF data\n",
    "    VFfile = r'C:\\Users\\jjones\\Documents\\GitHub\\bifacialvf\\bifacialvf\\TEMP\\Experiment_1\\Results_Test_ClearanceHeight_'+str(clearance_height)+'.csv'\n",
    "    #Load the results from the resultfile\n",
    "    (data, metadata) = loadVFresults(VFfile)\n",
    "    #Work with data in resultfile\n",
    "    data.set_index(pd.to_datetime(data['date']), inplace=True, drop=True)\n",
    "    data.index = data.index.map(lambda t: t.replace(year=2021))   # Chagning to be the same year\n",
    "    groundIrrads = data['Ground Irradiance Values'].str.strip('[]').str.split(' ', expand=True).astype(float)\n",
    "    df = groundIrrads.groupby([pd.Grouper(freq='M')]).sum().T\n",
    "    df.rename(columns={ df.columns[0]: \"Jan\", df.columns[1]: \"Feb\",df.columns[2]: \"Mar\", df.columns[3]: \"Apr\",\n",
    "\n",
    "                   df.columns[4]: \"May\",df.columns[5]: \"Jun\",df.columns[6]: \"Jul\",df.columns[7]: \"Aug\",\n",
    "                   df.columns[8]: \"Sep\",df.columns[9]: \"Oct\",df.columns[10]: \"Nov\",df.columns[11]: \"Dec\"    }, inplace = True)\n",
    "\n",
    "    x_axis = list(range(1,99))\n",
    "    ratio = data_line_f['Wm2Front']/df['Jun'] \n",
    "    VF = plt.plot(ystep, ratio, label = clearance_height)\n",
    "    mean = np.mean(ratio)\n",
    "    print('The average ratio for clearance height',clearance_height,'is',mean)\n",
    "module_end = (2/pitch_def)*100 #Percentage between rows where the module ends)\n",
    "plt.axvspan(0, module_end, alpha=.2, color='green')\n",
    "#plt.ylim([0, 4])\n",
    "plt.xlim([0, 40])\n",
    "plt.title('Bifacial Radiance and VF Comparison')\n",
    "plt.xlabel('Position from start of row')\n",
    "plt.ylabel('Radiance/VF Ratio')\n",
    "plt.legend()"
   ]
  },
  {
   "cell_type": "markdown",
   "id": "2382f383",
   "metadata": {},
   "source": [
    "## Graph with Radiance on X axis and VF on Y axis"
   ]
  },
  {
   "cell_type": "code",
   "execution_count": 184,
   "id": "391fee94",
   "metadata": {},
   "outputs": [
    {
     "name": "stderr",
     "output_type": "stream",
     "text": [
      "WARNING:matplotlib.legend:No artists with labels found to put in legend.  Note that artists whose label start with an underscore are ignored when legend() is called with no argument.\n"
     ]
    },
    {
     "data": {
      "text/plain": [
       "<matplotlib.legend.Legend at 0x23d17cf06d0>"
      ]
     },
     "execution_count": 184,
     "metadata": {},
     "output_type": "execute_result"
    },
    {
     "data": {
      "image/png": "[encoded data removed]",
      "text/plain": [
       "<Figure size 432x288 with 1 Axes>"
      ]
     },
     "metadata": {
      "needs_background": "light"
     },
     "output_type": "display_data"
    }
   ],
   "source": [
    "from bifacialvf import loadVFresults\n",
    "Radiance_File = r'C:\\Users\\jjones\\Documents\\GitHub\\bifacial_radiance\\bifacial_radiance\\TEMP\\Experiment_1\\results\\irr_Rad_Experiment1_ClearanceHeight_0.25_Ground_Analysis_Front.csv'\n",
    "data2 = pd.read_csv(Radiance_File)\n",
    "data_line = data2\n",
    "data_line_f = data_line \n",
    "data_line_f.rename(columns={ data_line_f.columns[0]: \"x\", data_line_f.columns[1]: \"y\",data_line_f.columns[2]: \"z\", data_line_f.columns[3]: \"mattype\",data_line_f.columns[4]: \"Wm2Front\",}, inplace = True) \n",
    "yshift = data_line_f['y'] + 1 # Shift x_axis so it starts at 0 and not -1\n",
    "ystep = (yshift/pitch_def)*100\n",
    "module_end = (2/pitch_def)*100 #Percentage between rows where the module ends\n",
    "#Radiance = plt.plot(ystep,data_line_f['Wm2Front']/1000, label='Radiance')\n",
    "#plt.ylim([0, 260])\n",
    "#plt.xlim([0, 100])\n",
    "#plt.title('Bifacial Radiance vs VF')\n",
    "#plt.xlabel('Position between start of row and next row [%]')\n",
    "#plt.ylabel('Cumulative Insolation for the month [kWh/m2]')\n",
    "#plt.axvspan(0, module_end, alpha=.05, color='green')\n",
    "#plt.legend()\n",
    "# Work with VF data\n",
    "VFfile = r'C:\\Users\\jjones\\Documents\\GitHub\\bifacialvf\\bifacialvf\\TEMP\\Experiment_1\\Results_Test_ClearanceHeight_0.25.csv'\n",
    "#Load the results from the resultfile\n",
    "(data, metadata) = loadVFresults(VFfile)\n",
    "#Work with data in resultfile\n",
    "data.set_index(pd.to_datetime(data['date']), inplace=True, drop=True)\n",
    "data.index = data.index.map(lambda t: t.replace(year=2021))   # Chagning to be the same year\n",
    "groundIrrads = data['Ground Irradiance Values'].str.strip('[]').str.split(' ', expand=True).astype(float)\n",
    "df = groundIrrads.groupby([pd.Grouper(freq='M')]).sum().T\n",
    "df.rename(columns={ df.columns[0]: \"Jan\", df.columns[1]: \"Feb\",df.columns[2]: \"Mar\", df.columns[3]: \"Apr\",\n",
    "\n",
    "               df.columns[4]: \"May\",df.columns[5]: \"Jun\",df.columns[6]: \"Jul\",df.columns[7]: \"Aug\",\n",
    "               df.columns[8]: \"Sep\",df.columns[9]: \"Oct\",df.columns[10]: \"Nov\",df.columns[11]: \"Dec\"    }, inplace = True)\n",
    "\n",
    "plt.figure(1)\n",
    "x_axis = list(range(1,99))\n",
    "ratio = data_line_f['Wm2Front']/df['Jun'] \n",
    "VF = plt.plot(data_line_f['Wm2Front'],df['Jun'])\n",
    "constant = plt.plot(data_line_f['Wm2Front'],data_line_f['Wm2Front'])\n",
    "module_end = (2/pitch_def)*100 #Percentage between rows where the module ends)\n",
    "plt.axvspan(0, module_end, alpha=.2, color='green')\n",
    "#plt.ylim([0, 2])\n",
    "#plt.xlim([0, 100])\n",
    "plt.title('Bifacial Radiance and VF Comparison')\n",
    "plt.xlabel('Radiance')\n",
    "plt.ylabel('VF')\n",
    "plt.legend()"
   ]
  },
  {
   "cell_type": "code",
   "execution_count": 149,
   "id": "7b282cb3",
   "metadata": {},
   "outputs": [],
   "source": [
    "comp = pd.DataFrame(compare)\n",
    "compcsv = comp.to_csv(path_or_buf =r'C:\\\\Users\\\\jjones\\\\Documents\\\\GitHub\\\\bifacial_radiance\\\\bifacial_radiance\\\\TEMP\\\\Experiment_1\\compare.csv',index=False)\n"
   ]
  },
  {
   "cell_type": "code",
   "execution_count": 185,
   "id": "2909f913",
   "metadata": {},
   "outputs": [
    {
     "data": {
      "text/plain": [
       "1.2239080890895602"
      ]
     },
     "execution_count": 185,
     "metadata": {},
     "output_type": "execute_result"
    }
   ],
   "source": [
    "np.mean(ratio)"
   ]
  },
  {
   "cell_type": "code",
   "execution_count": 194,
   "id": "612c442c",
   "metadata": {},
   "outputs": [
    {
     "ename": "AttributeError",
     "evalue": "'int' object has no attribute 'replace'",
     "output_type": "error",
     "traceback": [
      "\u001b[1;31m---------------------------------------------------------------------------\u001b[0m",
      "\u001b[1;31mAttributeError\u001b[0m                            Traceback (most recent call last)",
      "Input \u001b[1;32mIn [194]\u001b[0m, in \u001b[0;36m<cell line: 1>\u001b[1;34m()\u001b[0m\n\u001b[0;32m      6\u001b[0m (data, metadata) \u001b[38;5;241m=\u001b[39m loadVFresults(VF_File)\n\u001b[0;32m      7\u001b[0m \u001b[38;5;66;03m#Work with data in resultfile\u001b[39;00m\n\u001b[0;32m      8\u001b[0m \u001b[38;5;66;03m#data.set_index(pd.to_datetime(data['date']), inplace=True, drop=True)\u001b[39;00m\n\u001b[1;32m----> 9\u001b[0m data\u001b[38;5;241m.\u001b[39mindex \u001b[38;5;241m=\u001b[39m \u001b[43mdata\u001b[49m\u001b[38;5;241;43m.\u001b[39;49m\u001b[43mindex\u001b[49m\u001b[38;5;241;43m.\u001b[39;49m\u001b[43mmap\u001b[49m\u001b[43m(\u001b[49m\u001b[38;5;28;43;01mlambda\u001b[39;49;00m\u001b[43m \u001b[49m\u001b[43mt\u001b[49m\u001b[43m:\u001b[49m\u001b[43m \u001b[49m\u001b[43mt\u001b[49m\u001b[38;5;241;43m.\u001b[39;49m\u001b[43mreplace\u001b[49m\u001b[43m(\u001b[49m\u001b[43myear\u001b[49m\u001b[38;5;241;43m=\u001b[39;49m\u001b[38;5;241;43m2021\u001b[39;49m\u001b[43m)\u001b[49m\u001b[43m)\u001b[49m   \u001b[38;5;66;03m# Chagning to be the same year\u001b[39;00m\n\u001b[0;32m     10\u001b[0m groundIrrads \u001b[38;5;241m=\u001b[39m data[\u001b[38;5;124m'\u001b[39m\u001b[38;5;124mGround Irradiance Values\u001b[39m\u001b[38;5;124m'\u001b[39m]\u001b[38;5;241m.\u001b[39mstr\u001b[38;5;241m.\u001b[39mstrip(\u001b[38;5;124m'\u001b[39m\u001b[38;5;124m[]\u001b[39m\u001b[38;5;124m'\u001b[39m)\u001b[38;5;241m.\u001b[39mstr\u001b[38;5;241m.\u001b[39msplit(\u001b[38;5;124m'\u001b[39m\u001b[38;5;124m \u001b[39m\u001b[38;5;124m'\u001b[39m, expand\u001b[38;5;241m=\u001b[39m\u001b[38;5;28;01mTrue\u001b[39;00m)\u001b[38;5;241m.\u001b[39mastype(\u001b[38;5;28mfloat\u001b[39m)\n\u001b[0;32m     11\u001b[0m date \u001b[38;5;241m=\u001b[39m times[\u001b[38;5;241m2\u001b[39m]\n",
      "File \u001b[1;32mC:\\ProgramData\\Anaconda3\\lib\\site-packages\\pandas\\core\\indexes\\base.py:6076\u001b[0m, in \u001b[0;36mIndex.map\u001b[1;34m(self, mapper, na_action)\u001b[0m\n\u001b[0;32m   6056\u001b[0m \u001b[38;5;124;03m\"\"\"\u001b[39;00m\n\u001b[0;32m   6057\u001b[0m \u001b[38;5;124;03mMap values using an input mapping or function.\u001b[39;00m\n\u001b[0;32m   6058\u001b[0m \n\u001b[1;32m   (...)\u001b[0m\n\u001b[0;32m   6072\u001b[0m \u001b[38;5;124;03m    a MultiIndex will be returned.\u001b[39;00m\n\u001b[0;32m   6073\u001b[0m \u001b[38;5;124;03m\"\"\"\u001b[39;00m\n\u001b[0;32m   6074\u001b[0m \u001b[38;5;28;01mfrom\u001b[39;00m \u001b[38;5;21;01mpandas\u001b[39;00m\u001b[38;5;21;01m.\u001b[39;00m\u001b[38;5;21;01mcore\u001b[39;00m\u001b[38;5;21;01m.\u001b[39;00m\u001b[38;5;21;01mindexes\u001b[39;00m\u001b[38;5;21;01m.\u001b[39;00m\u001b[38;5;21;01mmulti\u001b[39;00m \u001b[38;5;28;01mimport\u001b[39;00m MultiIndex\n\u001b[1;32m-> 6076\u001b[0m new_values \u001b[38;5;241m=\u001b[39m \u001b[38;5;28;43mself\u001b[39;49m\u001b[38;5;241;43m.\u001b[39;49m\u001b[43m_map_values\u001b[49m\u001b[43m(\u001b[49m\u001b[43mmapper\u001b[49m\u001b[43m,\u001b[49m\u001b[43m \u001b[49m\u001b[43mna_action\u001b[49m\u001b[38;5;241;43m=\u001b[39;49m\u001b[43mna_action\u001b[49m\u001b[43m)\u001b[49m\n\u001b[0;32m   6078\u001b[0m \u001b[38;5;66;03m# we can return a MultiIndex\u001b[39;00m\n\u001b[0;32m   6079\u001b[0m \u001b[38;5;28;01mif\u001b[39;00m new_values\u001b[38;5;241m.\u001b[39msize \u001b[38;5;129;01mand\u001b[39;00m \u001b[38;5;28misinstance\u001b[39m(new_values[\u001b[38;5;241m0\u001b[39m], \u001b[38;5;28mtuple\u001b[39m):\n",
      "File \u001b[1;32mC:\\ProgramData\\Anaconda3\\lib\\site-packages\\pandas\\core\\base.py:880\u001b[0m, in \u001b[0;36mIndexOpsMixin._map_values\u001b[1;34m(self, mapper, na_action)\u001b[0m\n\u001b[0;32m    877\u001b[0m         \u001b[38;5;28;01mraise\u001b[39;00m \u001b[38;5;167;01mValueError\u001b[39;00m(msg)\n\u001b[0;32m    879\u001b[0m \u001b[38;5;66;03m# mapper is a function\u001b[39;00m\n\u001b[1;32m--> 880\u001b[0m new_values \u001b[38;5;241m=\u001b[39m \u001b[43mmap_f\u001b[49m\u001b[43m(\u001b[49m\u001b[43mvalues\u001b[49m\u001b[43m,\u001b[49m\u001b[43m \u001b[49m\u001b[43mmapper\u001b[49m\u001b[43m)\u001b[49m\n\u001b[0;32m    882\u001b[0m \u001b[38;5;28;01mreturn\u001b[39;00m new_values\n",
      "File \u001b[1;32mC:\\ProgramData\\Anaconda3\\lib\\site-packages\\pandas\\_libs\\lib.pyx:2870\u001b[0m, in \u001b[0;36mpandas._libs.lib.map_infer\u001b[1;34m()\u001b[0m\n",
      "Input \u001b[1;32mIn [194]\u001b[0m, in \u001b[0;36m<lambda>\u001b[1;34m(t)\u001b[0m\n\u001b[0;32m      6\u001b[0m (data, metadata) \u001b[38;5;241m=\u001b[39m loadVFresults(VF_File)\n\u001b[0;32m      7\u001b[0m \u001b[38;5;66;03m#Work with data in resultfile\u001b[39;00m\n\u001b[0;32m      8\u001b[0m \u001b[38;5;66;03m#data.set_index(pd.to_datetime(data['date']), inplace=True, drop=True)\u001b[39;00m\n\u001b[1;32m----> 9\u001b[0m data\u001b[38;5;241m.\u001b[39mindex \u001b[38;5;241m=\u001b[39m data\u001b[38;5;241m.\u001b[39mindex\u001b[38;5;241m.\u001b[39mmap(\u001b[38;5;28;01mlambda\u001b[39;00m t: \u001b[43mt\u001b[49m\u001b[38;5;241;43m.\u001b[39;49m\u001b[43mreplace\u001b[49m(year\u001b[38;5;241m=\u001b[39m\u001b[38;5;241m2021\u001b[39m))   \u001b[38;5;66;03m# Chagning to be the same year\u001b[39;00m\n\u001b[0;32m     10\u001b[0m groundIrrads \u001b[38;5;241m=\u001b[39m data[\u001b[38;5;124m'\u001b[39m\u001b[38;5;124mGround Irradiance Values\u001b[39m\u001b[38;5;124m'\u001b[39m]\u001b[38;5;241m.\u001b[39mstr\u001b[38;5;241m.\u001b[39mstrip(\u001b[38;5;124m'\u001b[39m\u001b[38;5;124m[]\u001b[39m\u001b[38;5;124m'\u001b[39m)\u001b[38;5;241m.\u001b[39mstr\u001b[38;5;241m.\u001b[39msplit(\u001b[38;5;124m'\u001b[39m\u001b[38;5;124m \u001b[39m\u001b[38;5;124m'\u001b[39m, expand\u001b[38;5;241m=\u001b[39m\u001b[38;5;28;01mTrue\u001b[39;00m)\u001b[38;5;241m.\u001b[39mastype(\u001b[38;5;28mfloat\u001b[39m)\n\u001b[0;32m     11\u001b[0m date \u001b[38;5;241m=\u001b[39m times[\u001b[38;5;241m2\u001b[39m]\n",
      "\u001b[1;31mAttributeError\u001b[0m: 'int' object has no attribute 'replace'"
     ]
    }
   ],
   "source": [
    "for ch in range (0, len(clearance_heights)):\n",
    "    clearance_height = clearance_heights[ch]\n",
    "    VF_File = r'C:\\Users\\jjones\\Documents\\GitHub\\bifacial_radiance\\bifacial_radiance\\TEMP\\Experiment_1\\results\\irr_Rad_Experiment1_ClearanceHeight_lit_'+str(clearance_height)+'_Ground_Analysis_Front.csv'\n",
    "    #Load the results from the resultfile\n",
    "    from bifacialvf import loadVFresults\n",
    "    (data, metadata) = loadVFresults(VF_File)\n",
    "    #Work with data in resultfile\n",
    "    #data.set_index(pd.to_datetime(data['date']), inplace=True, drop=True)\n",
    "    data.index = data.index.map(lambda t: t.replace(year=2021))   # Chagning to be the same year\n",
    "    groundIrrads = data['Ground Irradiance Values'].str.strip('[]').str.split(' ', expand=True).astype(float)\n",
    "    date = times[2]\n",
    "    gg = groundIrrads.loc[date]\n",
    "    #Calculate midpoint. Use this to figure out where to split table. We'll split at row 33\n",
    "    mid = 0.5*CW*np.cos(tilt) #This midpoint is at 1m because the tilt is 0\n",
    "    #will make two seperate tables from the split and then append front split to back split\n",
    "    splitfront = gg.iloc[:33]\n",
    "    splitback = gg.iloc[33:]\n",
    "    full = splitback.append(splitfront)\n",
    "    #create x axis\n",
    "    xstep = pitch_def/100\n",
    "    xaxis = np.linspace(0, pitch_def, num=100, endpoint=True)\n",
    "    graph = plt.plot(x_axis, full, label=chreg)\n",
    "    plt.title('Bifacial_VF Comparison of Hub Height '+date)\n",
    "    plt.xlabel('Meters from middle (m)')\n",
    "    plt.ylabel('Cumulative Insolation for the month [W/m2]')\n",
    "plt.legend()\n",
    "plt.show"
   ]
  },
  {
   "cell_type": "markdown",
   "id": "7b3860c1",
   "metadata": {},
   "source": [
    "## Experiment for Turning Irradiance --> PAR --> PPFD"
   ]
  },
  {
   "cell_type": "code",
   "execution_count": 204,
   "id": "3abb67c7",
   "metadata": {},
   "outputs": [
    {
     "data": {
      "image/png": "[encoded data removed]",
      "text/plain": [
       "<Figure size 432x288 with 1 Axes>"
      ]
     },
     "metadata": {
      "needs_background": "light"
     },
     "output_type": "display_data"
    }
   ],
   "source": [
    "# Global irradiance is calculated in Radiance and VF. Using ratios we can go from global irradiance to photosynthetically\n",
    "# active radiation and then photosynthetic photon flux density. This is helpful understanding how the light exposure\n",
    "# will affect plant's growth potentials and rates.\n",
    "for ch in range (0, len(clearance_heights)):\n",
    "    clearance_height = clearance_heights[ch]\n",
    "    from bifacialvf import loadVFresults\n",
    "    Radiance_File = r'C:\\Users\\jjones\\Documents\\GitHub\\bifacial_radiance\\bifacial_radiance\\TEMP\\Experiment_1\\results\\irr_Rad_Experiment1_ClearanceHeight_'+str(clearance_height)+'_Ground_Analysis_Front.csv'\n",
    "    (data2, metadata) = loadVFresults(Radiance_File)\n",
    "    data_line = data2\n",
    "    data_line_f = data_line[::-1].reset_index(drop = True) \n",
    "    data_line_f.rename(columns={ data_line_f.columns[0]: \"x\", data_line_f.columns[1]: \"y\",data_line_f.columns[2]: \"z\", data_line_f.columns[3]: \"mattype\",data_line_f.columns[4]: \"Wm2Front\",}, inplace = True) \n",
    "    PAR = data_line_f['Wm2Front'] *0.43 # The wavelengths of PAR make up 43-45% of the irradiance spectrum kWh/m2\n",
    "    # We need to convert to MJ/m2 1 Wh = 0.0036 MJ\n",
    "    PARMJ = PAR *0.0036\n",
    "    #Conversion factor for PAR to PPFD is 1 MJ/m2·d =127.79 μmol·m-2·s-1 based on paper from https://www.researchgate.net/publication/328532035_Analysis_of_Light_Environment_Under_Solar_Panels_and_Crop_Layout\n",
    "    PPFD = PARMJ * 127.79\n",
    "    yshift = data_line_f['y'] + 1 # Shift x_axis so it starts at 0 and not -1\n",
    "    ystep = (yshift/pitch_def)*100\n",
    "    module_end = (2/pitch_def)*100 #Percentage between rows where the module ends\n",
    "    plt.figure(1)\n",
    "    Radiance = plt.plot(ystep,PARMJ, label=clearance_height)\n",
    "    #plt.ylim([0, 260])\n",
    "    plt.xlim([0, 100])\n",
    "    plt.title('Bifacial Radiance')\n",
    "    plt.xlabel('Position between start of row and next row [%]')\n",
    "    plt.ylabel('Cumulative PAR for Month [MJ/m2*month]')\n",
    "    plt.axvspan(0, module_end, alpha=.05, color='green')\n",
    "    plt.legend()\n"
   ]
  },
  {
   "cell_type": "code",
   "execution_count": 205,
   "id": "2728bee4",
   "metadata": {},
   "outputs": [
    {
     "data": {
      "image/png": "[encoded data removed]",
      "text/plain": [
       "<Figure size 432x288 with 1 Axes>"
      ]
     },
     "metadata": {
      "needs_background": "light"
     },
     "output_type": "display_data"
    }
   ],
   "source": [
    "# Plot Radiance values simulated for 1 hour\n",
    "for ch in range (0, len(clearance_heights)):\n",
    "    clearance_height = clearance_heights[ch]\n",
    "    from bifacialvf import loadVFresults\n",
    "    Radiance_File = r'C:\\Users\\jjones\\Documents\\GitHub\\bifacial_radiance\\bifacial_radiance\\TEMP\\Experiment_1\\results\\irr_Rad_Experiment1_ClearanceHeight_lit_'+str(clearance_height)+'_Ground_Analysis_Front.csv'\n",
    "    (data2, metadata) = loadVFresults(Radiance_File)\n",
    "    data_line = data2\n",
    "    data_line_f = data_line[::-1].reset_index(drop = True) \n",
    "    data_line_f.rename(columns={ data_line_f.columns[0]: \"x\", data_line_f.columns[1]: \"y\",data_line_f.columns[2]: \"z\", data_line_f.columns[3]: \"mattype\",data_line_f.columns[4]: \"Wm2Front\",}, inplace = True) \n",
    "    PAR = data_line_f['Wm2Front'] *0.43 # The wavelengths of PAR make up 43-45% of the irradiance spectrum kWh/m2\n",
    "    # We need to convert to MJ/m2 1 kWh = 0.0036 MJ\n",
    "    PARMJ = PAR *0.0036\n",
    "    #Conversion factor for PAR to PPFD is 1 MJ/m2·d =127.79 μmol·m-2·s-1 based on paper from https://www.researchgate.net/publication/328532035_Analysis_of_Light_Environment_Under_Solar_Panels_and_Crop_Layout\n",
    "    PPFD = PARMJ * 127.79\n",
    "    yshift = data_line_f['y'] + 0.85 # Shift x_axis so it starts at 0 and not -1\n",
    "    ystep = (yshift/pitch_def)*100\n",
    "    module_end = (2/pitch_def)*100 #Percentage between rows where the module ends\n",
    "    plt.figure(1)\n",
    "    Radiance = plt.plot(ystep,PARMJ, label=clearance_height)\n",
    "    #plt.ylim([0, 260])\n",
    "    plt.xlim([0, 100])\n",
    "    plt.title('Bifacial Radiance')\n",
    "    plt.xlabel('Position between start of row and next row [%]')\n",
    "    plt.ylabel('Cumulative PAR for the hour [MJ/(m2*hr)]')\n",
    "    plt.axvspan(0, module_end, alpha=.05, color='green')\n",
    "    plt.legend()\n",
    "    "
   ]
  },
  {
   "cell_type": "markdown",
   "id": "119f69d5",
   "metadata": {},
   "source": [
    "## Run Clearance Height Simulation for One Day"
   ]
  },
  {
   "cell_type": "code",
   "execution_count": 206,
   "id": "e2ab3f6c",
   "metadata": {},
   "outputs": [
    {
     "name": "stdout",
     "output_type": "stream",
     "text": [
      "path = C:\\Users\\jjones\\Documents\\GitHub\\bifacial_radiance\\bifacial_radiance\\TEMP\\Experiment_1\n",
      "Loading albedo, 1 value(s), 0.310 avg\n",
      "1 nonzero albedo values.\n",
      "Getting weather file: USA_AZ_Davis-Monthan.AFB.722745_TMY3.epw\n",
      " ... OK!\n",
      "8760 line in WeatherFile. Assuming this is a standard hourly WeatherFile for the year for purposes of saving Gencumulativesky temporary weather files in EPW folder.\n",
      "Coercing year to 2021\n",
      "Filtering dates\n",
      "Saving file EPWs\\metdata_temp.csv, # points: 8760\n",
      "Calculating Sun position for Metdata that is right-labeled  with a delta of -30 mins. i.e. 12 is 11:30 sunpos\n",
      "Loaded  EPWs\\metdata_temp.csv\n",
      "message: There were 14 sun up hours in this climate file\n",
      "Total Ibh/Lbh: 0.000000\n"
     ]
    },
    {
     "data": {
      "text/plain": [
       "'skies\\\\cumulative.rad'"
      ]
     },
     "execution_count": 206,
     "metadata": {},
     "output_type": "execute_result"
    }
   ],
   "source": [
    "starttime =pd.to_datetime('2021-6-01 01:00:0')\n",
    "endtime = pd.to_datetime('2021-6-01 23:00:0')\n",
    "demo2 = bifacial_radiance.RadianceObj(sim_general_name,str(testfolder)) \n",
    "demo2.setGround(albedo)\n",
    "epwfile = demo2.getEPW(lat,lon)  \n",
    "demo2.readWeatherFile(epwfile, starttime=starttime, endtime=endtime, coerce_year = 2021) # Name and path\n",
    "demo2.genCumSky()"
   ]
  },
  {
   "cell_type": "code",
   "execution_count": 207,
   "id": "35eef122",
   "metadata": {},
   "outputs": [
    {
     "name": "stdout",
     "output_type": "stream",
     "text": [
      "\n",
      "Module Name: test-module\n",
      "Module test-module updated in module.json\n",
      "Pre-existing .rad file objects\\test-module.rad will be overwritten\n",
      "\n",
      "Warning:  input `moduletype` is deprecated. Use kwarg `module` instead\n",
      "Created Rad_Experiment1.oct\n",
      "Warning:  input `moduletype` is deprecated. Use kwarg `module` instead\n",
      "Created Rad_Experiment1.oct\n",
      "Linescan in process: Rad_Experiment1_ClearanceHeight_day0.25_Module_Analysis_Front\n",
      "Linescan in process: Rad_Experiment1_ClearanceHeight_day0.25_Module_Analysis_Back\n",
      "Saved: results\\irr_Rad_Experiment1_ClearanceHeight_day0.25_Module_Analysis_Front.csv\n",
      "Saved: results\\irr_Rad_Experiment1_ClearanceHeight_day0.25_Module_Analysis_Back.csv\n",
      "Linescan in process: Rad_Experiment1_ClearanceHeight_day0.25_Ground_Analysis_Front\n",
      "Linescan in process: Rad_Experiment1_ClearanceHeight_day0.25_Ground_Analysis_Back\n",
      "Saved: results\\irr_Rad_Experiment1_ClearanceHeight_day0.25_Ground_Analysis_Front.csv\n",
      "Saved: results\\irr_Rad_Experiment1_ClearanceHeight_day0.25_Ground_Analysis_Back.csv\n",
      "Warning:  input `moduletype` is deprecated. Use kwarg `module` instead\n",
      "Created Rad_Experiment1.oct\n",
      "Warning:  input `moduletype` is deprecated. Use kwarg `module` instead\n",
      "Created Rad_Experiment1.oct\n",
      "Linescan in process: Rad_Experiment1_ClearanceHeight_day0.5_Module_Analysis_Front\n",
      "Linescan in process: Rad_Experiment1_ClearanceHeight_day0.5_Module_Analysis_Back\n",
      "Saved: results\\irr_Rad_Experiment1_ClearanceHeight_day0.5_Module_Analysis_Front.csv\n",
      "Saved: results\\irr_Rad_Experiment1_ClearanceHeight_day0.5_Module_Analysis_Back.csv\n",
      "Linescan in process: Rad_Experiment1_ClearanceHeight_day0.5_Ground_Analysis_Front\n",
      "Linescan in process: Rad_Experiment1_ClearanceHeight_day0.5_Ground_Analysis_Back\n",
      "Saved: results\\irr_Rad_Experiment1_ClearanceHeight_day0.5_Ground_Analysis_Front.csv\n",
      "Saved: results\\irr_Rad_Experiment1_ClearanceHeight_day0.5_Ground_Analysis_Back.csv\n",
      "Warning:  input `moduletype` is deprecated. Use kwarg `module` instead\n",
      "Created Rad_Experiment1.oct\n",
      "Warning:  input `moduletype` is deprecated. Use kwarg `module` instead\n",
      "Created Rad_Experiment1.oct\n",
      "Linescan in process: Rad_Experiment1_ClearanceHeight_day0.75_Module_Analysis_Front\n",
      "Linescan in process: Rad_Experiment1_ClearanceHeight_day0.75_Module_Analysis_Back\n",
      "Saved: results\\irr_Rad_Experiment1_ClearanceHeight_day0.75_Module_Analysis_Front.csv\n",
      "Saved: results\\irr_Rad_Experiment1_ClearanceHeight_day0.75_Module_Analysis_Back.csv\n",
      "Linescan in process: Rad_Experiment1_ClearanceHeight_day0.75_Ground_Analysis_Front\n",
      "Linescan in process: Rad_Experiment1_ClearanceHeight_day0.75_Ground_Analysis_Back\n",
      "Saved: results\\irr_Rad_Experiment1_ClearanceHeight_day0.75_Ground_Analysis_Front.csv\n",
      "Saved: results\\irr_Rad_Experiment1_ClearanceHeight_day0.75_Ground_Analysis_Back.csv\n",
      "Warning:  input `moduletype` is deprecated. Use kwarg `module` instead\n",
      "Created Rad_Experiment1.oct\n",
      "Warning:  input `moduletype` is deprecated. Use kwarg `module` instead\n",
      "Created Rad_Experiment1.oct\n",
      "Linescan in process: Rad_Experiment1_ClearanceHeight_day1.0_Module_Analysis_Front\n",
      "Linescan in process: Rad_Experiment1_ClearanceHeight_day1.0_Module_Analysis_Back\n",
      "Saved: results\\irr_Rad_Experiment1_ClearanceHeight_day1.0_Module_Analysis_Front.csv\n",
      "Saved: results\\irr_Rad_Experiment1_ClearanceHeight_day1.0_Module_Analysis_Back.csv\n",
      "Linescan in process: Rad_Experiment1_ClearanceHeight_day1.0_Ground_Analysis_Front\n",
      "Linescan in process: Rad_Experiment1_ClearanceHeight_day1.0_Ground_Analysis_Back\n",
      "Saved: results\\irr_Rad_Experiment1_ClearanceHeight_day1.0_Ground_Analysis_Front.csv\n",
      "Saved: results\\irr_Rad_Experiment1_ClearanceHeight_day1.0_Ground_Analysis_Back.csv\n",
      "Warning:  input `moduletype` is deprecated. Use kwarg `module` instead\n",
      "Created Rad_Experiment1.oct\n",
      "Warning:  input `moduletype` is deprecated. Use kwarg `module` instead\n",
      "Created Rad_Experiment1.oct\n",
      "Linescan in process: Rad_Experiment1_ClearanceHeight_day1.5_Module_Analysis_Front\n",
      "Linescan in process: Rad_Experiment1_ClearanceHeight_day1.5_Module_Analysis_Back\n",
      "Saved: results\\irr_Rad_Experiment1_ClearanceHeight_day1.5_Module_Analysis_Front.csv\n",
      "Saved: results\\irr_Rad_Experiment1_ClearanceHeight_day1.5_Module_Analysis_Back.csv\n",
      "Linescan in process: Rad_Experiment1_ClearanceHeight_day1.5_Ground_Analysis_Front\n",
      "Linescan in process: Rad_Experiment1_ClearanceHeight_day1.5_Ground_Analysis_Back\n",
      "Saved: results\\irr_Rad_Experiment1_ClearanceHeight_day1.5_Ground_Analysis_Front.csv\n",
      "Saved: results\\irr_Rad_Experiment1_ClearanceHeight_day1.5_Ground_Analysis_Back.csv\n",
      "Warning:  input `moduletype` is deprecated. Use kwarg `module` instead\n",
      "Created Rad_Experiment1.oct\n",
      "Warning:  input `moduletype` is deprecated. Use kwarg `module` instead\n",
      "Created Rad_Experiment1.oct\n",
      "Linescan in process: Rad_Experiment1_ClearanceHeight_day2.0_Module_Analysis_Front\n",
      "Linescan in process: Rad_Experiment1_ClearanceHeight_day2.0_Module_Analysis_Back\n",
      "Saved: results\\irr_Rad_Experiment1_ClearanceHeight_day2.0_Module_Analysis_Front.csv\n",
      "Saved: results\\irr_Rad_Experiment1_ClearanceHeight_day2.0_Module_Analysis_Back.csv\n",
      "Linescan in process: Rad_Experiment1_ClearanceHeight_day2.0_Ground_Analysis_Front\n",
      "Linescan in process: Rad_Experiment1_ClearanceHeight_day2.0_Ground_Analysis_Back\n",
      "Saved: results\\irr_Rad_Experiment1_ClearanceHeight_day2.0_Ground_Analysis_Front.csv\n",
      "Saved: results\\irr_Rad_Experiment1_ClearanceHeight_day2.0_Ground_Analysis_Back.csv\n"
     ]
    }
   ],
   "source": [
    "module = demo2.makeModule(name=moduletype, x=x, y=y, xgap=xgap, ygap=ygap)\n",
    "for ch in range (0, len(clearance_heights)):\n",
    "    #Build scene and run raytracing for all clearance heights\n",
    "    clearance_height = clearance_heights[ch]\n",
    "    length = pitch_def*nRows+(y* np.cos(np.radians(tilt_def)))+2\n",
    "    yinc = pitch_def/(sensorsy_gb[0]-1)\n",
    "    writefiletitle = os.path.join(testfolder, 'Results_Test_ClearanceHeight_'+str(clearance_height)+'.csv')\n",
    "    sim_name = sim_general_name+'_ClearanceHeight_day'+str(clearance_height)\n",
    "    sceneDict = {'tilt':tilt_def,'pitch':pitch_def,'clearance_height':clearance_height,'azimuth':azimuth,'nMods': nMods,'nRows': nRows}\n",
    "    if tilt_def == 20:\n",
    "        scene = demo2.makeScene(moduletype=moduletype,sceneDict=sceneDict, radname = sim_name)\n",
    "        octfile = demo2.makeOct(demo2.getfilelist())  \n",
    "        analysis = bifacial_radiance.AnalysisObj(octfile=octfile, name=sim_name)\n",
    "        frontscan, backscan = analysis.moduleAnalysis(scene=scene,sensorsx = sensorsx_gb,sensorsy=sensorsy_gb)\n",
    "        groundscan = frontscan.copy() \n",
    "        groundscan['yinc'] = yinc\n",
    "        groundscan['zstart'] = 0.05\n",
    "        groundscan['zinc'] = 0\n",
    "        groundscan['orient'] = '0 0 -1'\n",
    "    scene = demo2.makeScene(moduletype=moduletype,sceneDict=sceneDict, radname = sim_name)\n",
    "    octfile = demo2.makeOct(demo2.getfilelist())\n",
    "    frontscan, backscan = analysis.moduleAnalysis(scene=scene, sensorsy=sensorsy_gb, sensorsx = sensorsx_gb)\n",
    "    analysis.analysis(octfile, name=sim_name+'_Module_Analysis', frontscan=frontscan, backscan=backscan)\n",
    "    analysis.analysis(octfile, name=sim_name+'_Ground_Analysis', frontscan=groundscan, backscan=backscan)\n"
   ]
  },
  {
   "cell_type": "code",
   "execution_count": 208,
   "id": "53769f02",
   "metadata": {},
   "outputs": [
    {
     "data": {
      "image/png": "[encoded data removed]",
      "text/plain": [
       "<Figure size 432x288 with 1 Axes>"
      ]
     },
     "metadata": {
      "needs_background": "light"
     },
     "output_type": "display_data"
    }
   ],
   "source": [
    "# Global irradiance is calculated in Radiance and VF. Using ratios we can go from global irradiance to photosynthetically\n",
    "# active radiation and then photosynthetic photon flux density. This is helpful understanding how the light exposure\n",
    "# will affect plant's growth potentials and rates.\n",
    "for ch in range (0, len(clearance_heights)):\n",
    "    clearance_height = clearance_heights[ch]\n",
    "    from bifacialvf import loadVFresults\n",
    "    Radiance_File = r'C:\\Users\\jjones\\Documents\\GitHub\\bifacial_radiance\\bifacial_radiance\\TEMP\\Experiment_1\\results\\irr_Rad_Experiment1_ClearanceHeight_day'+str(clearance_height)+'_Ground_Analysis_Front.csv'\n",
    "    (data2, metadata) = loadVFresults(Radiance_File)\n",
    "    data_line = data2\n",
    "    data_line_f = data_line[::-1].reset_index(drop = True) \n",
    "    data_line_f.rename(columns={ data_line_f.columns[0]: \"x\", data_line_f.columns[1]: \"y\",data_line_f.columns[2]: \"z\", data_line_f.columns[3]: \"mattype\",data_line_f.columns[4]: \"Wm2Front\",}, inplace = True) \n",
    "    PAR = data_line_f['Wm2Front'] *0.43 # The wavelengths of PAR make up 43-45% of the irradiance spectrum Wh/m2\n",
    "    # We need to convert to MJ/m2 1 Wh = 0.0036 MJ\n",
    "    PARMJ = PAR *0.0036\n",
    "    #Conversion factor for PAR to PPFD is 1 MJ/m2·d =127.79 μmol·m-2·s-1 based on paper from https://www.researchgate.net/publication/328532035_Analysis_of_Light_Environment_Under_Solar_Panels_and_Crop_Layout\n",
    "    PPFD = PARMJ * 127.79\n",
    "    yshift = data_line_f['y'] + 1 # Shift x_axis so it starts at 0 and not -1\n",
    "    ystep = (yshift/pitch_def)*100\n",
    "    module_end = (2/pitch_def)*100 #Percentage between rows where the module ends\n",
    "    plt.figure(1)\n",
    "    Radiance = plt.plot(ystep,PARMJ, label=clearance_height)\n",
    "    #plt.ylim([0, 260])\n",
    "    plt.xlim([0, 100])\n",
    "    plt.title('Bifacial Radiance')\n",
    "    plt.xlabel('Position between start of row and next row [%]')\n",
    "    plt.ylabel('Cumulative PAR for Month [MJ/m2*day]')\n",
    "    plt.axvspan(0, module_end, alpha=.05, color='green')\n",
    "    plt.legend()"
   ]
  },
  {
   "cell_type": "code",
   "execution_count": null,
   "id": "6272d133",
   "metadata": {},
   "outputs": [],
   "source": []
  }
 ],
 "metadata": {
  "kernelspec": {
   "display_name": "Python 3 (ipykernel)",
   "language": "python",
   "name": "python3"
  },
  "language_info": {
   "codemirror_mode": {
    "name": "ipython",
    "version": 3
   },
   "file_extension": ".py",
   "mimetype": "text/x-python",
   "name": "python",
   "nbconvert_exporter": "python",
   "pygments_lexer": "ipython3",
   "version": "3.9.12"
  }
 },
 "nbformat": 4,
 "nbformat_minor": 5
}
