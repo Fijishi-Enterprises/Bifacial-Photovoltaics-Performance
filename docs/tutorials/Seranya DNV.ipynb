{
 "cells": [
  {
   "cell_type": "markdown",
   "id": "21162c38",
   "metadata": {},
   "source": [
    "-\tThe details of the C-beam and angles structure (how to implement)\n",
    "-\tAny limitations you see in implementing this structure within the analysis.\n",
    "-\tIf we had the .cad models it possible to implement this directly? Is this process quicker?\n",
    "-\tAny advise you may have?\n",
    "\n",
    "\n",
    "Two main options: obj2rad to import the STP > Obj > Rad & Mat file object. Difficulties: materials and multiple mesh creation; heavy to process if the surfaces are not recognized easily and divided into million teseracts, and you don't have the analysis function working as easily so have to come up with your own SENSOR SAMPLING positions (frontscan and backscan) dictionary. Not too terrible though if you do a similar system side by side with an originx and originy offset and then modify your backscan['xstart'] parameter.\n",
    "\n",
    "Option 2: Simulate the geometry without and with Beams. We have some I beams in tutorial 20; you need to modify the offset so the shape is a C and not an I. \n",
    "\n"
   ]
  },
  {
   "cell_type": "code",
   "execution_count": 1,
   "id": "207d4d45",
   "metadata": {},
   "outputs": [
    {
     "name": "stdout",
     "output_type": "stream",
     "text": [
      "Your simulation will be stored in C:\\Users\\sayala\\Documents\\GitHub\\bifacial_radiance\\bifacial_radiance\\TEMP\\Tutorial_24\n"
     ]
    },
    {
     "data": {
      "text/plain": [
       "'0.4.1+52.gad80dbf.dirty'"
      ]
     },
     "execution_count": 1,
     "metadata": {},
     "output_type": "execute_result"
    }
   ],
   "source": [
    "import os\n",
    "from pathlib import Path\n",
    "import bifacial_radiance\n",
    "import numpy as np\n",
    "import pandas as pd\n",
    "\n",
    "testfolder = Path().resolve().parent.parent / 'bifacial_radiance' / 'TEMP' / 'Tutorial_24'\n",
    "print (\"Your simulation will be stored in %s\" % testfolder)\n",
    "\n",
    "if not os.path.exists(testfolder):\n",
    "    os.makedirs(testfolder)\n",
    "    \n",
    "bifacial_radiance.__version__"
   ]
  },
  {
   "cell_type": "markdown",
   "id": "72ac920c",
   "metadata": {},
   "source": [
    "\n",
    "## Option one: obj2rad:* \n"
   ]
  },
  {
   "cell_type": "code",
   "execution_count": null,
   "id": "2f9c60b1",
   "metadata": {},
   "outputs": [],
   "source": [
    "demo = bifacial_radiance.RadianceObj('tutorial_1',str(testfolder))  \n",
    "albedo = 0.62\n",
    "demo.setGround(albedo)\n",
    "epwfile = demo.getEPW(lat = 37.5, lon = -77.6)  \n",
    "metdata = demo.readWeatherFile(epwfile, coerce_year=2001) \n",
    "timeindex = metdata.datetime.index(pd.to_datetime('2001-06-17 12:0:0 -7'))\n",
    "demo.gendaylit(timeindex)  \n",
    "#demo.genCumSky() # entire year.\n",
    "\n",
    "# Adding a dummy module. Place this outside of area of interest after making sure it's being built.\n",
    "mymod= demo.makeModule('test-module', x=0.5, y=0.5, z=5)\n",
    "sceneDict = {'tilt':10,'pitch':3,'clearance_height':0.2,'azimuth':180, 'nMods': 1, 'nRows': 1, 'originx':-3, 'originy':-3} \n",
    "scene = demo.makeScene(mymod,sceneDict)\n"
   ]
  },
  {
   "cell_type": "markdown",
   "id": "cd1a1c7a",
   "metadata": {},
   "source": [
    "### Convert and Append the Radfile to the OctFile"
   ]
  },
  {
   "cell_type": "markdown",
   "id": "e998ce8c",
   "metadata": {},
   "source": [
    "STEPS FROM: https://discourse.radiance-online.org/t/import-to-radiance/3594\n",
    "\n",
    "(a) Convert to *.obj* file by other tools,\n",
    "       \n",
    "(b) Then use *obj2rad* to convert the *obj* file to .*rad* file;\n",
    "\n",
    "(c) Define materials in another .mat file (material names could be found\n",
    "in the objfile.data by using command: obj2rad -n objfile > objfile.data)"
   ]
  },
  {
   "cell_type": "code",
   "execution_count": null,
   "id": "e8d665ad",
   "metadata": {},
   "outputs": [],
   "source": [
    "cadfile=r'C:\\Users\\sayala\\Documents\\CustomerSupport\\DNV_Seranya\\3Deg-N_S.stp'"
   ]
  },
  {
   "cell_type": "code",
   "execution_count": null,
   "id": "6614c8cd",
   "metadata": {},
   "outputs": [],
   "source": [
    "!obj2rad C:\\Users\\sayala\\Documents\\CustomerSupport\\DNV_Seranya\\3Deg-N_S.obj > 3Deg-N_S.rad"
   ]
  },
  {
   "cell_type": "code",
   "execution_count": null,
   "id": "94d4d5a6",
   "metadata": {},
   "outputs": [],
   "source": [
    "!obj2rad -n C:\\Users\\sayala\\Documents\\CustomerSupport\\DNV_Seranya\\3Deg-N_S.obj > objfile.data"
   ]
  },
  {
   "cell_type": "code",
   "execution_count": null,
   "id": "70370f66",
   "metadata": {},
   "outputs": [],
   "source": [
    "radfileNew = '3Deg-N_S.rad'\n",
    "materialfileNew = 'objfile.data'"
   ]
  },
  {
   "cell_type": "code",
   "execution_count": null,
   "id": "fbb4d70d",
   "metadata": {},
   "outputs": [],
   "source": [
    "demo.appendtoScene(scene.radfiles, radfileNew, '!xform -rz 0')"
   ]
  },
  {
   "cell_type": "code",
   "execution_count": null,
   "id": "3fe369ce",
   "metadata": {},
   "outputs": [],
   "source": [
    "filesss = demo.getfilelist().copy()\n",
    "filesss"
   ]
  },
  {
   "cell_type": "code",
   "execution_count": null,
   "id": "b720d647",
   "metadata": {},
   "outputs": [],
   "source": [
    "filesss.append(materialfileNew)"
   ]
  },
  {
   "cell_type": "code",
   "execution_count": null,
   "id": "cdec8316",
   "metadata": {},
   "outputs": [],
   "source": [
    "filesss"
   ]
  },
  {
   "cell_type": "code",
   "execution_count": null,
   "id": "951439e2",
   "metadata": {},
   "outputs": [],
   "source": [
    "demo.makeOct(filesss)"
   ]
  },
  {
   "cell_type": "code",
   "execution_count": null,
   "id": "c3fbc0d2",
   "metadata": {},
   "outputs": [],
   "source": [
    "!rvu -vf views\\front.vp -e .01 tutorial_1.oct"
   ]
  },
  {
   "cell_type": "markdown",
   "id": "b598c576",
   "metadata": {},
   "source": [
    "#### Truncated octtree. Probably materials fault. \n",
    "Try:\n",
    "<ol>\n",
    "   <li> Creating obj directly from the autocad or software, instead of converting it from the STP. </li>\n",
    "    <li> Identifying the materials in the file, and appending them to the materials\\ground.rad file manually, instead of appending a .data file with the material names. </li>\n",
    "</ol>"
   ]
  },
  {
   "cell_type": "markdown",
   "id": "c13139b2",
   "metadata": {},
   "source": [
    "# Option 2: Create Geometry\n",
    "Based on Tutorial 20: Example Simulation with I Beams, but calculate the shift to convert the I to the C shape."
   ]
  },
  {
   "cell_type": "code",
   "execution_count": 2,
   "id": "ffcc92a0",
   "metadata": {},
   "outputs": [
    {
     "name": "stdout",
     "output_type": "stream",
     "text": [
      "path = C:\\Users\\sayala\\Documents\\GitHub\\bifacial_radiance\\bifacial_radiance\\TEMP\\Tutorial_24\n",
      "Loading albedo, 1 value(s), 0.620 avg\n",
      "1 nonzero albedo values.\n",
      "Getting weather file: USA_VA_Richmond.724010_TMY2.epw\n",
      " ... OK!\n",
      "8760 line in WeatherFile. Assuming this is a standard hourly WeatherFile for the year for purposes of saving Gencumulativesky temporary weather files in EPW folder.\n",
      "Coercing year to 2001\n",
      "Saving file EPWs\\metdata_temp.csv, # points: 8760\n",
      "Calculating Sun position for Metdata that is right-labeled  with a delta of -30 mins. i.e. 12 is 11:30 sunpos\n"
     ]
    },
    {
     "data": {
      "text/plain": [
       "'skies\\\\sky2_37.5_-77.33_2001-06-17_1400.rad'"
      ]
     },
     "execution_count": 2,
     "metadata": {},
     "output_type": "execute_result"
    }
   ],
   "source": [
    "demo = bifacial_radiance.RadianceObj('CBeam',str(testfolder))  \n",
    "albedo = 0.62\n",
    "demo.setGround(albedo)\n",
    "epwfile = demo.getEPW(lat = 37.5, lon = -77.6)  \n",
    "metdata = demo.readWeatherFile(epwfile, coerce_year=2001) \n",
    "timeindex = metdata.datetime.index(pd.to_datetime('2001-06-17 12:0:0 -7'))\n",
    "demo.gendaylit(timeindex)  # Noon, June 17th (timepoint # 4020)\n",
    "#demo.gencumsky()"
   ]
  },
  {
   "cell_type": "code",
   "execution_count": 3,
   "id": "14b7bb99",
   "metadata": {},
   "outputs": [
    {
     "name": "stdout",
     "output_type": "stream",
     "text": [
      "\n",
      "Module Name: Sharp_NU-U235F2\n",
      "Module Sharp_NU-U235F2 updated in module.json\n",
      "Pre-existing .rad file objects\\Sharp_NU-U235F2.rad will be overwritten\n",
      "\n"
     ]
    }
   ],
   "source": [
    "moduletype='Sharp_NU-U235F2'\n",
    "x=2\n",
    "y=1\n",
    "xgap = 0.134\n",
    "zgap = 0\n",
    "ygap = 0.273\n",
    "numpanels=4\n",
    "\n",
    "Collector = demo.makeModule(name=moduletype,x=x, y=y, numpanels=numpanels, \n",
    "                                   xgap=xgap, ygap = ygap, zgap=zgap)"
   ]
  },
  {
   "cell_type": "code",
   "execution_count": 4,
   "id": "522c9c35",
   "metadata": {},
   "outputs": [],
   "source": [
    "sceneDict = {'tilt':20, 'pitch':0.0001, 'clearance_height':0.9,\n",
    "                         'azimuth':180, 'nMods':11, 'nRows':1}\n",
    "\n",
    "sceneObj = demo.makeScene(Collector, sceneDict=sceneDict)"
   ]
  },
  {
   "cell_type": "code",
   "execution_count": 6,
   "id": "3721edea",
   "metadata": {},
   "outputs": [
    {
     "name": "stdout",
     "output_type": "stream",
     "text": [
      "Created CBeam.oct\n",
      "Linescan in process: CBeam_NoBEAMS_Row1_Module6_Front\n",
      "Linescan in process: CBeam_NoBEAMS_Row1_Module6_Back\n",
      "Saved: results\\irr_CBeam_NoBEAMS_Row1_Module6.csv\n"
     ]
    }
   ],
   "source": [
    "octfile = demo.makeOct()\n",
    "analysis = bifacial_radiance.AnalysisObj(octfile, demo.basename)\n",
    "frontscan, backscan = analysis.moduleAnalysis(sceneObj, sensorsy=10)  # Change to a higher number for real calculation\n",
    "results = analysis.analysis(octfile, demo.basename+'_NoBEAMS', frontscan, backscan)  \n"
   ]
  },
  {
   "cell_type": "code",
   "execution_count": 7,
   "id": "8c9876d8",
   "metadata": {},
   "outputs": [],
   "source": [
    "!rvu -vf views\\front.vp -e .01 -vp -18.5 -5.5 2.4 -vd 0.9147 0.3705 -0.1613 CBeam.oct"
   ]
  },
  {
   "cell_type": "markdown",
   "id": "442d620f",
   "metadata": {},
   "source": [
    "(Close the rvu pop up window to continue).\n",
    "<br>\n",
    "This finishes the analysis WITHOUT the beams. Now let's add the beams"
   ]
  },
  {
   "cell_type": "markdown",
   "id": "e1170fa3",
   "metadata": {},
   "source": [
    "### Adding the I-Beams\n",
    "\n",
    "HEre is where the magic happens. We will calculate the row length (number of modules times the collector x value plus the xgaps between), and we will also calculate the spacing between the beams accross the collector width so that the beas are placed at the start of the collector and then between each module, just like in the image (5 modules = 6 Beams then)"
   ]
  },
  {
   "cell_type": "code",
   "execution_count": 8,
   "id": "dacfbe8e",
   "metadata": {},
   "outputs": [
    {
     "name": "stdout",
     "output_type": "stream",
     "text": [
      "Beam Length: 23.0 meters\n",
      "Vertical Distribution: [ 2.4095  1.4457  0.4819 -0.4819 -1.4457 -2.4095]\n"
     ]
    }
   ],
   "source": [
    "beam_count = 5\n",
    "beam_mat = 'Metal_Grey'\n",
    "beam_len = sceneDict['nMods']*Collector.x + (sceneDict['nMods']-1)*Collector.xgap\n",
    "beam_len = round(beam_len,0)\n",
    "beam_ydist = np.linspace(Collector.sceney/2,0-Collector.sceney/2,6)\n",
    "\n",
    "# by photograph approximation\n",
    "beam_cap = {'len':beam_len, 'height':0.02, 'width':0.12}\n",
    "beam_ctr = {'len':beam_len, 'height':0.30, 'width':0.02}\n",
    "\n",
    "print(f'Beam Length: {beam_len} meters')\n",
    "print(f'Vertical Distribution: {beam_ydist}')"
   ]
  },
  {
   "cell_type": "markdown",
   "id": "a5c631dd",
   "metadata": {},
   "source": [
    "We will use makeCustomObject like in previous journal examples and appendtoScene the IBeams.\n",
    "\n",
    "Note that the IBeams geometry is being generated:\n",
    "<ol>\n",
    "    <li> Generate the geometry (genbox)</li>\n",
    "    <li> Translate the beam so that the center of the world (0,0,0) is positioned at the beam's center</li>\n",
    "    <li> Tilt by the angle of the array,</li>\n",
    "    <li> Then move to the correct clearance height and position accross the collector width calculated above.</li>\n",
    "    </ol>"
   ]
  },
  {
   "cell_type": "code",
   "execution_count": 9,
   "id": "9281aac8",
   "metadata": {},
   "outputs": [
    {
     "name": "stdout",
     "output_type": "stream",
     "text": [
      "\n",
      "Custom Object Name objects\\BEAM_r0_c0.rad\n",
      "\n",
      "Custom Object Name objects\\BEAM_r0_c1.rad\n",
      "\n",
      "Custom Object Name objects\\BEAM_r0_c2.rad\n",
      "\n",
      "Custom Object Name objects\\BEAM_r0_c3.rad\n",
      "\n",
      "Custom Object Name objects\\BEAM_r0_c4.rad\n",
      "\n",
      "Custom Object Name objects\\BEAM_r0_c5.rad\n"
     ]
    }
   ],
   "source": [
    "rows = sceneDict['nRows']\n",
    "offsetMultiplier = np.linspace(-(rows//2),(rows//2),rows)\n",
    "for row in range(0,sceneDict['nRows']):\n",
    "    offset = offsetMultiplier[row]*sceneDict['pitch']\n",
    "    customObjects = []\n",
    "    for pos in beam_ydist:\n",
    "        count = list(beam_ydist).index(pos)\n",
    "        name = f'BEAM_r{row}_c{count}'\n",
    "        ydisp = pos * np.cos(sceneDict['tilt']*np.pi/180.0) + offset\n",
    "        zdisp = np.sin(sceneDict['tilt']*np.pi/180.0) * (pos-beam_ydist[-1]) + sceneDict['clearance_height'] - .05\n",
    "        text = '! genbox {} beamTop{} {} {} {} | xform -t {} {} 0 | xform -rx {} | xform -t 0 {} {}'.format(\n",
    "                                                beam_mat, count,\n",
    "                                                beam_cap['len'], beam_cap['width'], beam_cap['height'],\n",
    "                                                -beam_cap['len']/2+.8, -beam_cap['width']/2,\n",
    "                                                sceneDict['tilt'],\n",
    "                                                ydisp, zdisp)\n",
    "\n",
    "        text+= '\\r\\n! genbox {} beamBot{} {} {} {} | xform -t {} {} 0 | xform -rx {} | xform -t 0 {} {}'.format(\n",
    "                                                beam_mat, count,\n",
    "                                                beam_cap['len'], beam_cap['width'], beam_cap['height'],\n",
    "                                                -beam_cap['len']/2+.8, -beam_cap['width']/2,\n",
    "                                                sceneDict['tilt'],\n",
    "                                                ydisp + beam_ctr['height']*np.cos(np.pi/2 - np.pi*sceneDict['tilt']/180.0), zdisp - beam_ctr['height'])\n",
    "\n",
    "        text+= '\\r\\n! genbox {} beamCtr{} {} {} {} | xform -t {} {} {} | xform -rx {} | xform -t 0 {} {}'.format(\n",
    "                                                beam_mat, count,\n",
    "                                                beam_ctr['len'], beam_ctr['width'], beam_ctr['height'],\n",
    "                                                -beam_ctr['len']/2+.8, -beam_ctr['width']/2, beam_cap['height'],\n",
    "                                                sceneDict['tilt'],\n",
    "                                                ydisp + beam_ctr['height']*np.cos(np.pi/2 - np.pi*sceneDict['tilt']/180.0), zdisp - beam_ctr['height'])\n",
    "        customObj = demo.makeCustomObject(name,text)\n",
    "        customObjects.append(customObj)\n",
    "        demo.appendtoScene(radfile=sceneObj.radfiles, customObject=customObj, text=\"!xform -rz 0\")"
   ]
  },
  {
   "cell_type": "code",
   "execution_count": 10,
   "id": "086d0310",
   "metadata": {},
   "outputs": [
    {
     "name": "stdout",
     "output_type": "stream",
     "text": [
      "Created CBeam.oct\n"
     ]
    }
   ],
   "source": [
    "octfile = demo.makeOct()"
   ]
  },
  {
   "cell_type": "code",
   "execution_count": 11,
   "id": "ed9aeca7",
   "metadata": {},
   "outputs": [],
   "source": [
    "!rvu -vf views\\front.vp -e .01 -vp -18.5 -5.5 2.4 -vd 0.9147 0.3705 -0.1613 CBeam.oct"
   ]
  },
  {
   "cell_type": "markdown",
   "id": "27284e8e",
   "metadata": {},
   "source": [
    "### Close the rvu window that poped up to continue"
   ]
  },
  {
   "cell_type": "code",
   "execution_count": 13,
   "id": "338510f4",
   "metadata": {},
   "outputs": [
    {
     "name": "stdout",
     "output_type": "stream",
     "text": [
      "Created CBeam.oct\n",
      "Linescan in process: CBeam_WITHBeams_Row1_Module6_Front\n",
      "Linescan in process: CBeam_WITHBeams_Row1_Module6_Back\n",
      "Saved: results\\irr_CBeam_WITHBeams_Row1_Module6.csv\n"
     ]
    }
   ],
   "source": [
    "octfile = demo.makeOct()  # make OCT again so that it captures are this new appended object Beams created.\n",
    "analysis = bifacial_radiance.AnalysisObj(octfile, demo.basename)\n",
    "frontscan, backscan = analysis.moduleAnalysis(sceneObj, sensorsy=10)  # Change to a higher number for real calculation\n",
    "results = analysis.analysis(octfile, demo.basename+'_WITHBeams', frontscan, backscan)  \n"
   ]
  },
  {
   "cell_type": "code",
   "execution_count": 17,
   "id": "f9eacaa8",
   "metadata": {},
   "outputs": [],
   "source": [
    "NoBEAMS = bifacial_radiance.load.read1Result('results\\irr_CBeam_NoBEAMS_Row1_Module6.csv')\n",
    "BEAMS = bifacial_radiance.load.read1Result('results\\irr_CBeam_WITHBEAMS_Row1_Module6.csv')"
   ]
  },
  {
   "cell_type": "code",
   "execution_count": 32,
   "id": "e989f7f7",
   "metadata": {},
   "outputs": [
    {
     "name": "stdout",
     "output_type": "stream",
     "text": [
      "Example of Results file for NoBeams Case\n"
     ]
    },
    {
     "data": {
      "text/html": [
       "<div>\n",
       "<style scoped>\n",
       "    .dataframe tbody tr th:only-of-type {\n",
       "        vertical-align: middle;\n",
       "    }\n",
       "\n",
       "    .dataframe tbody tr th {\n",
       "        vertical-align: top;\n",
       "    }\n",
       "\n",
       "    .dataframe thead th {\n",
       "        text-align: right;\n",
       "    }\n",
       "</style>\n",
       "<table border=\"1\" class=\"dataframe\">\n",
       "  <thead>\n",
       "    <tr style=\"text-align: right;\">\n",
       "      <th></th>\n",
       "      <th>x</th>\n",
       "      <th>y</th>\n",
       "      <th>z</th>\n",
       "      <th>rearZ</th>\n",
       "      <th>mattype</th>\n",
       "      <th>rearMat</th>\n",
       "      <th>Wm2Front</th>\n",
       "      <th>Wm2Back</th>\n",
       "      <th>Back/FrontRatio</th>\n",
       "    </tr>\n",
       "  </thead>\n",
       "  <tbody>\n",
       "    <tr>\n",
       "      <th>0</th>\n",
       "      <td>2.277477e-16</td>\n",
       "      <td>-1.859701</td>\n",
       "      <td>1.069569</td>\n",
       "      <td>1.048896</td>\n",
       "      <td>a5.0.a0.Sharp_NU-U235F2.6457</td>\n",
       "      <td>a5.0.a0.Sharp_NU-U235F2.2310</td>\n",
       "      <td>881.5810</td>\n",
       "      <td>239.4523</td>\n",
       "      <td>0.271617</td>\n",
       "    </tr>\n",
       "    <tr>\n",
       "      <th>1</th>\n",
       "      <td>1.773326e-16</td>\n",
       "      <td>-1.448030</td>\n",
       "      <td>1.219405</td>\n",
       "      <td>1.198732</td>\n",
       "      <td>a5.0.a0.Sharp_NU-U235F2.6457</td>\n",
       "      <td>a5.0.a0.Sharp_NU-U235F2.2310</td>\n",
       "      <td>881.8032</td>\n",
       "      <td>215.6874</td>\n",
       "      <td>0.244598</td>\n",
       "    </tr>\n",
       "    <tr>\n",
       "      <th>2</th>\n",
       "      <td>1.269174e-16</td>\n",
       "      <td>-1.036359</td>\n",
       "      <td>1.369241</td>\n",
       "      <td>1.348568</td>\n",
       "      <td>a5.0.a1.Sharp_NU-U235F2.6457</td>\n",
       "      <td>a5.0.a1.Sharp_NU-U235F2.2310</td>\n",
       "      <td>882.0238</td>\n",
       "      <td>208.0444</td>\n",
       "      <td>0.235871</td>\n",
       "    </tr>\n",
       "    <tr>\n",
       "      <th>3</th>\n",
       "      <td>7.650229e-17</td>\n",
       "      <td>-0.624689</td>\n",
       "      <td>1.519077</td>\n",
       "      <td>1.498404</td>\n",
       "      <td>a5.0.a1.Sharp_NU-U235F2.6457</td>\n",
       "      <td>a5.0.a1.Sharp_NU-U235F2.2310</td>\n",
       "      <td>881.9512</td>\n",
       "      <td>209.1143</td>\n",
       "      <td>0.237104</td>\n",
       "    </tr>\n",
       "    <tr>\n",
       "      <th>4</th>\n",
       "      <td>2.608716e-17</td>\n",
       "      <td>-0.213018</td>\n",
       "      <td>1.668913</td>\n",
       "      <td>1.648240</td>\n",
       "      <td>a5.0.a1.Sharp_NU-U235F2.6457</td>\n",
       "      <td>a5.0.a1.Sharp_NU-U235F2.2310</td>\n",
       "      <td>882.0939</td>\n",
       "      <td>218.8965</td>\n",
       "      <td>0.248155</td>\n",
       "    </tr>\n",
       "    <tr>\n",
       "      <th>5</th>\n",
       "      <td>-2.432797e-17</td>\n",
       "      <td>0.198653</td>\n",
       "      <td>1.818749</td>\n",
       "      <td>1.798076</td>\n",
       "      <td>a5.0.a2.Sharp_NU-U235F2.6457</td>\n",
       "      <td>a5.0.a2.Sharp_NU-U235F2.2310</td>\n",
       "      <td>882.2341</td>\n",
       "      <td>232.7133</td>\n",
       "      <td>0.263777</td>\n",
       "    </tr>\n",
       "    <tr>\n",
       "      <th>6</th>\n",
       "      <td>-7.474310e-17</td>\n",
       "      <td>0.610324</td>\n",
       "      <td>1.968585</td>\n",
       "      <td>1.947912</td>\n",
       "      <td>a5.0.a2.Sharp_NU-U235F2.6457</td>\n",
       "      <td>a5.0.a2.Sharp_NU-U235F2.2310</td>\n",
       "      <td>881.4202</td>\n",
       "      <td>247.7504</td>\n",
       "      <td>0.281081</td>\n",
       "    </tr>\n",
       "    <tr>\n",
       "      <th>7</th>\n",
       "      <td>-1.251582e-16</td>\n",
       "      <td>1.021995</td>\n",
       "      <td>2.118421</td>\n",
       "      <td>2.097748</td>\n",
       "      <td>a5.0.a2.Sharp_NU-U235F2.6457</td>\n",
       "      <td>a5.0.a2.Sharp_NU-U235F2.2310</td>\n",
       "      <td>881.4629</td>\n",
       "      <td>269.1956</td>\n",
       "      <td>0.305396</td>\n",
       "    </tr>\n",
       "    <tr>\n",
       "      <th>8</th>\n",
       "      <td>-1.755734e-16</td>\n",
       "      <td>1.433665</td>\n",
       "      <td>2.268257</td>\n",
       "      <td>2.247584</td>\n",
       "      <td>a5.0.a3.Sharp_NU-U235F2.6457</td>\n",
       "      <td>a5.0.a3.Sharp_NU-U235F2.2310</td>\n",
       "      <td>881.5034</td>\n",
       "      <td>291.6269</td>\n",
       "      <td>0.330829</td>\n",
       "    </tr>\n",
       "    <tr>\n",
       "      <th>9</th>\n",
       "      <td>-2.259885e-16</td>\n",
       "      <td>1.845336</td>\n",
       "      <td>2.418093</td>\n",
       "      <td>2.397419</td>\n",
       "      <td>a5.0.a3.Sharp_NU-U235F2.6457</td>\n",
       "      <td>a5.0.a3.Sharp_NU-U235F2.2310</td>\n",
       "      <td>881.5439</td>\n",
       "      <td>317.6142</td>\n",
       "      <td>0.360293</td>\n",
       "    </tr>\n",
       "  </tbody>\n",
       "</table>\n",
       "</div>"
      ],
      "text/plain": [
       "              x         y         z     rearZ                       mattype  \\\n",
       "0  2.277477e-16 -1.859701  1.069569  1.048896  a5.0.a0.Sharp_NU-U235F2.6457   \n",
       "1  1.773326e-16 -1.448030  1.219405  1.198732  a5.0.a0.Sharp_NU-U235F2.6457   \n",
       "2  1.269174e-16 -1.036359  1.369241  1.348568  a5.0.a1.Sharp_NU-U235F2.6457   \n",
       "3  7.650229e-17 -0.624689  1.519077  1.498404  a5.0.a1.Sharp_NU-U235F2.6457   \n",
       "4  2.608716e-17 -0.213018  1.668913  1.648240  a5.0.a1.Sharp_NU-U235F2.6457   \n",
       "5 -2.432797e-17  0.198653  1.818749  1.798076  a5.0.a2.Sharp_NU-U235F2.6457   \n",
       "6 -7.474310e-17  0.610324  1.968585  1.947912  a5.0.a2.Sharp_NU-U235F2.6457   \n",
       "7 -1.251582e-16  1.021995  2.118421  2.097748  a5.0.a2.Sharp_NU-U235F2.6457   \n",
       "8 -1.755734e-16  1.433665  2.268257  2.247584  a5.0.a3.Sharp_NU-U235F2.6457   \n",
       "9 -2.259885e-16  1.845336  2.418093  2.397419  a5.0.a3.Sharp_NU-U235F2.6457   \n",
       "\n",
       "                        rearMat  Wm2Front   Wm2Back  Back/FrontRatio  \n",
       "0  a5.0.a0.Sharp_NU-U235F2.2310  881.5810  239.4523         0.271617  \n",
       "1  a5.0.a0.Sharp_NU-U235F2.2310  881.8032  215.6874         0.244598  \n",
       "2  a5.0.a1.Sharp_NU-U235F2.2310  882.0238  208.0444         0.235871  \n",
       "3  a5.0.a1.Sharp_NU-U235F2.2310  881.9512  209.1143         0.237104  \n",
       "4  a5.0.a1.Sharp_NU-U235F2.2310  882.0939  218.8965         0.248155  \n",
       "5  a5.0.a2.Sharp_NU-U235F2.2310  882.2341  232.7133         0.263777  \n",
       "6  a5.0.a2.Sharp_NU-U235F2.2310  881.4202  247.7504         0.281081  \n",
       "7  a5.0.a2.Sharp_NU-U235F2.2310  881.4629  269.1956         0.305396  \n",
       "8  a5.0.a3.Sharp_NU-U235F2.2310  881.5034  291.6269         0.330829  \n",
       "9  a5.0.a3.Sharp_NU-U235F2.2310  881.5439  317.6142         0.360293  "
      ]
     },
     "execution_count": 32,
     "metadata": {},
     "output_type": "execute_result"
    }
   ],
   "source": [
    "print(\"Example of Results file for NoBeams Case\")\n",
    "NoBEAMS"
   ]
  },
  {
   "cell_type": "markdown",
   "id": "05802ec9",
   "metadata": {},
   "source": [
    "## Remember to clean the results and do the below calculation with ONLY rearMat values that end with suffix '.2310' "
   ]
  },
  {
   "cell_type": "markdown",
   "id": "4f13eefe",
   "metadata": {},
   "source": [
    "<img src=\"../images_wiki/AdvancedJournals/Equation_ShadingFactor.PNG\">"
   ]
  },
  {
   "cell_type": "code",
   "execution_count": 30,
   "id": "7ee581dd",
   "metadata": {},
   "outputs": [
    {
     "name": "stdout",
     "output_type": "stream",
     "text": [
      "Shading Factor  35.18 %\n"
     ]
    }
   ],
   "source": [
    "ShadingFactor = (1 - BEAMS['Wm2Back'].sum() / NoBEAMS['Wm2Back'].sum())*100\n",
    "print(\"Shading Factor \", round(ShadingFactor,2), \"%\")"
   ]
  },
  {
   "cell_type": "markdown",
   "id": "d5599290",
   "metadata": {},
   "source": [
    "alternatively if you end up cleaning different points in the collector, you can use the mean. For this case since it's the same number of points in both cases it has no issues. "
   ]
  },
  {
   "cell_type": "code",
   "execution_count": 24,
   "id": "884f7df9",
   "metadata": {},
   "outputs": [
    {
     "name": "stdout",
     "output_type": "stream",
     "text": [
      "Shading Factor  35.18 %\n"
     ]
    }
   ],
   "source": [
    "SHADING_FACTOR = (NoBEAMS['Wm2Back'].mean()-BEAMS['Wm2Back'].mean())*100/NoBEAMS['Wm2Back'].mean()\n",
    "print(\"Shading Factor \", round(SHADING_FACTOR,2), \"%\")"
   ]
  }
 ],
 "metadata": {
  "kernelspec": {
   "display_name": "Python 3 (ipykernel)",
   "language": "python",
   "name": "python3"
  },
  "language_info": {
   "codemirror_mode": {
    "name": "ipython",
    "version": 3
   },
   "file_extension": ".py",
   "mimetype": "text/x-python",
   "name": "python",
   "nbconvert_exporter": "python",
   "pygments_lexer": "ipython3",
   "version": "3.8.8"
  }
 },
 "nbformat": 4,
 "nbformat_minor": 5
}
