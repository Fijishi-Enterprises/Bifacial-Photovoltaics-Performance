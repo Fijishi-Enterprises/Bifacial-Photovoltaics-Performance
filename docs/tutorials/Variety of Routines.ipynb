{
 "cells": [
  {
   "cell_type": "markdown",
   "id": "561d5c6c",
   "metadata": {},
   "source": [
    "# Variety of Routines\n",
    "\n",
    "This journals explores the different ways \n",
    "\n",
    "<b> 1. Fixed tilt routine for fixed tilt systems </b>\n",
    "* makeScene\n",
    "* gendaylit   or gencumsky\n",
    "* makeoct\n",
    "* analysis\n",
    "\n",
    "\n",
    "<b> 2. Tracker Routine for 1-HSAT </b>\n",
    "* set1axis          (gets angles)\n",
    "* makeScene1axis            \n",
    "* gendaylit1axis   or gencumsky1axis\n",
    "* makeoct1axis\n",
    "* analysis1axis\n",
    "\n",
    "\n",
    "<b> 3. Fixtilt tilt routine for a 1-HSAT, 1 single timestamp</b>\n",
    "* gettrackerangle\n",
    "* makeScene\n",
    "* gendaylit or gencumsky\n",
    "* makeoct\n",
    "* analysis"
   ]
  },
  {
   "cell_type": "markdown",
   "id": "7ae5aeb0",
   "metadata": {},
   "source": [
    "# Fixed tilt routine for fixed tilt systems"
   ]
  },
  {
   "cell_type": "markdown",
   "id": "8a411cf3",
   "metadata": {},
   "source": [
    "#### A. Gendaylit: Probably looping over IDX"
   ]
  },
  {
   "cell_type": "code",
   "execution_count": 1,
   "id": "f90011dc",
   "metadata": {},
   "outputs": [],
   "source": [
    "import bifacial_radiance\n",
    "import os\n",
    "from pathlib import Path\n",
    "\n",
    "testfolder = Path().resolve().parent.parent / 'bifacial_radiance' / 'TEMP' / 'Tutorial_01'\n",
    "if not os.path.exists(testfolder):\n",
    "    os.makedirs(testfolder)"
   ]
  },
  {
   "cell_type": "code",
   "execution_count": 2,
   "id": "2b9b740e",
   "metadata": {},
   "outputs": [],
   "source": [
    "#Main Variables needed throughout\n",
    "albedo = 0.6\n",
    "sim_general_name = 'bifacial_example'\n",
    "lat = 37.5\n",
    "lon = -77.6\n",
    "epwfile = r'C:\\Users\\sayala\\Documents\\RadianceScenes\\HPC_Test\\USA_VA_Richmond.Intl.AP.724010_TMY.epw'\n",
    "moduletype = 'Prism Solar Bi60 landscape'\n",
    "\n",
    "tilt = 10\n",
    "pitch = 3\n",
    "clearance_height = 0.2\n",
    "azimuth = 90\n",
    "nMods = 20\n",
    "nRows = 7"
   ]
  },
  {
   "cell_type": "code",
   "execution_count": 3,
   "id": "dc5de95e",
   "metadata": {},
   "outputs": [
    {
     "name": "stdout",
     "output_type": "stream",
     "text": [
      "path = C:\\Users\\sayala\\Documents\\GitHub\\bifacial_radiance\\bifacial_radiance\\TEMP\\Tutorial_01\n",
      "Loading albedo, 1 value(s), 0.600 avg\n",
      "1 nonzero albedo values.\n",
      "8760 line in WeatherFile. Assuming this is a standard hourly WeatherFile for the year for purposes of saving Gencumulativesky temporary weather files in EPW folder.\n",
      "Coercing year to 2021\n",
      "Saving file EPWs\\metdata_temp.csv, # points: 8760\n",
      "Calculating Sun position for Metdata that is right-labeled  with a delta of -30 mins. i.e. 12 is 11:30 sunpos\n",
      "\n",
      "Module Name: test-module\n",
      "Module test-module updated in module.json\n",
      "Pre-existing .rad file objects\\test-module.rad will be overwritten\n",
      "\n",
      "Created bifacial_example_5.oct\n"
     ]
    }
   ],
   "source": [
    "idx = 5\n",
    "sim_name = sim_general_name+'_'+str(idx)\n",
    "demo = bifacial_radiance.RadianceObj(sim_name,str(testfolder))  \n",
    "demo.setGround(albedo)\n",
    "metdata = demo.readWeatherFile(epwfile) \n",
    "mymodule = demo.makeModule('test-module', x=1, y=2)\n",
    "demo.gendaylit(idx)\n",
    "sceneDict = {'tilt':tilt,'pitch':pitch,'clearance_height':clearance_height,'azimuth':azimuth, 'nMods': 4, 'nRows': 3} \n",
    "scene = demo.makeScene(module=mymodule,sceneDict=sceneDict, radname = sim_name)\n",
    "octfile = demo.makeOct(octname = demo.basename)  \n",
    "analysis = bifacial_radiance.AnalysisObj(octfile=octfile, name=sim_name)\n",
    "frontscan, backscan = analysis.moduleAnalysis(scene=scene)\n"
   ]
  },
  {
   "cell_type": "code",
   "execution_count": 4,
   "id": "9606656b",
   "metadata": {},
   "outputs": [],
   "source": [
    "# 1 Module\n",
    "#frontscan, backscan = analysis.moduleAnalysis(scene=scene, sensorsy=[3,2])\n",
    "#analysis.analysis(octfile, name=sim_name, frontscan=frontscan, backscan=backscan)"
   ]
  },
  {
   "cell_type": "code",
   "execution_count": 5,
   "id": "f3c8ab93",
   "metadata": {},
   "outputs": [
    {
     "name": "stdout",
     "output_type": "stream",
     "text": [
      "Linescan in process: FieldAnalysis_Row_1_Module_0_Front\n",
      "Linescan in process: FieldAnalysis_Row_1_Module_0_Back\n",
      "Saved: results\\irr_FieldAnalysis_Row_1_Module_0_Front.csv\n",
      "Saved: results\\irr_FieldAnalysis_Row_1_Module_0_Back.csv\n",
      "Linescan in process: FieldAnalysis_Row_1_Module_1_Front\n",
      "Linescan in process: FieldAnalysis_Row_1_Module_1_Back\n",
      "Saved: results\\irr_FieldAnalysis_Row_1_Module_1_Front.csv\n",
      "Saved: results\\irr_FieldAnalysis_Row_1_Module_1_Back.csv\n",
      "Linescan in process: FieldAnalysis_Row_1_Module_2_Front\n",
      "Linescan in process: FieldAnalysis_Row_1_Module_2_Back\n",
      "Saved: results\\irr_FieldAnalysis_Row_1_Module_2_Front.csv\n",
      "Saved: results\\irr_FieldAnalysis_Row_1_Module_2_Back.csv\n",
      "Linescan in process: FieldAnalysis_Row_1_Module_3_Front\n",
      "Linescan in process: FieldAnalysis_Row_1_Module_3_Back\n",
      "Saved: results\\irr_FieldAnalysis_Row_1_Module_3_Front.csv\n",
      "Saved: results\\irr_FieldAnalysis_Row_1_Module_3_Back.csv\n",
      "Linescan in process: FieldAnalysis_Row_2_Module_0_Front\n",
      "Linescan in process: FieldAnalysis_Row_2_Module_0_Back\n",
      "Saved: results\\irr_FieldAnalysis_Row_2_Module_0_Front.csv\n",
      "Saved: results\\irr_FieldAnalysis_Row_2_Module_0_Back.csv\n",
      "Linescan in process: FieldAnalysis_Row_2_Module_1_Front\n",
      "Linescan in process: FieldAnalysis_Row_2_Module_1_Back\n",
      "Saved: results\\irr_FieldAnalysis_Row_2_Module_1_Front.csv\n",
      "Saved: results\\irr_FieldAnalysis_Row_2_Module_1_Back.csv\n",
      "Linescan in process: FieldAnalysis_Row_2_Module_2_Front\n",
      "Linescan in process: FieldAnalysis_Row_2_Module_2_Back\n",
      "Saved: results\\irr_FieldAnalysis_Row_2_Module_2_Front.csv\n",
      "Saved: results\\irr_FieldAnalysis_Row_2_Module_2_Back.csv\n",
      "Linescan in process: FieldAnalysis_Row_2_Module_3_Front\n",
      "Linescan in process: FieldAnalysis_Row_2_Module_3_Back\n",
      "Saved: results\\irr_FieldAnalysis_Row_2_Module_3_Front.csv\n",
      "Saved: results\\irr_FieldAnalysis_Row_2_Module_3_Back.csv\n",
      "Linescan in process: FieldAnalysis_Row_3_Module_0_Front\n",
      "Linescan in process: FieldAnalysis_Row_3_Module_0_Back\n",
      "Saved: results\\irr_FieldAnalysis_Row_3_Module_0_Front.csv\n",
      "Saved: results\\irr_FieldAnalysis_Row_3_Module_0_Back.csv\n",
      "Linescan in process: FieldAnalysis_Row_3_Module_1_Front\n",
      "Linescan in process: FieldAnalysis_Row_3_Module_1_Back\n",
      "Saved: results\\irr_FieldAnalysis_Row_3_Module_1_Front.csv\n",
      "Saved: results\\irr_FieldAnalysis_Row_3_Module_1_Back.csv\n",
      "Linescan in process: FieldAnalysis_Row_3_Module_2_Front\n",
      "Linescan in process: FieldAnalysis_Row_3_Module_2_Back\n",
      "Saved: results\\irr_FieldAnalysis_Row_3_Module_2_Front.csv\n",
      "Saved: results\\irr_FieldAnalysis_Row_3_Module_2_Back.csv\n",
      "Linescan in process: FieldAnalysis_Row_3_Module_3_Front\n",
      "Linescan in process: FieldAnalysis_Row_3_Module_3_Back\n",
      "Saved: results\\irr_FieldAnalysis_Row_3_Module_3_Front.csv\n",
      "Saved: results\\irr_FieldAnalysis_Row_3_Module_3_Back.csv\n"
     ]
    }
   ],
   "source": [
    "# Full Field\n",
    "results = analysis.analyzeField(octfile, scene, sensorsy=[3,2], sensorsx=[1,4])"
   ]
  },
  {
   "cell_type": "code",
   "execution_count": 11,
   "id": "2e0505c1",
   "metadata": {},
   "outputs": [],
   "source": [
    "import pandas as pd\n",
    "import numpy as np"
   ]
  },
  {
   "cell_type": "code",
   "execution_count": 12,
   "id": "85d4b6e2",
   "metadata": {},
   "outputs": [
    {
     "name": "stdout",
     "output_type": "stream",
     "text": [
      "1  modules selected. Name of 1st entry:  Prism Solar Technologies_ Inc. BHC72-400\n"
     ]
    }
   ],
   "source": [
    "url = 'https://raw.githubusercontent.com/NREL/SAM/patch/deploy/libraries/CEC%20Modules.csv'\n",
    "db = pd.read_csv(url, index_col=0) # Reading this might take 1 min or so, the database is big.\n",
    "modfilter2 = db.index.str.startswith('Pr') & db.index.str.endswith('BHC72-400')\n",
    "CECMod = db[modfilter2]\n",
    "print(len(CECMod), \" modules selected. Name of 1st entry: \", CECMod.index[0])"
   ]
  },
  {
   "cell_type": "code",
   "execution_count": 13,
   "id": "885482c1",
   "metadata": {},
   "outputs": [],
   "source": [
    "results.reset_index(inplace=True, drop=True)"
   ]
  },
  {
   "cell_type": "code",
   "execution_count": 14,
   "id": "f41d5485",
   "metadata": {},
   "outputs": [
    {
     "name": "stderr",
     "output_type": "stream",
     "text": [
      "c:\\users\\sayala\\documents\\github\\bifacial_radiance\\bifacial_radiance\\mismatch.py:218: FutureWarning: outer method for ufunc <ufunc 'subtract'> is not implemented on pandas objects. Returning an ndarray, but in the future this will raise a 'NotImplementedError'. Consider explicitly converting the DataFrame to an array with '.to_numpy()' first.\n",
      "  return (np.abs(np.subtract.outer(data,data)).sum()/float(data.__len__())**2 / np.mean(data))*100\n"
     ]
    }
   ],
   "source": [
    "ress= bifacial_radiance.performance.arrayResults(CECMod=CECMod, results=results)"
   ]
  },
  {
   "cell_type": "code",
   "execution_count": 15,
   "id": "745fb125",
   "metadata": {},
   "outputs": [
    {
     "data": {
      "text/html": [
       "<div>\n",
       "<style scoped>\n",
       "    .dataframe tbody tr th:only-of-type {\n",
       "        vertical-align: middle;\n",
       "    }\n",
       "\n",
       "    .dataframe tbody tr th {\n",
       "        vertical-align: top;\n",
       "    }\n",
       "\n",
       "    .dataframe thead th {\n",
       "        text-align: right;\n",
       "    }\n",
       "</style>\n",
       "<table border=\"1\" class=\"dataframe\">\n",
       "  <thead>\n",
       "    <tr style=\"text-align: right;\">\n",
       "      <th></th>\n",
       "      <th>ModNumber</th>\n",
       "      <th>rowNum</th>\n",
       "      <th>Poa_total</th>\n",
       "      <th>Pout</th>\n",
       "      <th>Mismatch</th>\n",
       "      <th>Pout_red</th>\n",
       "    </tr>\n",
       "  </thead>\n",
       "  <tbody>\n",
       "    <tr>\n",
       "      <th>0</th>\n",
       "      <td>1</td>\n",
       "      <td>1</td>\n",
       "      <td>201.315820</td>\n",
       "      <td>77.484537</td>\n",
       "      <td>14.194868</td>\n",
       "      <td>66.485709</td>\n",
       "    </tr>\n",
       "    <tr>\n",
       "      <th>1</th>\n",
       "      <td>2</td>\n",
       "      <td>1</td>\n",
       "      <td>184.930197</td>\n",
       "      <td>71.114977</td>\n",
       "      <td>16.748548</td>\n",
       "      <td>59.204251</td>\n",
       "    </tr>\n",
       "    <tr>\n",
       "      <th>2</th>\n",
       "      <td>3</td>\n",
       "      <td>1</td>\n",
       "      <td>184.553678</td>\n",
       "      <td>70.968457</td>\n",
       "      <td>16.815268</td>\n",
       "      <td>59.034921</td>\n",
       "    </tr>\n",
       "    <tr>\n",
       "      <th>3</th>\n",
       "      <td>4</td>\n",
       "      <td>1</td>\n",
       "      <td>197.680510</td>\n",
       "      <td>76.072541</td>\n",
       "      <td>14.707535</td>\n",
       "      <td>64.884145</td>\n",
       "    </tr>\n",
       "    <tr>\n",
       "      <th>4</th>\n",
       "      <td>1</td>\n",
       "      <td>2</td>\n",
       "      <td>199.595420</td>\n",
       "      <td>76.816340</td>\n",
       "      <td>14.434027</td>\n",
       "      <td>65.728648</td>\n",
       "    </tr>\n",
       "    <tr>\n",
       "      <th>5</th>\n",
       "      <td>2</td>\n",
       "      <td>2</td>\n",
       "      <td>182.853276</td>\n",
       "      <td>70.306560</td>\n",
       "      <td>17.121691</td>\n",
       "      <td>58.268889</td>\n",
       "    </tr>\n",
       "    <tr>\n",
       "      <th>6</th>\n",
       "      <td>3</td>\n",
       "      <td>2</td>\n",
       "      <td>184.096528</td>\n",
       "      <td>70.790550</td>\n",
       "      <td>16.896822</td>\n",
       "      <td>58.829197</td>\n",
       "    </tr>\n",
       "    <tr>\n",
       "      <th>7</th>\n",
       "      <td>4</td>\n",
       "      <td>2</td>\n",
       "      <td>249.816420</td>\n",
       "      <td>96.247208</td>\n",
       "      <td>9.336936</td>\n",
       "      <td>87.260667</td>\n",
       "    </tr>\n",
       "    <tr>\n",
       "      <th>8</th>\n",
       "      <td>1</td>\n",
       "      <td>3</td>\n",
       "      <td>201.554277</td>\n",
       "      <td>77.577129</td>\n",
       "      <td>14.162197</td>\n",
       "      <td>66.590503</td>\n",
       "    </tr>\n",
       "    <tr>\n",
       "      <th>9</th>\n",
       "      <td>2</td>\n",
       "      <td>3</td>\n",
       "      <td>185.126612</td>\n",
       "      <td>71.191408</td>\n",
       "      <td>16.713903</td>\n",
       "      <td>59.292544</td>\n",
       "    </tr>\n",
       "    <tr>\n",
       "      <th>10</th>\n",
       "      <td>3</td>\n",
       "      <td>3</td>\n",
       "      <td>184.765598</td>\n",
       "      <td>71.050925</td>\n",
       "      <td>16.777666</td>\n",
       "      <td>59.130238</td>\n",
       "    </tr>\n",
       "    <tr>\n",
       "      <th>11</th>\n",
       "      <td>4</td>\n",
       "      <td>3</td>\n",
       "      <td>196.486259</td>\n",
       "      <td>75.608554</td>\n",
       "      <td>14.882138</td>\n",
       "      <td>64.356385</td>\n",
       "    </tr>\n",
       "  </tbody>\n",
       "</table>\n",
       "</div>"
      ],
      "text/plain": [
       "   ModNumber  rowNum   Poa_total       Pout   Mismatch   Pout_red\n",
       "0          1       1  201.315820  77.484537  14.194868  66.485709\n",
       "1          2       1  184.930197  71.114977  16.748548  59.204251\n",
       "2          3       1  184.553678  70.968457  16.815268  59.034921\n",
       "3          4       1  197.680510  76.072541  14.707535  64.884145\n",
       "4          1       2  199.595420  76.816340  14.434027  65.728648\n",
       "5          2       2  182.853276  70.306560  17.121691  58.268889\n",
       "6          3       2  184.096528  70.790550  16.896822  58.829197\n",
       "7          4       2  249.816420  96.247208   9.336936  87.260667\n",
       "8          1       3  201.554277  77.577129  14.162197  66.590503\n",
       "9          2       3  185.126612  71.191408  16.713903  59.292544\n",
       "10         3       3  184.765598  71.050925  16.777666  59.130238\n",
       "11         4       3  196.486259  75.608554  14.882138  64.356385"
      ]
     },
     "execution_count": 15,
     "metadata": {},
     "output_type": "execute_result"
    }
   ],
   "source": [
    "ress"
   ]
  },
  {
   "cell_type": "markdown",
   "id": "d8b685fd",
   "metadata": {},
   "source": [
    "# IF READ"
   ]
  },
  {
   "cell_type": "code",
   "execution_count": null,
   "id": "ab5124f8",
   "metadata": {},
   "outputs": [],
   "source": [
    "csvfile = os.path.join(testfolder, 'results', 'CompiledResults', 'compiledField_FieldAnalysis.csv')"
   ]
  },
  {
   "cell_type": "code",
   "execution_count": null,
   "id": "5a30bf6f",
   "metadata": {},
   "outputs": [],
   "source": [
    "ress= bifacial_radiance.performance.arrayResults(CECMod=CECMod, csvfile=csvfile)"
   ]
  },
  {
   "cell_type": "code",
   "execution_count": null,
   "id": "91a0530e",
   "metadata": {},
   "outputs": [],
   "source": [
    "ress"
   ]
  },
  {
   "cell_type": "code",
   "execution_count": null,
   "id": "309b032c",
   "metadata": {},
   "outputs": [],
   "source": [
    "#data = pd.read_csv(os.path.join(testfolder, 'results', 'CompiledResults', 'compiledField_FieldAnalysis.csv'))\n",
    "#data['Wm2Front'].str.strip('[]').str.split(',', expand=True).astype(float)"
   ]
  },
  {
   "cell_type": "markdown",
   "id": "357ed144",
   "metadata": {},
   "source": [
    "# IF from Results"
   ]
  },
  {
   "cell_type": "code",
   "execution_count": null,
   "id": "52d3a450",
   "metadata": {},
   "outputs": [],
   "source": [
    "import pandas as pd\n",
    "import numpy as np"
   ]
  },
  {
   "cell_type": "code",
   "execution_count": null,
   "id": "a16485e9",
   "metadata": {},
   "outputs": [],
   "source": [
    "br = results.copy()"
   ]
  },
  {
   "cell_type": "code",
   "execution_count": null,
   "id": "b2e6953e",
   "metadata": {},
   "outputs": [],
   "source": [
    "Wm2Front = pd.DataFrame.from_dict(dict(zip(br.index,br['Wm2Front']))).T"
   ]
  },
  {
   "cell_type": "code",
   "execution_count": null,
   "id": "0c8b6570",
   "metadata": {},
   "outputs": [],
   "source": [
    "Wm2Back = pd.DataFrame.from_dict(dict(zip(br.index,br['Wm2Back']))).T"
   ]
  },
  {
   "cell_type": "code",
   "execution_count": null,
   "id": "2cd86d6c",
   "metadata": {},
   "outputs": [],
   "source": [
    "mattype = pd.DataFrame.from_dict(dict(zip(br.index,br['mattype']))).T"
   ]
  },
  {
   "cell_type": "code",
   "execution_count": null,
   "id": "8680c8e1",
   "metadata": {},
   "outputs": [],
   "source": [
    "rearMat = pd.DataFrame.from_dict(dict(zip(br.index,br['rearMat']))).T"
   ]
  },
  {
   "cell_type": "code",
   "execution_count": null,
   "id": "b10bf016",
   "metadata": {},
   "outputs": [],
   "source": [
    "matchers = ['sky','pole','tube','bar','ground', '3267', '1540']\n",
    "\n",
    "maskfront = np.column_stack([mattype[col].str.contains('|'.join(matchers), na=False) for col in mattype])\n",
    "Wm2Front[maskfront] = np.nan\n",
    "\n",
    "maskback = np.column_stack([rearMat[col].str.contains('|'.join(matchers), na=False) for col in rearMat])\n",
    "Wm2Back[maskback] = np.nan\n",
    "\n",
    "# Filling Nans...        \n",
    "filledFront = Wm2Front.interpolate().mean(axis=1)\n",
    "filledBack = Wm2Back.interpolate()\n",
    "POA=filledBack.apply(lambda x: x + filledFront)\n",
    "\n",
    "\n",
    "# Statistics Calculatoins\n",
    "dfst=pd.DataFrame()\n",
    "#dfst['MAD/G_Total'] = bifacial_radiance.mismatch.mad_fn(POA.T)  # 'MAD/G_Total\n",
    "dfst['Poa_total'] = POA.mean(axis=1)\n",
    "#dfst['MAD/G_Total**2'] = dfst['MAD/G_Total']**2\n",
    "#dfst['stdev'] = POA.std(axis=1)/ dfst['poat']\n",
    "\n",
    "dfst['Pout'] = bifacial_radiance.performance.calculatePerformance(dfst['Poa_total'], CECMod)\n",
    "dfst['Mismatch'] = bifacial_radiance.mismatch.mismatch_fit3(POA.T)\n",
    "dfst['Pout_red'] = dfst['Pout']*(1-dfst['Mismatch']/100)"
   ]
  },
  {
   "cell_type": "code",
   "execution_count": null,
   "id": "74366350",
   "metadata": {},
   "outputs": [],
   "source": [
    "dfst"
   ]
  },
  {
   "cell_type": "code",
   "execution_count": null,
   "id": "3beb9a7a",
   "metadata": {},
   "outputs": [],
   "source": []
  },
  {
   "cell_type": "markdown",
   "id": "fa1deb4b",
   "metadata": {},
   "source": [
    "# Line by Line ORiginal"
   ]
  },
  {
   "cell_type": "code",
   "execution_count": null,
   "id": "5798aff7",
   "metadata": {},
   "outputs": [],
   "source": [
    "matchers = ['sky','pole','tube','bar','ground', '3267', '1540']"
   ]
  },
  {
   "cell_type": "code",
   "execution_count": null,
   "id": "9c82b5f9",
   "metadata": {},
   "outputs": [],
   "source": [
    "maskfront = np.column_stack([mattype[col].str.contains('|'.join(matchers), na=False) for col in mattype])\n",
    "Wm2Front[maskfront] = np.nan\n",
    "\n",
    "maskback = np.column_stack([rearMat[col].str.contains('|'.join(matchers), na=False) for col in rearMat])\n",
    "Wm2Back[maskback] = np.nan"
   ]
  },
  {
   "cell_type": "code",
   "execution_count": null,
   "id": "e959b4ba",
   "metadata": {},
   "outputs": [],
   "source": [
    "filledFront = Wm2Front.interpolate().mean(axis=1)\n",
    "filledBack = Wm2Back.interpolate()\n",
    "POA=filledBack.apply(lambda x: x + filledFront)"
   ]
  },
  {
   "cell_type": "code",
   "execution_count": null,
   "id": "bda460f0",
   "metadata": {},
   "outputs": [],
   "source": [
    "POA"
   ]
  },
  {
   "cell_type": "code",
   "execution_count": null,
   "id": "07230f70",
   "metadata": {},
   "outputs": [],
   "source": [
    "# Statistics Calculatoins\n",
    "dfst=pd.DataFrame()\n",
    "dfst['MAD/G_Total'] = bifacial_radiance.mismatch.mad_fn(POA.T)  # 'MAD/G_Total\n",
    "dfst['poat'] = POA.mean(axis=1)\n",
    "dfst['MAD/G_Total**2'] = dfst['MAD/G_Total']**2\n",
    "dfst['stdev'] = POA.std(axis=1)/ dfst['poat']"
   ]
  },
  {
   "cell_type": "code",
   "execution_count": null,
   "id": "e86afe19",
   "metadata": {},
   "outputs": [],
   "source": [
    "dfst['Pout'] = bifacial_radiance.performance.calculatePerformance(dfst.poat, CECMod)"
   ]
  },
  {
   "cell_type": "code",
   "execution_count": null,
   "id": "f2c673c0",
   "metadata": {},
   "outputs": [],
   "source": [
    "dfst['mismatch'] = bifacial_radiance.mismatch.mismatch_fit3(POA.T)"
   ]
  },
  {
   "cell_type": "code",
   "execution_count": null,
   "id": "7df5dc75",
   "metadata": {},
   "outputs": [],
   "source": [
    "dfst['Pout_red']=dfst['Pout']*(1-dfst['mismatch']/100)"
   ]
  },
  {
   "cell_type": "code",
   "execution_count": null,
   "id": "60b20476",
   "metadata": {},
   "outputs": [],
   "source": [
    "dfst"
   ]
  },
  {
   "cell_type": "code",
   "execution_count": null,
   "id": "a950c669",
   "metadata": {},
   "outputs": [],
   "source": [
    "ress"
   ]
  },
  {
   "cell_type": "code",
   "execution_count": null,
   "id": "1c729d7e",
   "metadata": {},
   "outputs": [],
   "source": []
  },
  {
   "cell_type": "code",
   "execution_count": null,
   "id": "5120ca64",
   "metadata": {},
   "outputs": [],
   "source": [
    "dfst"
   ]
  },
  {
   "cell_type": "code",
   "execution_count": null,
   "id": "68f7cfb8",
   "metadata": {},
   "outputs": [],
   "source": [
    "analysis.analyzeRow(octfile, scene, rowWanted=1)"
   ]
  },
  {
   "cell_type": "code",
   "execution_count": null,
   "id": "6221a02e",
   "metadata": {},
   "outputs": [],
   "source": []
  },
  {
   "cell_type": "code",
   "execution_count": null,
   "id": "b53685a9",
   "metadata": {},
   "outputs": [],
   "source": []
  },
  {
   "cell_type": "code",
   "execution_count": null,
   "id": "b6fe764f",
   "metadata": {},
   "outputs": [],
   "source": []
  },
  {
   "cell_type": "code",
   "execution_count": null,
   "id": "0b67ca06",
   "metadata": {},
   "outputs": [],
   "source": []
  },
  {
   "cell_type": "code",
   "execution_count": null,
   "id": "dcdbe192",
   "metadata": {},
   "outputs": [],
   "source": []
  },
  {
   "cell_type": "code",
   "execution_count": null,
   "id": "2d35350b",
   "metadata": {},
   "outputs": [],
   "source": []
  },
  {
   "cell_type": "markdown",
   "id": "28bab3fe",
   "metadata": {},
   "source": [
    "#### B. Gencumsky: Probably looping over something in the Geometry"
   ]
  },
  {
   "cell_type": "code",
   "execution_count": null,
   "id": "0ed3424e",
   "metadata": {},
   "outputs": [],
   "source": [
    "tilt = 30"
   ]
  },
  {
   "cell_type": "code",
   "execution_count": null,
   "id": "d761f408",
   "metadata": {},
   "outputs": [],
   "source": [
    "#Main Variables needed throughout\n",
    "albedo = 0.6\n",
    "sim_general_name = 'bifacial_example'\n",
    "lat = 37.5\n",
    "lon = -77.6\n",
    "epwfile = r'C:\\Users\\sayala\\Documents\\RadianceScenes\\HPC_Test\\USA_VA_Richmond.Intl.AP.724010_TMY.epw'\n",
    "testfolder = r'C:\\Users\\sayala\\Documents\\RadianceScenes\\HPC_Test\\Routine1' \n",
    "moduletype = 'Prism Solar Bi60 landscape'\n",
    "\n",
    "tilt = 10\n",
    "pitch = 3\n",
    "clearance_height = 0.2\n",
    "azimuth = 90\n",
    "nMods = 20\n",
    "nRows = 7\n",
    "hpc = True"
   ]
  },
  {
   "cell_type": "code",
   "execution_count": null,
   "id": "8485e849",
   "metadata": {},
   "outputs": [],
   "source": [
    "import bifacial_radiance\n",
    "\n",
    "sim_name = sim_general_name+'_'+str(tilt)\n",
    "demo = bifacial_radiance.RadianceObj(sim_name,str(testfolder))  \n",
    "demo.setGround(albedo)\n",
    "metdata = demo.readWeatherFile(epwfile) \n",
    "demo.genCumSky(savefile = sim_name)\n",
    "sceneDict = {'tilt':tilt,'pitch':pitch,'clearance_height':clearance_height,'azimuth':azimuth, 'nMods': nMods, 'nRows': nRows} \n",
    "scene = demo.makeScene(moduletype=moduletype,sceneDict=sceneDict, hpc=hpc, radname = sim_name)\n",
    "octfile = demo.makeOct(octname = demo.basename , hpc=hoc)  \n",
    "analysis = bifacial_radiance.AnalysisObj(octfile=octfile, name=sim_name)\n",
    "frontscan, backscan = analysis.moduleAnalysis(scene=scene)\n",
    "analysis.analysis(octfile, name=sim_name, frontscan=frontscan, backscan=backscan)\n"
   ]
  },
  {
   "cell_type": "markdown",
   "id": "bae9321b",
   "metadata": {},
   "source": [
    "#### C. Option: Gencumsky segmented ...."
   ]
  },
  {
   "cell_type": "code",
   "execution_count": null,
   "id": "59b10f10",
   "metadata": {},
   "outputs": [],
   "source": [
    "# ADD LATER"
   ]
  },
  {
   "cell_type": "markdown",
   "id": "e16648d8",
   "metadata": {},
   "source": [
    "<a id='step2'></a>"
   ]
  },
  {
   "cell_type": "markdown",
   "id": "6775de88",
   "metadata": {},
   "source": [
    "## 2. Tracker Routine for 1-HSAT"
   ]
  },
  {
   "cell_type": "markdown",
   "id": "42eaceb0",
   "metadata": {},
   "source": [
    "#### Gendaylit1axis, looping over hours"
   ]
  },
  {
   "cell_type": "code",
   "execution_count": null,
   "id": "92da4854",
   "metadata": {},
   "outputs": [],
   "source": [
    "#Main Variables needed throughout\n",
    "albedo = 0.6\n",
    "sim_general_name = 'bifacial_example'\n",
    "lat = 37.5\n",
    "lon = -77.6\n",
    "epwfile = r'C:\\Users\\sayala\\Documents\\RadianceScenes\\HPC_Test\\USA_VA_Richmond.Intl.AP.724010_TMY.epw'\n",
    "testfolder = r'C:\\Users\\sayala\\Documents\\RadianceScenes\\HPC_Test\\Routine1' \n",
    "moduletype = 'Prism Solar Bi60 landscape'\n",
    "\n",
    "hub_height = 0.2\n",
    "nMods = 20\n",
    "nRows = 7\n",
    "hpc = True\n",
    "\n",
    "limit_angle = 60\n",
    "backtrack = True\n",
    "gcr = 0.35\n",
    "angledelta = 0.01\n",
    "\n",
    "starttime = '21_11_06_10'# 'YY_MM_DD_HH'\n",
    "endtime = starttime\n",
    "cumulativesky = False\n"
   ]
  },
  {
   "cell_type": "code",
   "execution_count": null,
   "id": "497cf13d",
   "metadata": {},
   "outputs": [],
   "source": [
    "import bifacial_radiance\n",
    "\n",
    "sim_name = sim_general_name + starttime\n",
    "demo = bifacial_radiance.RadianceObj(sim_name, path=testfolder)  \n",
    "demo.setGround(albedo) \n",
    "metdata = demo.readWeatherFile(epwfile, coerce_year=2021, daydate='05_01')  \n",
    "sceneDict = {'gcr':gcr,'hub_height':hub_height, 'nMods': nMods, 'nRows': nRows}  \n",
    "trackerdict = demo.set1axis(limit_angle = limit_angle, backtrack = backtrack, gcr = gcr, cumulativesky = cumulativesky)\n"
   ]
  },
  {
   "cell_type": "code",
   "execution_count": null,
   "id": "376f8457",
   "metadata": {},
   "outputs": [],
   "source": [
    "metdata = demo.readWeatherFile(epwfile, coerce_year=2021, daydate='21_05_22')  \n",
    "sceneDict = {'gcr':gcr,'hub_height':hub_height, 'nMods': nMods, 'nRows': nRows}  \n",
    "trackerdict = demo.set1axis(limit_angle = limit_angle, backtrack = backtrack, gcr = gcr, cumulativesky = cumulativesky)\n"
   ]
  },
  {
   "cell_type": "code",
   "execution_count": null,
   "id": "a301ae6d",
   "metadata": {},
   "outputs": [],
   "source": [
    "foodict = {k: v for k, v in trackerdict.items() if k.startswith('21_'+day_date)}\n"
   ]
  },
  {
   "cell_type": "code",
   "execution_count": null,
   "id": "d4c5c719",
   "metadata": {},
   "outputs": [],
   "source": [
    "foodict"
   ]
  },
  {
   "cell_type": "code",
   "execution_count": null,
   "id": "a18c43f3",
   "metadata": {},
   "outputs": [],
   "source": [
    "foodict"
   ]
  },
  {
   "cell_type": "code",
   "execution_count": null,
   "id": "17318224",
   "metadata": {},
   "outputs": [],
   "source": [
    "enddate"
   ]
  },
  {
   "cell_type": "code",
   "execution_count": null,
   "id": "1089a0ac",
   "metadata": {},
   "outputs": [],
   "source": [
    "import datetime as dt \n",
    "startindex = list(metdata.datetime).index(dt.datetime.strptime(startdate,'%y_%m_%d_%H'))\n",
    "startindex"
   ]
  },
  {
   "cell_type": "code",
   "execution_count": null,
   "id": "672a64ad",
   "metadata": {},
   "outputs": [],
   "source": [
    "enddate"
   ]
  },
  {
   "cell_type": "code",
   "execution_count": null,
   "id": "3ce52bf8",
   "metadata": {},
   "outputs": [],
   "source": [
    "startindex = list(metdata.datetime).index(dt.datetime.strptime(startdate,'%y_%m_%d_%H'))\n",
    "startindex"
   ]
  },
  {
   "cell_type": "code",
   "execution_count": null,
   "id": "28924679",
   "metadata": {},
   "outputs": [],
   "source": []
  },
  {
   "cell_type": "code",
   "execution_count": null,
   "id": "26c91782",
   "metadata": {},
   "outputs": [],
   "source": [
    "startdate = list(foodict.keys())[0][:-3]\n",
    "enddate = list(foodict.keys())[-1][:-3]\n",
    "trackerdict = demo.gendaylit1axis(trackerdict = foodict, startdate = startdate, enddate = enddate, hpc=True)\n",
    "trackerdict"
   ]
  },
  {
   "cell_type": "code",
   "execution_count": null,
   "id": "0dc20ad2",
   "metadata": {},
   "outputs": [],
   "source": [
    "trackerdict = demo.makeScene1axis(moduletype=moduletype,sceneDict=sceneDict, cumulativesky=cumulativesky, hpc=hpc) #makeScene creates a .rad file with 20 modules per row, 7 rows.\n",
    "trackerdict = demo.makeOct1axis(customname = sim_name, hpc=hpc)\n",
    "demo.analysis1axis(customname = sim_name, hpc=hpc)\n",
    "\n"
   ]
  },
  {
   "cell_type": "markdown",
   "id": "a45ba6ad",
   "metadata": {},
   "source": [
    "#### GencumSky1axis, looping over tracker_angles"
   ]
  },
  {
   "cell_type": "code",
   "execution_count": null,
   "id": "d2273463",
   "metadata": {},
   "outputs": [],
   "source": [
    "#Main Variables needed throughout\n",
    "albedo = 0.6\n",
    "sim_general_name = 'bifacial_example'\n",
    "lat = 37.5\n",
    "lon = -77.6\n",
    "epwfile = r'C:\\Users\\sayala\\Documents\\RadianceScenes\\HPC_Test\\USA_VA_Richmond.Intl.AP.724010_TMY.epw'\n",
    "testfolder = r'C:\\Users\\sayala\\Documents\\RadianceScenes\\HPC_Test\\Routine1' \n",
    "moduletype = 'Prism Solar Bi60 landscape'\n",
    "\n",
    "hub_height = 0.2\n",
    "nMods = 20\n",
    "nRows = 7\n",
    "hpc = True\n",
    "\n",
    "limit_angle = 60\n",
    "backtrack = True\n",
    "gcr = 0.35\n",
    "angledelta = 0.01\n",
    "\n",
    "starttime = '2021_11_06_10'# 'YY_MM_DD_HH'\n",
    "endtime = starttime\n",
    "cumulativesky = True\n"
   ]
  },
  {
   "cell_type": "code",
   "execution_count": null,
   "id": "b13e0e70",
   "metadata": {},
   "outputs": [],
   "source": [
    "theta = str(20)"
   ]
  },
  {
   "cell_type": "code",
   "execution_count": null,
   "id": "03f05f7a",
   "metadata": {},
   "outputs": [],
   "source": [
    "import bifacial_radiance\n",
    "\n",
    "sim_name = sim_general_name + theta\n",
    "demo = bifacial_radiance.RadianceObj(simulationName, path=testfolder)  \n",
    "demo.setGround(albedo) \n",
    "metdata = demo.readWeatherFile(epwfile, starttime=starttime, endttime=endttime, coerce_year=2021)  \n",
    "sceneDict = {'gcr':gcr,'hub_height':hub_height, 'nMods': nMods, 'nRows': nRows}  \n",
    "trackerdict =demo.set1axis(limit_angle = limit_angle, backtrack = backtrack, gcr = gcr, cumulativesky = cumulativesky)\n",
    "trackerdict = demo.genCumSky1axis()\n",
    "trackerdict = demo.makeScene1axis(trackerdict = trackerdict[tetha], moduletype=moduletype,sceneDict=sceneDict, cumulativesky=cumulativesky, hpc=hpc) #makeScene creates a .rad file with 20 modules per row, 7 rows.\n",
    "trackerdict = demo.makeOct1axis(customname = sim_name, hpc=hpc)\n",
    "demo.analysis1axis(customname = sim_name, hpc=hpc)\n",
    "\n"
   ]
  },
  {
   "cell_type": "code",
   "execution_count": null,
   "id": "0cb91ff2",
   "metadata": {},
   "outputs": [],
   "source": []
  },
  {
   "cell_type": "code",
   "execution_count": null,
   "id": "0d7b3f7a",
   "metadata": {},
   "outputs": [],
   "source": []
  },
  {
   "cell_type": "code",
   "execution_count": null,
   "id": "d1ddfe9c",
   "metadata": {},
   "outputs": [],
   "source": []
  },
  {
   "cell_type": "code",
   "execution_count": null,
   "id": "afbc71ca",
   "metadata": {},
   "outputs": [],
   "source": []
  },
  {
   "cell_type": "code",
   "execution_count": null,
   "id": "1c0e4a11",
   "metadata": {},
   "outputs": [],
   "source": []
  }
 ],
 "metadata": {
  "kernelspec": {
   "display_name": "Python 3 (ipykernel)",
   "language": "python",
   "name": "python3"
  },
  "language_info": {
   "codemirror_mode": {
    "name": "ipython",
    "version": 3
   },
   "file_extension": ".py",
   "mimetype": "text/x-python",
   "name": "python",
   "nbconvert_exporter": "python",
   "pygments_lexer": "ipython3",
   "version": "3.8.8"
  }
 },
 "nbformat": 4,
 "nbformat_minor": 5
}
