{
 "cells": [
  {
   "cell_type": "code",
   "execution_count": 5,
   "id": "c15c77ea",
   "metadata": {},
   "outputs": [],
   "source": [
    "import bifacial_radiance\n",
    "import os\n",
    "import pandas as pd"
   ]
  },
  {
   "cell_type": "code",
   "execution_count": 9,
   "id": "b96adf39",
   "metadata": {},
   "outputs": [],
   "source": [
    "#inifile = r'C:\\Users\\sayala\\Documents\\GitHub\\bifacial_radiance\\tests\\simulationView.ini'\n",
    "#inifile = r'C:\\Users\\sayala\\Documents\\GitHub\\bifacial_radiance\\tests\\ini_highAzimuth.ini'\n",
    "#inifile = r'C:\\Users\\sayala\\Documents\\GitHub\\bifacial_radiance\\tests\\simulation3.ini'\n",
    "inifile = r'C:\\Users\\sayala\\Documents\\GitHub\\bifacial_radiance\\tests\\simulation_T01.ini'\n"
   ]
  },
  {
   "cell_type": "code",
   "execution_count": 10,
   "id": "32cfa50d",
   "metadata": {
    "scrolled": true
   },
   "outputs": [
    {
     "name": "stdout",
     "output_type": "stream",
     "text": [
      "Loading times to restrict weather data to\n"
     ]
    },
    {
     "ename": "KeyError",
     "evalue": "'axis_azimuth'",
     "output_type": "error",
     "traceback": [
      "\u001b[1;31m---------------------------------------------------------------------------\u001b[0m",
      "\u001b[1;31mKeyError\u001b[0m                                  Traceback (most recent call last)",
      "Input \u001b[1;32mIn [10]\u001b[0m, in \u001b[0;36m<cell line: 1>\u001b[1;34m()\u001b[0m\n\u001b[1;32m----> 1\u001b[0m (Params)\u001b[38;5;241m=\u001b[39m \u001b[43mbifacial_radiance\u001b[49m\u001b[38;5;241;43m.\u001b[39;49m\u001b[43mload\u001b[49m\u001b[38;5;241;43m.\u001b[39;49m\u001b[43mreadconfigurationinputfile\u001b[49m\u001b[43m(\u001b[49m\u001b[43minifile\u001b[49m\u001b[38;5;241;43m=\u001b[39;49m\u001b[43minifile\u001b[49m\u001b[43m)\u001b[49m\n",
      "File \u001b[1;32mc:\\users\\sayala\\documents\\github\\bifacial_radiance\\bifacial_radiance\\load.py:785\u001b[0m, in \u001b[0;36mreadconfigurationinputfile\u001b[1;34m(inifile)\u001b[0m\n\u001b[0;32m    782\u001b[0m     sceneParamsDict[\u001b[38;5;124m'\u001b[39m\u001b[38;5;124mcustomObject\u001b[39m\u001b[38;5;124m'\u001b[39m] \u001b[38;5;241m=\u001b[39m sceneParamsDict2[\u001b[38;5;124m'\u001b[39m\u001b[38;5;124mcustomObject\u001b[39m\u001b[38;5;124m'\u001b[39m]\n\u001b[0;32m    784\u001b[0m \u001b[38;5;28;01mif\u001b[39;00m simulationParamsDict[\u001b[38;5;124m'\u001b[39m\u001b[38;5;124mtracking\u001b[39m\u001b[38;5;124m'\u001b[39m]:\n\u001b[1;32m--> 785\u001b[0m     sceneParamsDict[\u001b[38;5;124m'\u001b[39m\u001b[38;5;124maxis_azimuth\u001b[39m\u001b[38;5;124m'\u001b[39m]\u001b[38;5;241m=\u001b[39m\u001b[38;5;28mround\u001b[39m(\u001b[38;5;28mfloat\u001b[39m(\u001b[43msceneParamsDict2\u001b[49m\u001b[43m[\u001b[49m\u001b[38;5;124;43m'\u001b[39;49m\u001b[38;5;124;43maxis_azimuth\u001b[39;49m\u001b[38;5;124;43m'\u001b[39;49m\u001b[43m]\u001b[49m),\u001b[38;5;241m2\u001b[39m)\n\u001b[0;32m    786\u001b[0m     sceneParamsDict[\u001b[38;5;124m'\u001b[39m\u001b[38;5;124mhub_height\u001b[39m\u001b[38;5;124m'\u001b[39m]\u001b[38;5;241m=\u001b[39m\u001b[38;5;28mround\u001b[39m(\u001b[38;5;28mfloat\u001b[39m(sceneParamsDict2[\u001b[38;5;124m'\u001b[39m\u001b[38;5;124mhub_height\u001b[39m\u001b[38;5;124m'\u001b[39m]),\u001b[38;5;241m2\u001b[39m)\n\u001b[0;32m    788\u001b[0m     \u001b[38;5;28;01mif\u001b[39;00m config\u001b[38;5;241m.\u001b[39mhas_section(\u001b[38;5;124m\"\u001b[39m\u001b[38;5;124mtrackingParamsDict\u001b[39m\u001b[38;5;124m\"\u001b[39m):\n",
      "\u001b[1;31mKeyError\u001b[0m: 'axis_azimuth'"
     ]
    }
   ],
   "source": [
    "(Params)= bifacial_radiance.load.readconfigurationinputfile(inifile=inifile)"
   ]
  },
  {
   "cell_type": "code",
   "execution_count": 8,
   "id": "72cc6f26",
   "metadata": {},
   "outputs": [
    {
     "name": "stdout",
     "output_type": "stream",
     "text": [
      "\n",
      "New bifacial_radiance simulation starting. \n",
      "Version:  0.4.1+112.gd5e67e3.dirty\n",
      "path = C:\\Users\\sayala\\Documents\\GitHub\\bifacial_radiance\\bifacial_radiance\\TEMP\\Modelchain\n",
      "'Efficiency' input found in moduleParamsDict. This value will be propagated but is not currently used in bifacial_radiance\n",
      ".\n",
      "'Temp_coeff' input found in moduleParamsDict. This value will be propagated but is not currently used in bifacial_radiance\n",
      ".\n",
      "'Peak_Power' input found in moduleParamsDict. This value will be propagated but is not currently used in bifacial_radiance\n",
      ".\n",
      "'Module_name' input found in moduleParamsDict. This value will be propagated but is not currently used in bifacial_radiance\n",
      ".\n",
      "Loading times to restrict weather data to\n",
      "Error: Mising/wrong parameters for CECModParamsDict, setting dictionary to None. MAke sure to include alpha_sc, a_ref, I_L_ref, I_o_ref,  R_sh_ref, R_s, and Adjust.Performance calculations, if performed, will use default module\n",
      "Load Warning: Omega Parameters passed,  but some parameters are missing/not numbers.\n",
      "Load Warning: Fame Parameters passed,  but some parameters are missing/not numbers.\n",
      "Load Warning: Pile Parameters passed,  but some parameters are missing/not numbers.\n",
      "Getting weather file: USA_VA_Richmond.724010_TMY2.epw\n",
      " ... OK!\n",
      "Reading weather file EPWs\\USA_VA_Richmond.724010_TMY2.epw\n",
      "8760 line in WeatherFile. Assuming this is a standard hourly WeatherFile for the year for purposes of saving Gencumulativesky temporary weather files in EPW folder.\n",
      "Coercing year to 2021\n",
      "Filtering dates\n",
      "Saving file EPWs\\metdata_temp.csv, # points: 8760\n",
      "Calculating Sun position for Metdata that is right-labeled  with a delta of -30 mins. i.e. 12 is 11:30 sunpos\n",
      "Loading albedo, 1 value(s), 0.620 avg\n",
      "1 nonzero albedo values.\n",
      "Available module names: ['PrismSolar-Bi60', 'basic-module', 'test-module']\n",
      "\n",
      "Module Name: test-module\n",
      "Module test-module updated in module.json\n",
      "Pre-existing .rad file objects\\test-module.rad will be overwritten\n",
      "\n",
      "\n",
      "Using Pre-determined Module Type: test-module \n",
      "Creating ~2 skyfiles. \n",
      "Created 2 skyfiles in /skies/\n",
      "\n",
      "Making ~2 .rad files for gendaylit 1-axis workflow (this takes a minute..)\n",
      "2 Radfiles created in /objects/\n",
      "\n",
      "Making 2 octfiles in root directory.\n",
      "Created 1axis_2021-06-17_1300.oct\n",
      "Created 1axis_2021-06-17_1400.oct\n",
      "Linescan in process: 1axis_2021-06-17_1300_Row1_Module1_Front\n",
      "Linescan in process: 1axis_2021-06-17_1300_Row1_Module1_Back\n",
      "Saved: results\\irr_1axis_2021-06-17_1300_Row1_Module1_Front.csv\n",
      "Saved: results\\irr_1axis_2021-06-17_1300_Row1_Module1_Back.csv\n",
      "Index: 2021-06-17_1300. Wm2Front: 763.5351999999999. Wm2Back: 255.01925\n",
      "Linescan in process: 1axis_2021-06-17_1400_Row1_Module1_Front\n",
      "Linescan in process: 1axis_2021-06-17_1400_Row1_Module1_Back\n",
      "Saved: results\\irr_1axis_2021-06-17_1400_Row1_Module1_Front.csv\n",
      "Saved: results\\irr_1axis_2021-06-17_1400_Row1_Module1_Back.csv\n",
      "Index: 2021-06-17_1400. Wm2Front: 656.077. Wm2Back: 239.5198\n",
      "\n",
      "--> Calculating Performance values\n",
      "Bifaciality factor of module stored is  0.9\n",
      "No CECModule data passed; using default for Prism Solar BHC72-400\n",
      "Exporting TrackerDict\n",
      "1\n",
      "\n",
      "Saving scene and module .hdr to images/\n"
     ]
    },
    {
     "name": "stderr",
     "output_type": "stream",
     "text": [
      "c:\\users\\sayala\\documents\\github\\bifacial_radiance\\bifacial_radiance\\mismatch.py:220: FutureWarning: outer method for ufunc <ufunc 'subtract'> is not implemented on pandas objects. Returning an ndarray, but in the future this will raise a 'NotImplementedError'. Consider explicitly converting the DataFrame to an array with '.to_numpy()' first.\n",
      "  return (np.abs(np.subtract.outer(data,data)).sum()/float(data.__len__())**2 / np.mean(data))*100\n",
      "C:\\Users\\sayala\\Anaconda3\\lib\\site-packages\\numpy\\core\\fromnumeric.py:3438: FutureWarning: In a future version, DataFrame.mean(axis=None) will return a scalar mean over the entire DataFrame. To retain the old behavior, use 'frame.mean(axis=0)' or just 'frame.mean()'\n",
      "  return mean(axis=axis, dtype=dtype, out=out, **kwargs)\n"
     ]
    },
    {
     "name": "stdout",
     "output_type": "stream",
     "text": [
      "Scene image saved: images/scene_2021-06-17_1300_side.hdr\n",
      "Module image saved: images/test-module_XYZ.hdr\n",
      "Finished! \n"
     ]
    }
   ],
   "source": [
    "demo2, analysis = bifacial_radiance.modelchain.runModelChain(*Params ) "
   ]
  },
  {
   "cell_type": "code",
   "execution_count": null,
   "id": "2c63f4e4",
   "metadata": {
    "scrolled": true
   },
   "outputs": [],
   "source": [
    "!rvu -vf views\\side.vp -e .01 1axis_2021-06-17_1300.oct"
   ]
  },
  {
   "cell_type": "code",
   "execution_count": null,
   "id": "a61334d4",
   "metadata": {},
   "outputs": [],
   "source": [
    "demo2.CompiledResults"
   ]
  },
  {
   "cell_type": "code",
   "execution_count": null,
   "id": "568e0544",
   "metadata": {},
   "outputs": [],
   "source": [
    "demo2.trackerdict"
   ]
  }
 ],
 "metadata": {
  "kernelspec": {
   "display_name": "Python 3 (ipykernel)",
   "language": "python",
   "name": "python3"
  },
  "language_info": {
   "codemirror_mode": {
    "name": "ipython",
    "version": 3
   },
   "file_extension": ".py",
   "mimetype": "text/x-python",
   "name": "python",
   "nbconvert_exporter": "python",
   "pygments_lexer": "ipython3",
   "version": "3.8.8"
  }
 },
 "nbformat": 4,
 "nbformat_minor": 5
}
