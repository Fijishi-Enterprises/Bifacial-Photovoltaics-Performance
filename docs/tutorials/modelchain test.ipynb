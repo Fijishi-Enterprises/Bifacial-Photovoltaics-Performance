{
 "cells": [
  {
   "cell_type": "code",
   "execution_count": 1,
   "id": "c15c77ea",
   "metadata": {},
   "outputs": [],
   "source": [
    "import bifacial_radiance\n",
    "import os\n",
    "import pandas as pd"
   ]
  },
  {
   "cell_type": "code",
   "execution_count": 19,
   "id": "b96adf39",
   "metadata": {},
   "outputs": [],
   "source": [
    "inifile = r'C:\\Users\\sayala\\Documents\\GitHub\\bifacial_radiance\\tests\\ini_highAzimuth.ini'\n",
    "weatherfile = r'C:\\Users\\sayala\\Documents\\GitHub\\bifacial_radiance\\tests\\724666TYA.csv'\n",
    "testfolder = r'C:\\Users\\sayala\\Documents\\GitHub\\bifacial_radiance\\bifacial_radiance\\TEMP\\Modelchain'"
   ]
  },
  {
   "cell_type": "code",
   "execution_count": 14,
   "id": "32cfa50d",
   "metadata": {},
   "outputs": [
    {
     "name": "stdout",
     "output_type": "stream",
     "text": [
      "Loading times to restrict weather data to\n"
     ]
    }
   ],
   "source": [
    "(Params)= bifacial_radiance.load.readconfigurationinputfile(inifile=inifile)"
   ]
  },
  {
   "cell_type": "code",
   "execution_count": 15,
   "id": "971babb1",
   "metadata": {},
   "outputs": [
    {
     "data": {
      "text/plain": [
       "{'weatherFile': '724666TYA.CSV',\n",
       " 'getEPW': False,\n",
       " 'simulationname': '_test_high_azimuth_angle_modelchain',\n",
       " 'moduletype': 'test-module',\n",
       " 'rewriteModule': True,\n",
       " 'cellLevelModule': False,\n",
       " 'axisofrotationTorqueTube': False,\n",
       " 'torqueTube': False,\n",
       " 'hpc': False,\n",
       " 'tracking': False,\n",
       " 'cumulativeSky': False,\n",
       " 'selectTimes': True,\n",
       " 'latitude': '37.5',\n",
       " 'longitude': '-77.6'}"
      ]
     },
     "execution_count": 15,
     "metadata": {},
     "output_type": "execute_result"
    }
   ],
   "source": [
    "Params[0]"
   ]
  },
  {
   "cell_type": "code",
   "execution_count": 16,
   "id": "22f4e338",
   "metadata": {},
   "outputs": [
    {
     "data": {
      "text/plain": [
       "{'starttime': '06_17_13', 'endtime': '06_17_13'}"
      ]
     },
     "execution_count": 16,
     "metadata": {},
     "output_type": "execute_result"
    }
   ],
   "source": [
    "Params[2]"
   ]
  },
  {
   "cell_type": "code",
   "execution_count": 24,
   "id": "eccc942e",
   "metadata": {},
   "outputs": [],
   "source": [
    "Params[0]['testfolder'] = testfolder\n",
    "Params[0]['weatherFile'] = weatherfile\n",
    "Params[2].update({'starttime': '06_17_13', 'endtime':'06_17_14'}); "
   ]
  },
  {
   "cell_type": "code",
   "execution_count": 25,
   "id": "72cc6f26",
   "metadata": {},
   "outputs": [
    {
     "name": "stdout",
     "output_type": "stream",
     "text": [
      "\n",
      "New bifacial_radiance simulation starting. \n",
      "Version:  0.4.0-dev2+15.geae1033\n",
      "path = C:\\Users\\sayala\\Documents\\GitHub\\bifacial_radiance\\bifacial_radiance\\TEMP\\Modelchain\n",
      "Loading times to restrict weather data to\n",
      "Reading weather file C:\\Users\\sayala\\Documents\\GitHub\\bifacial_radiance\\tests\\724666TYA.csv\n",
      "Warning: CSV file passed for input. Assuming it is TMY3style format\n",
      "8760 line in WeatherFile. Assuming this is a standard hourly WeatherFile for the year for purposes of saving Gencumulativesky temporary weather files in EPW folder.\n",
      "Coercing year to 2021\n",
      "Filtering dates\n",
      "Saving file EPWs\\metdata_temp.csv, # points: 8760\n",
      "Calculating Sun position for Metdata that is right-labeled  with a delta of -30 mins. i.e. 12 is 11:30 sunpos\n",
      "Loading albedo, 1 value(s), 0.800 avg\n",
      "1 nonzero albedo values.\n",
      "Available module names: ['PrismSolar-Bi60', 'basic-module', 'test-module']\n",
      "\n",
      "Module Name: test-module\n",
      "Module test-module updated in module.json\n",
      "Pre-existing .rad file objects\\test-module.rad will be overwritten\n",
      "\n",
      "\n",
      "Using Pre-determined Module Type: test-module \n",
      "Creating ~2 skyfiles. \n",
      "Created 2 skyfiles in /skies/\n",
      "\n",
      "Making ~2 .rad files for gendaylit 1-axis workflow (this takes a minute..)\n",
      "2 Radfiles created in /objects/\n",
      "\n",
      "Making 2 octfiles in root directory.\n",
      "Created 1axis_2021-06-17_1300.oct\n",
      "Created 1axis_2021-06-17_1400.oct\n",
      "Linescan in process: 1axis_2021-06-17_1300_Front\n",
      "Linescan in process: 1axis_2021-06-17_1300_Back\n",
      "Saved: results\\irr_1axis_2021-06-17_1300_Front.csv\n",
      "Saved: results\\irr_1axis_2021-06-17_1300_Back.csv\n",
      "Index: 2021-06-17_1300. Wm2Front: 898.5218749999999. Wm2Back: 190.2805422222222\n",
      "Linescan in process: 1axis_2021-06-17_1400_Front\n",
      "Linescan in process: 1axis_2021-06-17_1400_Back\n",
      "Saved: results\\irr_1axis_2021-06-17_1400_Front.csv\n",
      "Saved: results\\irr_1axis_2021-06-17_1400_Back.csv\n",
      "Index: 2021-06-17_1400. Wm2Front: 646.2458541666667. Wm2Back: 153.3900788888889\n",
      "Saving a cumulative-results file in the main simulation folder.This adds up by sensor location the irradiance over all hours or configurations considered.\n",
      "Warning: This file saving routine does not clean results, so if your setup has ygaps, or 2+modules or torque tubes, doing a deeper cleaning and working with the individual results files in the results folder is highly suggested.\n",
      "Not able to save a cumulative result for this simulation.\n"
     ]
    }
   ],
   "source": [
    "demo2, analysis = bifacial_radiance.modelchain.runModelChain(*Params ) \n"
   ]
  },
  {
   "cell_type": "code",
   "execution_count": 37,
   "id": "dc349273",
   "metadata": {},
   "outputs": [
    {
     "data": {
      "text/plain": [
       "dict_keys(['2021-06-17_1300', '2021-06-17_1400'])"
      ]
     },
     "execution_count": 37,
     "metadata": {},
     "output_type": "execute_result"
    }
   ],
   "source": [
    "demo2.trackerdict"
   ]
  },
  {
   "cell_type": "code",
   "execution_count": 39,
   "id": "ac9ed7a7",
   "metadata": {},
   "outputs": [
    {
     "name": "stdout",
     "output_type": "stream",
     "text": [
      "1  modules selected. Name of 1st entry:  Prism Solar Technologies_ Inc. BHC72-400\n"
     ]
    }
   ],
   "source": [
    "#CEC Module\n",
    "url = 'https://raw.githubusercontent.com/NREL/SAM/patch/deploy/libraries/CEC%20Modules.csv'\n",
    "db = pd.read_csv(url, index_col=0) # Reading this might take 1 min or so, the database is big.\n",
    "modfilter2 = db.index.str.startswith('Pr') & db.index.str.endswith('BHC72-400')\n",
    "CECMod = db[modfilter2]\n",
    "print(len(CECMod), \" modules selected. Name of 1st entry: \", CECMod.index[0])"
   ]
  },
  {
   "cell_type": "code",
   "execution_count": 47,
   "id": "007e404b",
   "metadata": {},
   "outputs": [
    {
     "name": "stdout",
     "output_type": "stream",
     "text": [
      "Bifaciality factor of module stored is  0.9\n"
     ]
    }
   ],
   "source": [
    "trackerdict = demo2.calculatePerformanceModule(CECMod)"
   ]
  },
  {
   "cell_type": "code",
   "execution_count": 46,
   "id": "739b65ae",
   "metadata": {},
   "outputs": [
    {
     "name": "stdout",
     "output_type": "stream",
     "text": [
      "Exporting TrackerDict\n"
     ]
    },
    {
     "data": {
      "text/html": [
       "<div>\n",
       "<style scoped>\n",
       "    .dataframe tbody tr th:only-of-type {\n",
       "        vertical-align: middle;\n",
       "    }\n",
       "\n",
       "    .dataframe tbody tr th {\n",
       "        vertical-align: top;\n",
       "    }\n",
       "\n",
       "    .dataframe thead th {\n",
       "        text-align: right;\n",
       "    }\n",
       "</style>\n",
       "<table border=\"1\" class=\"dataframe\">\n",
       "  <thead>\n",
       "    <tr style=\"text-align: right;\">\n",
       "      <th></th>\n",
       "      <th>Unnamed: 0</th>\n",
       "      <th>dhi</th>\n",
       "      <th>ghi</th>\n",
       "      <th>Wm2Back</th>\n",
       "      <th>Wm2Front</th>\n",
       "      <th>theta</th>\n",
       "      <th>surf_tilt</th>\n",
       "      <th>surf_azm</th>\n",
       "      <th>clearance_height</th>\n",
       "      <th>effective_irradiance</th>\n",
       "      <th>Pout_module</th>\n",
       "      <th>Wm2BackAvg</th>\n",
       "      <th>Wm2FrontAvg</th>\n",
       "      <th>BifiRatio</th>\n",
       "    </tr>\n",
       "  </thead>\n",
       "  <tbody>\n",
       "    <tr>\n",
       "      <th>0</th>\n",
       "      <td>2021-06-17_1300</td>\n",
       "      <td>172</td>\n",
       "      <td>959</td>\n",
       "      <td>[150.38653333333332, 112.35766666666666, 102.3...</td>\n",
       "      <td>[895.5752333333334, 895.5537333333333, 895.531...</td>\n",
       "      <td>10.0</td>\n",
       "      <td>10.0</td>\n",
       "      <td>30.0</td>\n",
       "      <td>0.2</td>\n",
       "      <td>1069.774363</td>\n",
       "      <td>386.325463</td>\n",
       "      <td>190.280542</td>\n",
       "      <td>898.521875</td>\n",
       "      <td>0.190594</td>\n",
       "    </tr>\n",
       "    <tr>\n",
       "      <th>1</th>\n",
       "      <td>2021-06-17_1400</td>\n",
       "      <td>306</td>\n",
       "      <td>702</td>\n",
       "      <td>[114.94426666666668, 93.72626666666666, 87.733...</td>\n",
       "      <td>[643.6093, 644.4763, 645.3445666666668, 647.03...</td>\n",
       "      <td>10.0</td>\n",
       "      <td>10.0</td>\n",
       "      <td>30.0</td>\n",
       "      <td>0.2</td>\n",
       "      <td>784.296925</td>\n",
       "      <td>291.653189</td>\n",
       "      <td>153.390079</td>\n",
       "      <td>646.245854</td>\n",
       "      <td>0.213620</td>\n",
       "    </tr>\n",
       "  </tbody>\n",
       "</table>\n",
       "</div>"
      ],
      "text/plain": [
       "        Unnamed: 0  dhi  ghi  \\\n",
       "0  2021-06-17_1300  172  959   \n",
       "1  2021-06-17_1400  306  702   \n",
       "\n",
       "                                             Wm2Back  \\\n",
       "0  [150.38653333333332, 112.35766666666666, 102.3...   \n",
       "1  [114.94426666666668, 93.72626666666666, 87.733...   \n",
       "\n",
       "                                            Wm2Front  theta  surf_tilt  \\\n",
       "0  [895.5752333333334, 895.5537333333333, 895.531...   10.0       10.0   \n",
       "1  [643.6093, 644.4763, 645.3445666666668, 647.03...   10.0       10.0   \n",
       "\n",
       "   surf_azm  clearance_height  effective_irradiance  Pout_module  Wm2BackAvg  \\\n",
       "0      30.0               0.2           1069.774363   386.325463  190.280542   \n",
       "1      30.0               0.2            784.296925   291.653189  153.390079   \n",
       "\n",
       "   Wm2FrontAvg  BifiRatio  \n",
       "0   898.521875   0.190594  \n",
       "1   646.245854   0.213620  "
      ]
     },
     "execution_count": 46,
     "metadata": {},
     "output_type": "execute_result"
    }
   ],
   "source": [
    "demo2.exportTrackerDict(savefile=os.path.join('results','Final_Results.csv'),reindex=False)\n",
    "pd.read_csv(os.path.join('results','Final_Results.csv'))"
   ]
  },
  {
   "cell_type": "code",
   "execution_count": null,
   "id": "428601d4",
   "metadata": {},
   "outputs": [],
   "source": [
    "#assert np.round(np.mean(analysis.backRatio),2) == 0.20  # bifi ratio was == 0.22 in v0.2.2\n",
    "assert np.mean(analysis.Wm2Front) == pytest.approx(898, rel = 0.005)  # was 912 in v0.2.3\n",
    "assert np.mean(analysis.Wm2Back) == pytest.approx(189, rel = 0.02)  # was 182 in v0.2.2"
   ]
  }
 ],
 "metadata": {
  "kernelspec": {
   "display_name": "Python 3 (ipykernel)",
   "language": "python",
   "name": "python3"
  },
  "language_info": {
   "codemirror_mode": {
    "name": "ipython",
    "version": 3
   },
   "file_extension": ".py",
   "mimetype": "text/x-python",
   "name": "python",
   "nbconvert_exporter": "python",
   "pygments_lexer": "ipython3",
   "version": "3.8.8"
  }
 },
 "nbformat": 4,
 "nbformat_minor": 5
}
