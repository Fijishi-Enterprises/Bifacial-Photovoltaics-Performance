{
 "cells": [
  {
   "cell_type": "code",
   "execution_count": 2,
   "id": "c15c77ea",
   "metadata": {},
   "outputs": [],
   "source": [
    "import bifacial_radiance\n",
    "import os\n",
    "import pandas as pd"
   ]
  },
  {
   "cell_type": "code",
   "execution_count": 3,
   "id": "b96adf39",
   "metadata": {},
   "outputs": [],
   "source": [
    "inifile = r'C:\\Users\\sayala\\Documents\\GitHub\\bifacial_radiance\\tests\\ini_highAzimuth.ini'\n",
    "#inifile = r'C:\\Users\\sayala\\Documents\\GitHub\\bifacial_radiance\\tests\\ini_gencumsky.ini'\n",
    "#inifile = r'C:\\Users\\sayala\\Documents\\GitHub\\bifacial_radiance\\tests\\ini_1axis.ini'\n",
    "\n",
    "weatherfile = r'C:\\Users\\sayala\\Documents\\GitHub\\bifacial_radiance\\tests\\724666TYA.csv'\n",
    "testfolder = r'C:\\Users\\sayala\\Documents\\GitHub\\bifacial_radiance\\bifacial_radiance\\TEMP\\Modelchain'"
   ]
  },
  {
   "cell_type": "code",
   "execution_count": 4,
   "id": "32cfa50d",
   "metadata": {},
   "outputs": [
    {
     "name": "stdout",
     "output_type": "stream",
     "text": [
      "Loading times to restrict weather data to\n"
     ]
    }
   ],
   "source": [
    "(Params)= bifacial_radiance.load.readconfigurationinputfile(inifile=inifile)"
   ]
  },
  {
   "cell_type": "code",
   "execution_count": 5,
   "id": "96f8b309",
   "metadata": {},
   "outputs": [
    {
     "data": {
      "text/plain": [
       "({'weatherFile': '724666TYA.CSV',\n",
       "  'getEPW': False,\n",
       "  'simulationname': '_test_high_azimuth_angle_modelchain',\n",
       "  'moduletype': 'test-module',\n",
       "  'rewriteModule': True,\n",
       "  'cellLevelModule': False,\n",
       "  'axisofrotationTorqueTube': False,\n",
       "  'torqueTube': False,\n",
       "  'hpc': False,\n",
       "  'tracking': False,\n",
       "  'cumulativeSky': False,\n",
       "  'selectTimes': True,\n",
       "  'latitude': '37.5',\n",
       "  'longitude': '-77.6'},\n",
       " {'albedo': 'white_EPDM',\n",
       "  'nMods': 10,\n",
       "  'nRows': 3,\n",
       "  'gcrorpitch': 'pitch',\n",
       "  'pitch': 1.5,\n",
       "  'azimuth': 30.0,\n",
       "  'clearance_height': 0.2,\n",
       "  'tilt': 10.0},\n",
       " {'starttime': '06_17_13', 'endtime': '06_17_13'},\n",
       " {'bifi': 0.8,\n",
       "  'numpanels': 1,\n",
       "  'xgap': 0.0,\n",
       "  'ygap': 0.0,\n",
       "  'zgap': 0.0,\n",
       "  'x': 1.59,\n",
       "  'y': 0.95},\n",
       " None,\n",
       " None,\n",
       " {'sensorsy': (8, 9), 'modWanted': 5, 'rowWanted': 2},\n",
       " None,\n",
       " {'alpha_sc': 0.0039216,\n",
       "  'a_ref': 1.80227,\n",
       "  'I_L_ref': 10.5308,\n",
       "  'I_o_ref': 2.28e-11,\n",
       "  'R_sh_ref': 900.982,\n",
       "  'R_s': 0.285529,\n",
       "  'Adjust': 4.39011})"
      ]
     },
     "execution_count": 5,
     "metadata": {},
     "output_type": "execute_result"
    }
   ],
   "source": [
    "Params"
   ]
  },
  {
   "cell_type": "code",
   "execution_count": 6,
   "id": "eccc942e",
   "metadata": {},
   "outputs": [],
   "source": [
    "Params[0]['testfolder'] = testfolder\n",
    "Params[0]['weatherFile'] = weatherfile\n",
    "Params[2].update({'starttime': '06_17_13', 'endtime':'06_17_14'}); "
   ]
  },
  {
   "cell_type": "code",
   "execution_count": 7,
   "id": "72cc6f26",
   "metadata": {},
   "outputs": [
    {
     "name": "stdout",
     "output_type": "stream",
     "text": [
      "\n",
      "New bifacial_radiance simulation starting. \n",
      "Version:  0.4.0-dev2+20.g4dfb2bf.dirty\n",
      "path = C:\\Users\\sayala\\Documents\\GitHub\\bifacial_radiance\\bifacial_radiance\\TEMP\\Modelchain\n",
      "Loading times to restrict weather data to\n",
      "Reading weather file C:\\Users\\sayala\\Documents\\GitHub\\bifacial_radiance\\tests\\724666TYA.csv\n",
      "Warning: CSV file passed for input. Assuming it is TMY3style format\n",
      "8760 line in WeatherFile. Assuming this is a standard hourly WeatherFile for the year for purposes of saving Gencumulativesky temporary weather files in EPW folder.\n",
      "Coercing year to 2021\n",
      "Filtering dates\n",
      "Saving file EPWs\\metdata_temp.csv, # points: 8760\n",
      "Calculating Sun position for Metdata that is right-labeled  with a delta of -30 mins. i.e. 12 is 11:30 sunpos\n",
      "Loading albedo, 1 value(s), 0.800 avg\n",
      "1 nonzero albedo values.\n",
      "Available module names: ['PrismSolar-Bi60', 'basic-module', 'test-module']\n",
      "\n",
      "Module Name: test-module\n",
      "Module test-module updated in module.json\n",
      "Pre-existing .rad file objects\\test-module.rad will be overwritten\n",
      "\n",
      "\n",
      "Using Pre-determined Module Type: test-module \n",
      "Creating ~2 skyfiles. \n",
      "Created 2 skyfiles in /skies/\n",
      "\n",
      "Making ~2 .rad files for gendaylit 1-axis workflow (this takes a minute..)\n",
      "2 Radfiles created in /objects/\n",
      "\n",
      "Making 2 octfiles in root directory.\n",
      "Created 1axis_2021-06-17_1300.oct\n",
      "Created 1axis_2021-06-17_1400.oct\n",
      "Linescan in process: 1axis_2021-06-17_1300_Front\n",
      "Linescan in process: 1axis_2021-06-17_1300_Back\n",
      "Saved: results\\irr_1axis_2021-06-17_1300_Front.csv\n",
      "Saved: results\\irr_1axis_2021-06-17_1300_Back.csv\n",
      "Index: 2021-06-17_1300. Wm2Front: 898.5004208333334. Wm2Back: 188.68636074074075\n",
      "Linescan in process: 1axis_2021-06-17_1400_Front\n",
      "Linescan in process: 1axis_2021-06-17_1400_Back\n",
      "Saved: results\\irr_1axis_2021-06-17_1400_Front.csv\n",
      "Saved: results\\irr_1axis_2021-06-17_1400_Back.csv\n",
      "Index: 2021-06-17_1400. Wm2Front: 646.5643125. Wm2Back: 153.1178651851852\n",
      "Saving a cumulative-results file in the main simulation folder.This adds up by sensor location the irradiance over all hours or configurations considered.\n",
      "Warning: This file saving routine does not clean results, so if your setup has ygaps, or 2+modules or torque tubes, doing a deeper cleaning and working with the individual results files in the results folder is highly suggested.\n",
      "Not able to save a cumulative result for this simulation.\n",
      "\n",
      "--> Calculating Performance values\n",
      "Bifaciality factor of module stored is  0.8\n",
      "Exporting TrackerDict\n"
     ]
    },
    {
     "name": "stderr",
     "output_type": "stream",
     "text": [
      "c:\\users\\sayala\\documents\\github\\bifacial_radiance\\bifacial_radiance\\mismatch.py:220: FutureWarning: outer method for ufunc <ufunc 'subtract'> is not implemented on pandas objects. Returning an ndarray, but in the future this will raise a 'NotImplementedError'. Consider explicitly converting the DataFrame to an array with '.to_numpy()' first.\n",
      "  return (np.abs(np.subtract.outer(data,data)).sum()/float(data.__len__())**2 / np.mean(data))*100\n"
     ]
    }
   ],
   "source": [
    "demo2, analysis = bifacial_radiance.modelchain.runModelChain(*Params ) \n"
   ]
  },
  {
   "cell_type": "code",
   "execution_count": null,
   "id": "1f6ce352",
   "metadata": {},
   "outputs": [],
   "source": [
    "demo2.trackerdict"
   ]
  },
  {
   "cell_type": "code",
   "execution_count": null,
   "id": "dc349273",
   "metadata": {},
   "outputs": [],
   "source": [
    "trackerdict = demo2.trackerdict\n",
    "keys = list(demo2.trackerdict.keys())"
   ]
  },
  {
   "cell_type": "code",
   "execution_count": null,
   "id": "42c0c602",
   "metadata": {},
   "outputs": [],
   "source": [
    "frontirrad = trackerdict[keys[0]]['AnalysisObj'].Wm2Front"
   ]
  },
  {
   "cell_type": "code",
   "execution_count": null,
   "id": "57f60c2e",
   "metadata": {},
   "outputs": [],
   "source": [
    "type(frontirrad)"
   ]
  },
  {
   "cell_type": "code",
   "execution_count": null,
   "id": "ac9ed7a7",
   "metadata": {},
   "outputs": [],
   "source": [
    "#CEC Module\n",
    "url = 'https://raw.githubusercontent.com/NREL/SAM/patch/deploy/libraries/CEC%20Modules.csv'\n",
    "db = pd.read_csv(url, index_col=0) # Reading this might take 1 min or so, the database is big.\n",
    "modfilter2 = db.index.str.startswith('Pr') & db.index.str.endswith('BHC72-400')\n",
    "CECMod = db[modfilter2]\n",
    "print(len(CECMod), \" modules selected. Name of 1st entry: \", CECMod.index[0])"
   ]
  },
  {
   "cell_type": "code",
   "execution_count": null,
   "id": "d558d1f2",
   "metadata": {},
   "outputs": [],
   "source": [
    "type(CECMod)"
   ]
  },
  {
   "cell_type": "code",
   "execution_count": null,
   "id": "190604fb",
   "metadata": {},
   "outputs": [],
   "source": [
    "CECModParamsDict = Params[-1]"
   ]
  },
  {
   "cell_type": "code",
   "execution_count": null,
   "id": "f34740f5",
   "metadata": {},
   "outputs": [],
   "source": [
    "CECModParamsDict"
   ]
  },
  {
   "cell_type": "code",
   "execution_count": null,
   "id": "f3487e63",
   "metadata": {},
   "outputs": [],
   "source": [
    "pd.DataFrame(CECModParamsDict, index=[0])"
   ]
  },
  {
   "cell_type": "code",
   "execution_count": null,
   "id": "8a4f0ce6",
   "metadata": {},
   "outputs": [],
   "source": [
    "import numpy as np"
   ]
  },
  {
   "cell_type": "code",
   "execution_count": null,
   "id": "1c55c2fe",
   "metadata": {},
   "outputs": [],
   "source": [
    "demo2.trackerdict[keys[0]]['AnalysisObj'].Wm2Front[1] = np.nan\n",
    "demo2.trackerdict[keys[0]]['AnalysisObj'].Wm2Front[2] = np.nan\n",
    "demo2.trackerdict[keys[0]]['AnalysisObj'].Wm2Front[3] = np.nan\n",
    "demo2.trackerdict[keys[0]]['AnalysisObj'].Wm2Front[4] = np.nan\n",
    "demo2.trackerdict[keys[0]]['AnalysisObj'].Wm2Front[5] = np.nan\n",
    "demo2.trackerdict[keys[0]]['AnalysisObj'].Wm2Front[6] = np.nan\n",
    "demo2.trackerdict[keys[0]]['AnalysisObj'].Wm2Front[7] = np.nan"
   ]
  },
  {
   "cell_type": "code",
   "execution_count": null,
   "id": "1a8bcd40",
   "metadata": {},
   "outputs": [],
   "source": [
    "type(CECMod)"
   ]
  },
  {
   "cell_type": "code",
   "execution_count": null,
   "id": "5f28459e",
   "metadata": {},
   "outputs": [],
   "source": [
    "CECMod)"
   ]
  },
  {
   "cell_type": "code",
   "execution_count": null,
   "id": "3a34f3fa",
   "metadata": {},
   "outputs": [],
   "source": [
    "trackerdict = demo2.calculateResults(CECMod = CECMod)"
   ]
  },
  {
   "cell_type": "code",
   "execution_count": null,
   "id": "e3383267",
   "metadata": {},
   "outputs": [],
   "source": [
    "CECMod.Adjust"
   ]
  },
  {
   "cell_type": "code",
   "execution_count": null,
   "id": "93ccd8de",
   "metadata": {},
   "outputs": [],
   "source": [
    "            print(\"Error: Mising/wrong parameters for CECMod, setting dictionary to None.\",\n",
    "                  \"MAke sure to include alpha_sc, a_ref, I_L_ref, I_o_ref, \",\n",
    "                  \"R_sh_ref, R_s, and Adjust\"\n",
    "                  \"Performance calculations, if performed, will use default module\")"
   ]
  },
  {
   "cell_type": "code",
   "execution_count": null,
   "id": "18353047",
   "metadata": {},
   "outputs": [],
   "source": [
    "demo2.exportTrackerDict(savefile=os.path.join('results','Final_Results.csv'),reindex=False)\n"
   ]
  },
  {
   "cell_type": "code",
   "execution_count": null,
   "id": "6de88fd3",
   "metadata": {},
   "outputs": [],
   "source": [
    "pd.read_csv(os.path.join('results','Final_Results.csv'))"
   ]
  }
 ],
 "metadata": {
  "kernelspec": {
   "display_name": "Python 3 (ipykernel)",
   "language": "python",
   "name": "python3"
  },
  "language_info": {
   "codemirror_mode": {
    "name": "ipython",
    "version": 3
   },
   "file_extension": ".py",
   "mimetype": "text/x-python",
   "name": "python",
   "nbconvert_exporter": "python",
   "pygments_lexer": "ipython3",
   "version": "3.8.8"
  }
 },
 "nbformat": 4,
 "nbformat_minor": 5
}
