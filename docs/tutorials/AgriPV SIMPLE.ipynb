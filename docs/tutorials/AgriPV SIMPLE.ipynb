{
 "cells": [
  {
   "cell_type": "code",
   "execution_count": null,
   "id": "211d0292",
   "metadata": {},
   "outputs": [],
   "source": [
    "rtrace\n",
    "-reflux matrix on top of rcontrib ??\n",
    "-Sesnor points and sky -- -coefficient based mehtods, instead of \n",
    "-Then animate the sky \n",
    "-View factor 3D\n",
    "\n",
    "-\n",
    "-\n",
    "--> \n",
    "\n",
    "bug fi\n",
    "\n",
    "-gendaymatrix --> -a option that gendaymatrix works like gencumsky (cumulate averaged sky) \n",
    "-rcontrib \n",
    "\n",
    "\n"
   ]
  },
  {
   "cell_type": "code",
   "execution_count": null,
   "id": "99b6e5f4",
   "metadata": {},
   "outputs": [],
   "source": [
    "rcontrib --> \n",
    "\n",
    "--Finding the example of performance for the CEC -- :"
   ]
  },
  {
   "cell_type": "code",
   "execution_count": null,
   "id": "d3d6c12b",
   "metadata": {},
   "outputs": [],
   "source": [
    "1-ad      number of bounces (rtrace)\n",
    "coefficient base: every ray samles enough to get exposure otherwise view is very noisy.. values lower than get from rtrace.\n",
    "    Set up parameters correctly??\n",
    "    -secret link to parametric jobs to see effect.\n",
    "\n",
    "-radiance_image prep --->  image parameters\n",
    "\n",
    "github.com/ladybug-tools/honeybee\n",
    "\n",
    "ladybug.tools/radiance/image-parameters \n",
    "\n",
    "ab = real...  c not even a parameters. ab is not as important as use to be \n",
    "\n",
    "rtrace\n",
    "rcontrib ---> \n",
    "rflux matrix\n",
    "\n",
    "\n",
    "Mostapha Roudsari --> \n",
    "Chris -->  \n",
    "\n",
    "-Perofrmance py example           -=-- CEC ... etc .\n",
    "-Send some slides of the PAR calculations and metrics that we use\n",
    "-Mostapha - send link to sample files for running two-phase biphase --- PDF. (just two-phase)\n",
    "-View Factor --> ::: dynamic. \n",
    "-Pre-sampling         \n",
    "\n",
    "\n",
    "\n"
   ]
  },
  {
   "cell_type": "markdown",
   "id": "06f817cc",
   "metadata": {},
   "source": [
    "# Single hour or Cumulative Approach"
   ]
  },
  {
   "cell_type": "code",
   "execution_count": null,
   "id": "10f85924",
   "metadata": {},
   "outputs": [],
   "source": [
    "demo = bifacial_radiance.RadianceObj('Example_AgriPV', r'C:\\users\\sayala\\Documents\\Examples\\')   # Title of the simulation and path to save files\n",
    "epwfile = demo.getEPW(lat = 37.5, lon = -77.6)  # Pull in meteorological data using pyEPW for any global lat/lon\n",
    "demo.setGround(0.2)  # Albedo -- grass is around 20% reflectance. If empty it'll use the hourly default in the weather file for hourly sims.                                                                     \n",
    "metdata = demo.readWeatherFile(epwfile, coerce_year=2021) \n",
    "fullYear = False\n",
    "if fullYear:\n",
    "    demo.genCumSky() # entire year.\n",
    "else:\n",
    "    timeindex = metdata.datetime.index(pd.to_datetime('2001-06-17 12:0:0 -7'))\n",
    "    demo.gendaylit(timeindex) \n",
    "module = demo.makeModule(name='Longi',x=1.695, y=0.984)  # Many more characteristics can be addedp rogramatically\n",
    "sceneDict = {'tilt':10,'pitch':3,'clearance_height':0.2,'azimuth':180, 'nMods': 1, 'nRows': 1}  # Some other roptions of inputs availalbe as well\n",
    "scene = demo.makeScene(module,sceneDict)\n",
    "octfile = demo.makeOct()  \n",
    "analysis = AnalysisObj(octfile, demo.basename)\n",
    "frontscan, backscan = analysis.moduleAnalysis(scene=scene,sensorsx = [1, 1],sensorsy=[10, 10])\n",
    "\n",
    "# This part needs is set to become an internal routine for Ground study:\n",
    "groundscan = frontscan.copy() \n",
    "groundscan['zstart'] = 0.05 # Place sensors close to the ground\n",
    "groundscan['zinc'] = 0  # Do not move sensors up following the tilt of the panel, as the ground is flat.\n",
    "groundscan['orient'] = '0 0 -1'  # Orient sensors excatly down \n",
    "groundscan['yinc'] = 3/9  # 3 pitch divided by (10-1) sensors -- increase the spacing between samples so it goes from one row to the next. \n",
    "\n",
    "analysis.analysis(octfile, name=sim_name+'_Module_Analysis', frontscan=frontscan, backscan=backscan)\n",
    "analysis.analysis(octfile, name=sim_name+'_Ground_Analysis', frontscan=groundscan, backscan=backscan)                                     "
   ]
  },
  {
   "cell_type": "markdown",
   "id": "8f37b3fb",
   "metadata": {},
   "source": [
    "Other things that you can do on this approach:\n",
    "    <ul>\n",
    "<li>    xgap, ygap, number of modules in collector (i.e. 3-up), automatic torquetube addition\n",
    "<li>    Have multiple configurations of rows, using a sceneObj for each one with different originx and originy locations\n",
    "<li>    Routines to add piles and custom objects\n",
    "<li>    Routines for analyzing irradinace on the slope or the full area of any panel in the array, etc. with as much resolution as wanted (defualt is slope, 9 sampling points (a.k.a. 'sensors') \n",
    "<li>    Irradiance to Performance routines (need to read results and call function)"
   ]
  },
  {
   "cell_type": "markdown",
   "id": "47720bf3",
   "metadata": {},
   "source": [
    "# Single hour or Cumulative Approach"
   ]
  },
  {
   "cell_type": "markdown",
   "id": "54a160de",
   "metadata": {},
   "source": [
    "Other things that you can do on this approach:\n",
    "\n",
    "<ul> \n",
    "    <li> Improvements:\n",
    "<ul> \n",
    "        <li>  Automatic Irradiance to Performance routines, Shading Factor and Edge Effecs calculations, which get saved nicely in a 'compiled results' excel\n",
    "</ul> \n",
    "        \n",
    "<li>     Same as above\n",
    "<ul> \n",
    "   <li>  -xgap, ygap, number of modules in collector (i.e. 3-up), automatic torquetube addition\n",
    "    <li> -Routines for analyzing irradinace on the slope or the full area of any panel in the array, etc. with as much resolution as wanted (defualt is slope, 9 sampling points (a.k.a. 'sensors') \n",
    "</ul> \n",
    "                                                                                                                                        \n",
    "<li>     Not as above:\n",
    "<ul> \n",
    "    <li>     -Can't have multiple configurations of rows (no multiple sceneObj supported at the moment)\n",
    "    <li> -xgap, ygap, number of modules in collector (i.e. 3-up), automatic torquetube addition\n",
    "    <li> -Have multiple configurations of rows, using a sceneObj for each one with different originx and originy locations\n",
    "    <li> -Routines to add piles and custom objects\n",
    "    <li> -Automatic routines for analyzing irradinace on the slope, the fun panel, etc. \n",
    "</ul> \n"
   ]
  },
  {
   "cell_type": "code",
   "execution_count": null,
   "id": "a6d2f958",
   "metadata": {},
   "outputs": [],
   "source": []
  }
 ],
 "metadata": {
  "kernelspec": {
   "display_name": "Python 3 (ipykernel)",
   "language": "python",
   "name": "python3"
  },
  "language_info": {
   "codemirror_mode": {
    "name": "ipython",
    "version": 3
   },
   "file_extension": ".py",
   "mimetype": "text/x-python",
   "name": "python",
   "nbconvert_exporter": "python",
   "pygments_lexer": "ipython3",
   "version": "3.8.8"
  }
 },
 "nbformat": 4,
 "nbformat_minor": 5
}
